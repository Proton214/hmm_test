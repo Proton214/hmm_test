{
 "cells": [
  {
   "cell_type": "code",
   "execution_count": 24,
   "metadata": {},
   "outputs": [],
   "source": [
    "import pandas as pd"
   ]
  },
  {
   "cell_type": "markdown",
   "metadata": {},
   "source": [
    "# high_data"
   ]
  },
  {
   "cell_type": "code",
   "execution_count": 25,
   "metadata": {},
   "outputs": [],
   "source": [
    "data_set = pd.read_csv(\"../원본 데이터/test_data/total_high_30_8.csv\")"
   ]
  },
  {
   "cell_type": "code",
   "execution_count": 26,
   "metadata": {},
   "outputs": [],
   "source": [
    "def cal_variable(name):\n",
    "    pre = 'pre_' + name\n",
    "    change = name + '_change'\n",
    "    data_set[pre] = data_set[name].shift(1).fillna(0)\n",
    "    data_set[change] = (data_set[name] - data_set[pre]) / data_set[pre]"
   ]
  },
  {
   "cell_type": "code",
   "execution_count": 27,
   "metadata": {},
   "outputs": [],
   "source": [
    "cal_variable('cpu/ref-cycles/')\n",
    "cal_variable('timer:hrtimer_cancel')\n",
    "cal_variable('sched:sched_stat_runtime')\n",
    "cal_variable('total')"
   ]
  },
  {
   "cell_type": "code",
   "execution_count": 28,
   "metadata": {},
   "outputs": [],
   "source": [
    "data_set.to_csv('../원본 데이터/test_data/total_high_30_8_change.csv')"
   ]
  },
  {
   "cell_type": "markdown",
   "metadata": {},
   "source": [
    "# low_data"
   ]
  },
  {
   "cell_type": "code",
   "execution_count": 29,
   "metadata": {},
   "outputs": [],
   "source": [
    "data_set = pd.read_csv(\"../원본 데이터/test_data/total_low_30_8.csv\")"
   ]
  },
  {
   "cell_type": "code",
   "execution_count": 30,
   "metadata": {},
   "outputs": [],
   "source": [
    "cal_variable('cpu/ref-cycles/')\n",
    "cal_variable('timer:hrtimer_cancel')\n",
    "cal_variable('sched:sched_stat_runtime')\n",
    "cal_variable('total')"
   ]
  },
  {
   "cell_type": "code",
   "execution_count": 31,
   "metadata": {},
   "outputs": [],
   "source": [
    "data_set.to_csv('../원본 데이터/test_data/total_low_30_8_change.csv')"
   ]
  },
  {
   "cell_type": "code",
   "execution_count": null,
   "metadata": {},
   "outputs": [],
   "source": []
  }
 ],
 "metadata": {
  "kernelspec": {
   "display_name": "Python 3",
   "language": "python",
   "name": "python3"
  },
  "language_info": {
   "codemirror_mode": {
    "name": "ipython",
    "version": 3
   },
   "file_extension": ".py",
   "mimetype": "text/x-python",
   "name": "python",
   "nbconvert_exporter": "python",
   "pygments_lexer": "ipython3",
   "version": "3.7.6"
  }
 },
 "nbformat": 4,
 "nbformat_minor": 2
}
