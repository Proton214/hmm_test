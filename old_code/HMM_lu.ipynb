{
 "cells": [
  {
   "cell_type": "code",
   "execution_count": 1,
   "metadata": {},
   "outputs": [],
   "source": [
    "import numpy as np\n",
    "import pandas as pd\n",
    "import matplotlib.pyplot as plt"
   ]
  },
  {
   "cell_type": "markdown",
   "metadata": {},
   "source": [
    "## pkg, ram, total의 전위 확률 구하기"
   ]
  },
  {
   "cell_type": "code",
   "execution_count": 2,
   "metadata": {},
   "outputs": [],
   "source": [
    "bt = pd.read_csv(\"lu.csv\")"
   ]
  },
  {
   "cell_type": "code",
   "execution_count": 3,
   "metadata": {
    "scrolled": true
   },
   "outputs": [
    {
     "data": {
      "text/html": [
       "<div>\n",
       "<style scoped>\n",
       "    .dataframe tbody tr th:only-of-type {\n",
       "        vertical-align: middle;\n",
       "    }\n",
       "\n",
       "    .dataframe tbody tr th {\n",
       "        vertical-align: top;\n",
       "    }\n",
       "\n",
       "    .dataframe thead th {\n",
       "        text-align: right;\n",
       "    }\n",
       "</style>\n",
       "<table border=\"1\" class=\"dataframe\">\n",
       "  <thead>\n",
       "    <tr style=\"text-align: right;\">\n",
       "      <th></th>\n",
       "      <th>Application</th>\n",
       "      <th>Perf_node01_task_clock</th>\n",
       "      <th>Perf_node01_cpu_bus_cycles_</th>\n",
       "      <th>Perf_node01_cpu_cpu_cycles_</th>\n",
       "      <th>Perf_node01_msr_aperf_</th>\n",
       "      <th>Perf_node01_msr_mperf_</th>\n",
       "      <th>Perf_node01_msr_tsc_</th>\n",
       "      <th>Perf_node01_cpu_ref_cycles_</th>\n",
       "      <th>Perf_node01_power_energy_pkg_</th>\n",
       "      <th>a</th>\n",
       "      <th>Perf_node01_power_energy_ram_</th>\n",
       "      <th>b</th>\n",
       "      <th>Perf_node01_power_energy_total_</th>\n",
       "      <th>c</th>\n",
       "    </tr>\n",
       "  </thead>\n",
       "  <tbody>\n",
       "    <tr>\n",
       "      <td>0</td>\n",
       "      <td>LU</td>\n",
       "      <td>Down</td>\n",
       "      <td>Up</td>\n",
       "      <td>Up</td>\n",
       "      <td>Up</td>\n",
       "      <td>Up</td>\n",
       "      <td>Down</td>\n",
       "      <td>Up</td>\n",
       "      <td>Low_Up</td>\n",
       "      <td>NaN</td>\n",
       "      <td>Low_Down</td>\n",
       "      <td>NaN</td>\n",
       "      <td>Low_Up</td>\n",
       "      <td>NaN</td>\n",
       "    </tr>\n",
       "    <tr>\n",
       "      <td>1</td>\n",
       "      <td>LU</td>\n",
       "      <td>Down</td>\n",
       "      <td>Up</td>\n",
       "      <td>Up</td>\n",
       "      <td>Up</td>\n",
       "      <td>Up</td>\n",
       "      <td>Down</td>\n",
       "      <td>Up</td>\n",
       "      <td>Low_Up</td>\n",
       "      <td>Low_Up</td>\n",
       "      <td>Low_Up</td>\n",
       "      <td>Low_Down</td>\n",
       "      <td>Low_Up</td>\n",
       "      <td>Low_Up</td>\n",
       "    </tr>\n",
       "    <tr>\n",
       "      <td>2</td>\n",
       "      <td>LU</td>\n",
       "      <td>Up</td>\n",
       "      <td>Up</td>\n",
       "      <td>Up</td>\n",
       "      <td>Up</td>\n",
       "      <td>Up</td>\n",
       "      <td>Up</td>\n",
       "      <td>Up</td>\n",
       "      <td>Low_Up</td>\n",
       "      <td>Low_Up</td>\n",
       "      <td>High_Up</td>\n",
       "      <td>Low_Up</td>\n",
       "      <td>Low_Up</td>\n",
       "      <td>Low_Up</td>\n",
       "    </tr>\n",
       "    <tr>\n",
       "      <td>3</td>\n",
       "      <td>LU</td>\n",
       "      <td>Up</td>\n",
       "      <td>Up</td>\n",
       "      <td>Up</td>\n",
       "      <td>Up</td>\n",
       "      <td>Up</td>\n",
       "      <td>Up</td>\n",
       "      <td>Up</td>\n",
       "      <td>High_Up</td>\n",
       "      <td>Low_Up</td>\n",
       "      <td>High_Up</td>\n",
       "      <td>High_Up</td>\n",
       "      <td>High_Up</td>\n",
       "      <td>Low_Up</td>\n",
       "    </tr>\n",
       "    <tr>\n",
       "      <td>4</td>\n",
       "      <td>LU</td>\n",
       "      <td>Down</td>\n",
       "      <td>Down</td>\n",
       "      <td>Down</td>\n",
       "      <td>Down</td>\n",
       "      <td>Down</td>\n",
       "      <td>Down</td>\n",
       "      <td>Down</td>\n",
       "      <td>High_Down</td>\n",
       "      <td>High_Up</td>\n",
       "      <td>High_Down</td>\n",
       "      <td>High_Up</td>\n",
       "      <td>High_Down</td>\n",
       "      <td>High_Up</td>\n",
       "    </tr>\n",
       "    <tr>\n",
       "      <td>...</td>\n",
       "      <td>...</td>\n",
       "      <td>...</td>\n",
       "      <td>...</td>\n",
       "      <td>...</td>\n",
       "      <td>...</td>\n",
       "      <td>...</td>\n",
       "      <td>...</td>\n",
       "      <td>...</td>\n",
       "      <td>...</td>\n",
       "      <td>...</td>\n",
       "      <td>...</td>\n",
       "      <td>...</td>\n",
       "      <td>...</td>\n",
       "      <td>...</td>\n",
       "    </tr>\n",
       "    <tr>\n",
       "      <td>1104</td>\n",
       "      <td>LU</td>\n",
       "      <td>Down</td>\n",
       "      <td>Down</td>\n",
       "      <td>Down</td>\n",
       "      <td>Down</td>\n",
       "      <td>Down</td>\n",
       "      <td>Same1</td>\n",
       "      <td>Down</td>\n",
       "      <td>Low_Up</td>\n",
       "      <td>Low_Down</td>\n",
       "      <td>High_Down</td>\n",
       "      <td>High_Up</td>\n",
       "      <td>Low_Down</td>\n",
       "      <td>Low_Up</td>\n",
       "    </tr>\n",
       "    <tr>\n",
       "      <td>1105</td>\n",
       "      <td>LU</td>\n",
       "      <td>Up</td>\n",
       "      <td>Up</td>\n",
       "      <td>Up</td>\n",
       "      <td>Up</td>\n",
       "      <td>Up</td>\n",
       "      <td>Up</td>\n",
       "      <td>Up</td>\n",
       "      <td>Low_Down</td>\n",
       "      <td>Low_Up</td>\n",
       "      <td>High_Up</td>\n",
       "      <td>High_Down</td>\n",
       "      <td>Low_Up</td>\n",
       "      <td>Low_Down</td>\n",
       "    </tr>\n",
       "    <tr>\n",
       "      <td>1106</td>\n",
       "      <td>LU</td>\n",
       "      <td>Up</td>\n",
       "      <td>Down</td>\n",
       "      <td>Down</td>\n",
       "      <td>Down</td>\n",
       "      <td>Down</td>\n",
       "      <td>Up</td>\n",
       "      <td>Down</td>\n",
       "      <td>High_Down</td>\n",
       "      <td>Low_Down</td>\n",
       "      <td>High_Down</td>\n",
       "      <td>High_Up</td>\n",
       "      <td>High_Down</td>\n",
       "      <td>Low_Up</td>\n",
       "    </tr>\n",
       "    <tr>\n",
       "      <td>1107</td>\n",
       "      <td>LU</td>\n",
       "      <td>Down</td>\n",
       "      <td>Down</td>\n",
       "      <td>Down</td>\n",
       "      <td>Down</td>\n",
       "      <td>Down</td>\n",
       "      <td>Down</td>\n",
       "      <td>Down</td>\n",
       "      <td>Low_Down</td>\n",
       "      <td>High_Down</td>\n",
       "      <td>High_Down</td>\n",
       "      <td>High_Down</td>\n",
       "      <td>Low_Down</td>\n",
       "      <td>High_Down</td>\n",
       "    </tr>\n",
       "    <tr>\n",
       "      <td>1108</td>\n",
       "      <td>NaN</td>\n",
       "      <td>NaN</td>\n",
       "      <td>NaN</td>\n",
       "      <td>NaN</td>\n",
       "      <td>NaN</td>\n",
       "      <td>NaN</td>\n",
       "      <td>NaN</td>\n",
       "      <td>NaN</td>\n",
       "      <td>NaN</td>\n",
       "      <td>Low_Down</td>\n",
       "      <td>NaN</td>\n",
       "      <td>High_Down</td>\n",
       "      <td>NaN</td>\n",
       "      <td>Low_Down</td>\n",
       "    </tr>\n",
       "  </tbody>\n",
       "</table>\n",
       "<p>1109 rows × 14 columns</p>\n",
       "</div>"
      ],
      "text/plain": [
       "     Application Perf_node01_task_clock Perf_node01_cpu_bus_cycles_  \\\n",
       "0             LU                   Down                          Up   \n",
       "1             LU                   Down                          Up   \n",
       "2             LU                     Up                          Up   \n",
       "3             LU                     Up                          Up   \n",
       "4             LU                   Down                        Down   \n",
       "...          ...                    ...                         ...   \n",
       "1104          LU                   Down                        Down   \n",
       "1105          LU                     Up                          Up   \n",
       "1106          LU                     Up                        Down   \n",
       "1107          LU                   Down                        Down   \n",
       "1108         NaN                    NaN                         NaN   \n",
       "\n",
       "     Perf_node01_cpu_cpu_cycles_ Perf_node01_msr_aperf_  \\\n",
       "0                             Up                     Up   \n",
       "1                             Up                     Up   \n",
       "2                             Up                     Up   \n",
       "3                             Up                     Up   \n",
       "4                           Down                   Down   \n",
       "...                          ...                    ...   \n",
       "1104                        Down                   Down   \n",
       "1105                          Up                     Up   \n",
       "1106                        Down                   Down   \n",
       "1107                        Down                   Down   \n",
       "1108                         NaN                    NaN   \n",
       "\n",
       "     Perf_node01_msr_mperf_ Perf_node01_msr_tsc_ Perf_node01_cpu_ref_cycles_  \\\n",
       "0                        Up                 Down                          Up   \n",
       "1                        Up                 Down                          Up   \n",
       "2                        Up                   Up                          Up   \n",
       "3                        Up                   Up                          Up   \n",
       "4                      Down                 Down                        Down   \n",
       "...                     ...                  ...                         ...   \n",
       "1104                   Down                Same1                        Down   \n",
       "1105                     Up                   Up                          Up   \n",
       "1106                   Down                   Up                        Down   \n",
       "1107                   Down                 Down                        Down   \n",
       "1108                    NaN                  NaN                         NaN   \n",
       "\n",
       "     Perf_node01_power_energy_pkg_          a Perf_node01_power_energy_ram_  \\\n",
       "0                           Low_Up        NaN                      Low_Down   \n",
       "1                           Low_Up     Low_Up                        Low_Up   \n",
       "2                           Low_Up     Low_Up                       High_Up   \n",
       "3                          High_Up     Low_Up                       High_Up   \n",
       "4                        High_Down    High_Up                     High_Down   \n",
       "...                            ...        ...                           ...   \n",
       "1104                        Low_Up   Low_Down                     High_Down   \n",
       "1105                      Low_Down     Low_Up                       High_Up   \n",
       "1106                     High_Down   Low_Down                     High_Down   \n",
       "1107                      Low_Down  High_Down                     High_Down   \n",
       "1108                           NaN   Low_Down                           NaN   \n",
       "\n",
       "              b Perf_node01_power_energy_total_          c  \n",
       "0           NaN                          Low_Up        NaN  \n",
       "1      Low_Down                          Low_Up     Low_Up  \n",
       "2        Low_Up                          Low_Up     Low_Up  \n",
       "3       High_Up                         High_Up     Low_Up  \n",
       "4       High_Up                       High_Down    High_Up  \n",
       "...         ...                             ...        ...  \n",
       "1104    High_Up                        Low_Down     Low_Up  \n",
       "1105  High_Down                          Low_Up   Low_Down  \n",
       "1106    High_Up                       High_Down     Low_Up  \n",
       "1107  High_Down                        Low_Down  High_Down  \n",
       "1108  High_Down                             NaN   Low_Down  \n",
       "\n",
       "[1109 rows x 14 columns]"
      ]
     },
     "execution_count": 3,
     "metadata": {},
     "output_type": "execute_result"
    }
   ],
   "source": [
    "bt"
   ]
  },
  {
   "cell_type": "markdown",
   "metadata": {},
   "source": [
    "편한 비교를 위해 만듬"
   ]
  },
  {
   "cell_type": "code",
   "execution_count": 4,
   "metadata": {
    "scrolled": true
   },
   "outputs": [],
   "source": [
    "df = bt[['Perf_node01_power_energy_pkg_', 'a']]"
   ]
  },
  {
   "cell_type": "code",
   "execution_count": 5,
   "metadata": {},
   "outputs": [],
   "source": [
    "ef = bt[['Perf_node01_power_energy_ram_', 'b']]"
   ]
  },
  {
   "cell_type": "code",
   "execution_count": 6,
   "metadata": {},
   "outputs": [],
   "source": [
    "ff = bt[['Perf_node01_power_energy_total_', 'c']]"
   ]
  },
  {
   "cell_type": "markdown",
   "metadata": {},
   "source": [
    "각 전력에 대한 전위확률 매트릭스 정의"
   ]
  },
  {
   "cell_type": "code",
   "execution_count": 7,
   "metadata": {},
   "outputs": [],
   "source": [
    "pkg_matrix = np.zeros((5,5))\n",
    "ram_matrix = np.zeros((5,5))\n",
    "total_matrix = np.zeros((5,5))"
   ]
  },
  {
   "cell_type": "markdown",
   "metadata": {},
   "source": [
    "# pkg 전위확률 계산"
   ]
  },
  {
   "cell_type": "code",
   "execution_count": 8,
   "metadata": {},
   "outputs": [
    {
     "name": "stdout",
     "output_type": "stream",
     "text": [
      "High_Up to High_Up :\n",
      " Perf_node01_power_energy_pkg_    0\n",
      "a                                0\n",
      "dtype: int64 \n",
      "\n",
      "High_Up to Low_Up :\n",
      " Perf_node01_power_energy_pkg_    2\n",
      "a                                2\n",
      "dtype: int64 \n",
      "\n",
      "High_Up to Same2 :\n",
      " Perf_node01_power_energy_pkg_    0\n",
      "a                                0\n",
      "dtype: int64 \n",
      "\n",
      "High_Up to Low_Down :\n",
      " Perf_node01_power_energy_pkg_    25\n",
      "a                                25\n",
      "dtype: int64 \n",
      "\n",
      "High_Up to High_Down :\n",
      " Perf_node01_power_energy_pkg_    361\n",
      "a                                361\n",
      "dtype: int64 \n",
      "\n"
     ]
    }
   ],
   "source": [
    "i = df.loc[(df[\"Perf_node01_power_energy_pkg_\"] == \"High_Up\") & (df[\"a\"] == \"High_Up\")].count()\n",
    "print(\"High_Up to High_Up :\\n\",i, \"\\n\")\n",
    "\n",
    "i = df.loc[(df[\"Perf_node01_power_energy_pkg_\"] == \"Low_Up\") & (df[\"a\"] == \"High_Up\")].count()\n",
    "print(\"High_Up to Low_Up :\\n\",i, \"\\n\")\n",
    "\n",
    "i = df.loc[(df[\"Perf_node01_power_energy_pkg_\"] == \"Same2\") & (df[\"a\"] == \"High_Up\")].count()\n",
    "print(\"High_Up to Same2 :\\n\",i, \"\\n\")\n",
    "\n",
    "i = df.loc[(df[\"Perf_node01_power_energy_pkg_\"] == \"Low_Down\") & (df[\"a\"] == \"High_Up\")].count()\n",
    "print(\"High_Up to Low_Down :\\n\",i, \"\\n\")\n",
    "\n",
    "i = df.loc[(df[\"Perf_node01_power_energy_pkg_\"] == \"High_Down\") & (df[\"a\"] == \"High_Up\")].count()\n",
    "print(\"High_Up to High_Down :\\n\",i, \"\\n\")"
   ]
  },
  {
   "cell_type": "code",
   "execution_count": 9,
   "metadata": {},
   "outputs": [
    {
     "name": "stdout",
     "output_type": "stream",
     "text": [
      "Low_Up to High_Up :\n",
      " Perf_node01_power_energy_pkg_    3\n",
      "a                                3\n",
      "dtype: int64 \n",
      "\n",
      "Low_Up to Low_Up :\n",
      " Perf_node01_power_energy_pkg_    17\n",
      "a                                17\n",
      "dtype: int64 \n",
      "\n",
      "Low_Up to Same2 :\n",
      " Perf_node01_power_energy_pkg_    0\n",
      "a                                0\n",
      "dtype: int64 \n",
      "\n",
      "Low_Up to Low_Down :\n",
      " Perf_node01_power_energy_pkg_    102\n",
      "a                                102\n",
      "dtype: int64 \n",
      "\n",
      "Low_Up to High_Down :\n",
      " Perf_node01_power_energy_pkg_    4\n",
      "a                                4\n",
      "dtype: int64 \n",
      "\n"
     ]
    }
   ],
   "source": [
    "i = df.loc[(df[\"Perf_node01_power_energy_pkg_\"] == \"High_Up\") & (df[\"a\"] == \"Low_Up\")].count()\n",
    "print(\"Low_Up to High_Up :\\n\",i, \"\\n\")\n",
    "\n",
    "i = df.loc[(df[\"Perf_node01_power_energy_pkg_\"] == \"Low_Up\") & (df[\"a\"] == \"Low_Up\")].count()\n",
    "print(\"Low_Up to Low_Up :\\n\",i, \"\\n\")\n",
    "\n",
    "i = df.loc[(df[\"Perf_node01_power_energy_pkg_\"] == \"Same2\") & (df[\"a\"] == \"Low_Up\")].count()\n",
    "print(\"Low_Up to Same2 :\\n\",i, \"\\n\")\n",
    "\n",
    "i = df.loc[(df[\"Perf_node01_power_energy_pkg_\"] == \"Low_Down\") & (df[\"a\"] == \"Low_Up\")].count()\n",
    "print(\"Low_Up to Low_Down :\\n\",i, \"\\n\")\n",
    "\n",
    "i = df.loc[(df[\"Perf_node01_power_energy_pkg_\"] == \"High_Down\") & (df[\"a\"] == \"Low_Up\")].count()\n",
    "print(\"Low_Up to High_Down :\\n\",i, \"\\n\")"
   ]
  },
  {
   "cell_type": "code",
   "execution_count": 10,
   "metadata": {},
   "outputs": [
    {
     "name": "stdout",
     "output_type": "stream",
     "text": [
      "Same2 to High_Up :\n",
      " Perf_node01_power_energy_pkg_    0\n",
      "a                                0\n",
      "dtype: int64 \n",
      "\n",
      "Same2 to Low_Up :\n",
      " Perf_node01_power_energy_pkg_    0\n",
      "a                                0\n",
      "dtype: int64 \n",
      "\n",
      "Same2 to Same2 :\n",
      " Perf_node01_power_energy_pkg_    0\n",
      "a                                0\n",
      "dtype: int64 \n",
      "\n",
      "Same2 to Low_Down :\n",
      " Perf_node01_power_energy_pkg_    0\n",
      "a                                0\n",
      "dtype: int64 \n",
      "\n",
      "Same2 to High_Down :\n",
      " Perf_node01_power_energy_pkg_    0\n",
      "a                                0\n",
      "dtype: int64 \n",
      "\n"
     ]
    }
   ],
   "source": [
    "i = df.loc[(df[\"Perf_node01_power_energy_pkg_\"] == \"High_Up\") & (df[\"a\"] == \"Same2\")].count()\n",
    "print(\"Same2 to High_Up :\\n\",i, \"\\n\")\n",
    "\n",
    "i = df.loc[(df[\"Perf_node01_power_energy_pkg_\"] == \"Low_Up\") & (df[\"a\"] == \"Same2\")].count()\n",
    "print(\"Same2 to Low_Up :\\n\",i, \"\\n\")\n",
    "\n",
    "i = df.loc[(df[\"Perf_node01_power_energy_pkg_\"] == \"Same2\") & (df[\"a\"] == \"Same2\")].count()\n",
    "print(\"Same2 to Same2 :\\n\",i, \"\\n\")\n",
    "\n",
    "i = df.loc[(df[\"Perf_node01_power_energy_pkg_\"] == \"Low_Down\") & (df[\"a\"] == \"Same2\")].count()\n",
    "print(\"Same2 to Low_Down :\\n\",i, \"\\n\")\n",
    "\n",
    "i = df.loc[(df[\"Perf_node01_power_energy_pkg_\"] == \"High_Down\") & (df[\"a\"] == \"Same2\")].count()\n",
    "print(\"Same2 to High_Down :\\n\",i, \"\\n\")"
   ]
  },
  {
   "cell_type": "code",
   "execution_count": 11,
   "metadata": {},
   "outputs": [
    {
     "name": "stdout",
     "output_type": "stream",
     "text": [
      "Low_Down to High_Up :\n",
      " Perf_node01_power_energy_pkg_    121\n",
      "a                                121\n",
      "dtype: int64 \n",
      "\n",
      "Low_Down to Low_Up :\n",
      " Perf_node01_power_energy_pkg_    47\n",
      "a                                47\n",
      "dtype: int64 \n",
      "\n",
      "Low_Down to Same2 :\n",
      " Perf_node01_power_energy_pkg_    0\n",
      "a                                0\n",
      "dtype: int64 \n",
      "\n",
      "Low_Down to Low_Down :\n",
      " Perf_node01_power_energy_pkg_    55\n",
      "a                                55\n",
      "dtype: int64 \n",
      "\n",
      "Low_Down to High_Down :\n",
      " Perf_node01_power_energy_pkg_    2\n",
      "a                                2\n",
      "dtype: int64 \n",
      "\n"
     ]
    }
   ],
   "source": [
    "i = df.loc[(df[\"Perf_node01_power_energy_pkg_\"] == \"High_Up\") & (df[\"a\"] == \"Low_Down\")].count()\n",
    "print(\"Low_Down to High_Up :\\n\",i, \"\\n\")\n",
    "\n",
    "i = df.loc[(df[\"Perf_node01_power_energy_pkg_\"] == \"Low_Up\") & (df[\"a\"] == \"Low_Down\")].count()\n",
    "print(\"Low_Down to Low_Up :\\n\",i, \"\\n\")\n",
    "\n",
    "i = df.loc[(df[\"Perf_node01_power_energy_pkg_\"] == \"Same2\") & (df[\"a\"] == \"Low_Down\")].count()\n",
    "print(\"Low_Down to Same2 :\\n\",i, \"\\n\")\n",
    "\n",
    "i = df.loc[(df[\"Perf_node01_power_energy_pkg_\"] == \"Low_Down\") & (df[\"a\"] == \"Low_Down\")].count()\n",
    "print(\"Low_Down to Low_Down :\\n\",i, \"\\n\")\n",
    "\n",
    "i = df.loc[(df[\"Perf_node01_power_energy_pkg_\"] == \"High_Down\") & (df[\"a\"] == \"Low_Down\")].count()\n",
    "print(\"Low_Down to High_Down :\\n\",i, \"\\n\")"
   ]
  },
  {
   "cell_type": "code",
   "execution_count": 12,
   "metadata": {
    "scrolled": false
   },
   "outputs": [
    {
     "name": "stdout",
     "output_type": "stream",
     "text": [
      "High_Down to High_Up :\n",
      " Perf_node01_power_energy_pkg_    264\n",
      "a                                264\n",
      "dtype: int64 \n",
      "\n",
      "High_Down to Low_Up :\n",
      " Perf_node01_power_energy_pkg_    59\n",
      "a                                59\n",
      "dtype: int64 \n",
      "\n",
      "High_Down to Same2 :\n",
      " Perf_node01_power_energy_pkg_    0\n",
      "a                                0\n",
      "dtype: int64 \n",
      "\n",
      "High_Down to Low_Down :\n",
      " Perf_node01_power_energy_pkg_    44\n",
      "a                                44\n",
      "dtype: int64 \n",
      "\n",
      "High_Down to High_Down :\n",
      " Perf_node01_power_energy_pkg_    1\n",
      "a                                1\n",
      "dtype: int64 \n",
      "\n"
     ]
    }
   ],
   "source": [
    "i = df.loc[(df[\"Perf_node01_power_energy_pkg_\"] == \"High_Up\") & (df[\"a\"] == \"High_Down\")].count()\n",
    "print(\"High_Down to High_Up :\\n\",i, \"\\n\")\n",
    "\n",
    "i = df.loc[(df[\"Perf_node01_power_energy_pkg_\"] == \"Low_Up\") & (df[\"a\"] == \"High_Down\")].count()\n",
    "print(\"High_Down to Low_Up :\\n\",i, \"\\n\")\n",
    "\n",
    "i = df.loc[(df[\"Perf_node01_power_energy_pkg_\"] == \"Same2\") & (df[\"a\"] == \"High_Down\")].count()\n",
    "print(\"High_Down to Same2 :\\n\",i, \"\\n\")\n",
    "\n",
    "i = df.loc[(df[\"Perf_node01_power_energy_pkg_\"] == \"Low_Down\") & (df[\"a\"] == \"High_Down\")].count()\n",
    "print(\"High_Down to Low_Down :\\n\",i, \"\\n\")\n",
    "\n",
    "i = df.loc[(df[\"Perf_node01_power_energy_pkg_\"] == \"High_Down\") & (df[\"a\"] == \"High_Down\")].count()\n",
    "print(\"High_Down to High_Down :\\n\",i, \"\\n\")"
   ]
  },
  {
   "cell_type": "code",
   "execution_count": 13,
   "metadata": {},
   "outputs": [],
   "source": [
    "pkg_matrix[0] = [0, 2/388, 0, 25/388, 361/388]\n",
    "pkg_matrix[1] = [3/126, 17/126, 0, 102/126, 4/126]\n",
    "pkg_matrix[3] = [121/225, 47/225, 0, 55/225, 2/225]\n",
    "pkg_matrix[4] = [264/368, 59/368, 0, 44/368, 1/368]"
   ]
  },
  {
   "cell_type": "code",
   "execution_count": 14,
   "metadata": {},
   "outputs": [
    {
     "data": {
      "text/plain": [
       "array([[0.        , 0.00515464, 0.        , 0.06443299, 0.93041237],\n",
       "       [0.02380952, 0.13492063, 0.        , 0.80952381, 0.03174603],\n",
       "       [0.        , 0.        , 0.        , 0.        , 0.        ],\n",
       "       [0.53777778, 0.20888889, 0.        , 0.24444444, 0.00888889],\n",
       "       [0.7173913 , 0.16032609, 0.        , 0.11956522, 0.00271739]])"
      ]
     },
     "execution_count": 14,
     "metadata": {},
     "output_type": "execute_result"
    }
   ],
   "source": [
    "pkg_matrix"
   ]
  },
  {
   "cell_type": "code",
   "execution_count": 15,
   "metadata": {},
   "outputs": [
    {
     "data": {
      "text/plain": [
       "array([[0.   , 0.005, 0.   , 0.064, 0.93 ],\n",
       "       [0.024, 0.135, 0.   , 0.81 , 0.032],\n",
       "       [0.   , 0.   , 0.   , 0.   , 0.   ],\n",
       "       [0.538, 0.209, 0.   , 0.244, 0.009],\n",
       "       [0.717, 0.16 , 0.   , 0.12 , 0.003]])"
      ]
     },
     "execution_count": 15,
     "metadata": {},
     "output_type": "execute_result"
    }
   ],
   "source": [
    "pkg_matrix = pkg_matrix.round(3)\n",
    "pkg_matrix"
   ]
  },
  {
   "cell_type": "markdown",
   "metadata": {},
   "source": [
    "# ram 전위확률 계산"
   ]
  },
  {
   "cell_type": "code",
   "execution_count": 16,
   "metadata": {},
   "outputs": [
    {
     "name": "stdout",
     "output_type": "stream",
     "text": [
      "High_Up to High_Up :\n",
      " Perf_node01_power_energy_ram_    17\n",
      "b                                17\n",
      "dtype: int64 \n",
      "\n",
      "High_Up to Low_Up :\n",
      " Perf_node01_power_energy_ram_    27\n",
      "b                                27\n",
      "dtype: int64 \n",
      "\n",
      "High_Up to Same2 :\n",
      " Perf_node01_power_energy_ram_    0\n",
      "b                                0\n",
      "dtype: int64 \n",
      "\n",
      "High_Up to Low_Down :\n",
      " Perf_node01_power_energy_ram_    64\n",
      "b                                64\n",
      "dtype: int64 \n",
      "\n",
      "High_Up to High_Down :\n",
      " Perf_node01_power_energy_ram_    328\n",
      "b                                328\n",
      "dtype: int64 \n",
      "\n"
     ]
    }
   ],
   "source": [
    "i = ef.loc[(ef[\"Perf_node01_power_energy_ram_\"] == \"High_Up\") & (ef[\"b\"] == \"High_Up\")].count()\n",
    "print(\"High_Up to High_Up :\\n\",i, \"\\n\")\n",
    "\n",
    "i = ef.loc[(ef[\"Perf_node01_power_energy_ram_\"] == \"Low_Up\") & (ef[\"b\"] == \"High_Up\")].count()\n",
    "print(\"High_Up to Low_Up :\\n\",i, \"\\n\")\n",
    "\n",
    "i = ef.loc[(ef[\"Perf_node01_power_energy_ram_\"] == \"Same2\") & (ef[\"b\"] == \"High_Up\")].count()\n",
    "print(\"High_Up to Same2 :\\n\",i, \"\\n\")\n",
    "\n",
    "i = ef.loc[(ef[\"Perf_node01_power_energy_ram_\"] == \"Low_Down\") & (ef[\"b\"] == \"High_Up\")].count()\n",
    "print(\"High_Up to Low_Down :\\n\",i, \"\\n\")\n",
    "\n",
    "i = ef.loc[(ef[\"Perf_node01_power_energy_ram_\"] == \"High_Down\") & (ef[\"b\"] == \"High_Up\")].count()\n",
    "print(\"High_Up to High_Down :\\n\",i, \"\\n\")"
   ]
  },
  {
   "cell_type": "code",
   "execution_count": 17,
   "metadata": {},
   "outputs": [
    {
     "name": "stdout",
     "output_type": "stream",
     "text": [
      "Low_Up to High_Up :\n",
      " Perf_node01_power_energy_ram_    27\n",
      "b                                27\n",
      "dtype: int64 \n",
      "\n",
      "Low_Up to Low_Up :\n",
      " Perf_node01_power_energy_ram_    26\n",
      "b                                26\n",
      "dtype: int64 \n",
      "\n",
      "Low_Up to Same2 :\n",
      " Perf_node01_power_energy_ram_    0\n",
      "b                                0\n",
      "dtype: int64 \n",
      "\n",
      "Low_Up to Low_Down :\n",
      " Perf_node01_power_energy_ram_    25\n",
      "b                                25\n",
      "dtype: int64 \n",
      "\n",
      "Low_Up to High_Down :\n",
      " Perf_node01_power_energy_ram_    52\n",
      "b                                52\n",
      "dtype: int64 \n",
      "\n"
     ]
    }
   ],
   "source": [
    "i = ef.loc[(ef[\"Perf_node01_power_energy_ram_\"] == \"High_Up\") & (ef[\"b\"] == \"Low_Up\")].count()\n",
    "print(\"Low_Up to High_Up :\\n\",i, \"\\n\")\n",
    "\n",
    "i = ef.loc[(ef[\"Perf_node01_power_energy_ram_\"] == \"Low_Up\") & (ef[\"b\"] == \"Low_Up\")].count()\n",
    "print(\"Low_Up to Low_Up :\\n\",i, \"\\n\")\n",
    "\n",
    "i = ef.loc[(ef[\"Perf_node01_power_energy_ram_\"] == \"Same2\") & (ef[\"b\"] == \"Low_Up\")].count()\n",
    "print(\"Low_Up to Same2 :\\n\",i, \"\\n\")\n",
    "\n",
    "i = ef.loc[(ef[\"Perf_node01_power_energy_ram_\"] == \"Low_Down\") & (ef[\"b\"] == \"Low_Up\")].count()\n",
    "print(\"Low_Up to Low_Down :\\n\",i, \"\\n\")\n",
    "\n",
    "i = ef.loc[(ef[\"Perf_node01_power_energy_ram_\"] == \"High_Down\") & (ef[\"b\"] == \"Low_Up\")].count()\n",
    "print(\"Low_Up to High_Down :\\n\",i, \"\\n\")"
   ]
  },
  {
   "cell_type": "code",
   "execution_count": 18,
   "metadata": {},
   "outputs": [
    {
     "name": "stdout",
     "output_type": "stream",
     "text": [
      "Same2 to High_Up :\n",
      " Perf_node01_power_energy_ram_    0\n",
      "b                                0\n",
      "dtype: int64 \n",
      "\n",
      "Same2 to Low_Up :\n",
      " Perf_node01_power_energy_ram_    0\n",
      "b                                0\n",
      "dtype: int64 \n",
      "\n",
      "Same2 to Same2 :\n",
      " Perf_node01_power_energy_ram_    0\n",
      "b                                0\n",
      "dtype: int64 \n",
      "\n",
      "Same2 to Low_Down :\n",
      " Perf_node01_power_energy_ram_    0\n",
      "b                                0\n",
      "dtype: int64 \n",
      "\n",
      "Same2 to High_Down :\n",
      " Perf_node01_power_energy_ram_    0\n",
      "b                                0\n",
      "dtype: int64 \n",
      "\n"
     ]
    }
   ],
   "source": [
    "i = ef.loc[(ef[\"Perf_node01_power_energy_ram_\"] == \"High_Up\") & (ef[\"b\"] == \"Same2\")].count()\n",
    "print(\"Same2 to High_Up :\\n\",i, \"\\n\")\n",
    "\n",
    "i = ef.loc[(ef[\"Perf_node01_power_energy_ram_\"] == \"Low_Up\") & (ef[\"b\"] == \"Same2\")].count()\n",
    "print(\"Same2 to Low_Up :\\n\",i, \"\\n\")\n",
    "\n",
    "i = ef.loc[(ef[\"Perf_node01_power_energy_ram_\"] == \"Same2\") & (ef[\"b\"] == \"Same2\")].count()\n",
    "print(\"Same2 to Same2 :\\n\",i, \"\\n\")\n",
    "\n",
    "i = ef.loc[(ef[\"Perf_node01_power_energy_ram_\"] == \"Low_Down\") & (ef[\"b\"] == \"Same2\")].count()\n",
    "print(\"Same2 to Low_Down :\\n\",i, \"\\n\")\n",
    "\n",
    "i = ef.loc[(ef[\"Perf_node01_power_energy_ram_\"] == \"High_Down\") & (ef[\"b\"] == \"Same2\")].count()\n",
    "print(\"Same2 to High_Down :\\n\",i, \"\\n\")"
   ]
  },
  {
   "cell_type": "code",
   "execution_count": 19,
   "metadata": {},
   "outputs": [
    {
     "name": "stdout",
     "output_type": "stream",
     "text": [
      "Low_Down to High_Up :\n",
      " Perf_node01_power_energy_ram_    45\n",
      "b                                45\n",
      "dtype: int64 \n",
      "\n",
      "Low_Down to Low_Up :\n",
      " Perf_node01_power_energy_ram_    38\n",
      "b                                38\n",
      "dtype: int64 \n",
      "\n",
      "Low_Down to Same2 :\n",
      " Perf_node01_power_energy_ram_    0\n",
      "b                                0\n",
      "dtype: int64 \n",
      "\n",
      "Low_Down to Low_Down :\n",
      " Perf_node01_power_energy_ram_    24\n",
      "b                                24\n",
      "dtype: int64 \n",
      "\n",
      "Low_Down to High_Down :\n",
      " Perf_node01_power_energy_ram_    25\n",
      "b                                25\n",
      "dtype: int64 \n",
      "\n"
     ]
    }
   ],
   "source": [
    "i = ef.loc[(ef[\"Perf_node01_power_energy_ram_\"] == \"High_Up\") & (ef[\"b\"] == \"Low_Down\")].count()\n",
    "print(\"Low_Down to High_Up :\\n\",i, \"\\n\")\n",
    "\n",
    "i = ef.loc[(ef[\"Perf_node01_power_energy_ram_\"] == \"Low_Up\") & (ef[\"b\"] == \"Low_Down\")].count()\n",
    "print(\"Low_Down to Low_Up :\\n\",i, \"\\n\")\n",
    "\n",
    "i = ef.loc[(ef[\"Perf_node01_power_energy_ram_\"] == \"Same2\") & (ef[\"b\"] == \"Low_Down\")].count()\n",
    "print(\"Low_Down to Same2 :\\n\",i, \"\\n\")\n",
    "\n",
    "i = ef.loc[(ef[\"Perf_node01_power_energy_ram_\"] == \"Low_Down\") & (ef[\"b\"] == \"Low_Down\")].count()\n",
    "print(\"Low_Down to Low_Down :\\n\",i, \"\\n\")\n",
    "\n",
    "i = ef.loc[(ef[\"Perf_node01_power_energy_ram_\"] == \"High_Down\") & (ef[\"b\"] == \"Low_Down\")].count()\n",
    "print(\"Low_Down to High_Down :\\n\",i, \"\\n\")"
   ]
  },
  {
   "cell_type": "code",
   "execution_count": 20,
   "metadata": {},
   "outputs": [
    {
     "name": "stdout",
     "output_type": "stream",
     "text": [
      "High_Down to High_Up :\n",
      " Perf_node01_power_energy_ram_    347\n",
      "b                                347\n",
      "dtype: int64 \n",
      "\n",
      "High_Down to Low_Up :\n",
      " Perf_node01_power_energy_ram_    39\n",
      "b                                39\n",
      "dtype: int64 \n",
      "\n",
      "High_Down to Same2 :\n",
      " Perf_node01_power_energy_ram_    0\n",
      "b                                0\n",
      "dtype: int64 \n",
      "\n",
      "High_Down to Low_Down :\n",
      " Perf_node01_power_energy_ram_    18\n",
      "b                                18\n",
      "dtype: int64 \n",
      "\n",
      "High_Down to High_Down :\n",
      " Perf_node01_power_energy_ram_    5\n",
      "b                                5\n",
      "dtype: int64 \n",
      "\n"
     ]
    }
   ],
   "source": [
    "i = ef.loc[(ef[\"Perf_node01_power_energy_ram_\"] == \"High_Up\") & (ef[\"b\"] == \"High_Down\")].count()\n",
    "print(\"High_Down to High_Up :\\n\",i, \"\\n\")\n",
    "\n",
    "i = ef.loc[(ef[\"Perf_node01_power_energy_ram_\"] == \"Low_Up\") & (ef[\"b\"] == \"High_Down\")].count()\n",
    "print(\"High_Down to Low_Up :\\n\",i, \"\\n\")\n",
    "\n",
    "i = ef.loc[(ef[\"Perf_node01_power_energy_ram_\"] == \"Same2\") & (ef[\"b\"] == \"High_Down\")].count()\n",
    "print(\"High_Down to Same2 :\\n\",i, \"\\n\")\n",
    "\n",
    "i = ef.loc[(ef[\"Perf_node01_power_energy_ram_\"] == \"Low_Down\") & (ef[\"b\"] == \"High_Down\")].count()\n",
    "print(\"High_Down to Low_Down :\\n\",i, \"\\n\")\n",
    "\n",
    "i = ef.loc[(ef[\"Perf_node01_power_energy_ram_\"] == \"High_Down\") & (ef[\"b\"] == \"High_Down\")].count()\n",
    "print(\"High_Down to High_Down :\\n\",i, \"\\n\")"
   ]
  },
  {
   "cell_type": "code",
   "execution_count": 21,
   "metadata": {},
   "outputs": [],
   "source": [
    "ram_matrix[0] = [17/436, 27/436, 0, 64/436, 328/436]\n",
    "ram_matrix[1] = [27/130, 26/130, 0, 25/130, 52/130]\n",
    "ram_matrix[3] = [45/132, 38/132, 0, 24/132, 25/132]\n",
    "ram_matrix[4] = [347/409, 39/409, 0, 18/409, 5/409]"
   ]
  },
  {
   "cell_type": "code",
   "execution_count": 22,
   "metadata": {},
   "outputs": [
    {
     "data": {
      "text/plain": [
       "array([[0.03899083, 0.06192661, 0.        , 0.14678899, 0.75229358],\n",
       "       [0.20769231, 0.2       , 0.        , 0.19230769, 0.4       ],\n",
       "       [0.        , 0.        , 0.        , 0.        , 0.        ],\n",
       "       [0.34090909, 0.28787879, 0.        , 0.18181818, 0.18939394],\n",
       "       [0.84841076, 0.09535452, 0.        , 0.04400978, 0.01222494]])"
      ]
     },
     "execution_count": 22,
     "metadata": {},
     "output_type": "execute_result"
    }
   ],
   "source": [
    "ram_matrix"
   ]
  },
  {
   "cell_type": "code",
   "execution_count": 23,
   "metadata": {},
   "outputs": [
    {
     "data": {
      "text/plain": [
       "array([[0.039, 0.062, 0.   , 0.147, 0.752],\n",
       "       [0.208, 0.2  , 0.   , 0.192, 0.4  ],\n",
       "       [0.   , 0.   , 0.   , 0.   , 0.   ],\n",
       "       [0.341, 0.288, 0.   , 0.182, 0.189],\n",
       "       [0.848, 0.095, 0.   , 0.044, 0.012]])"
      ]
     },
     "execution_count": 23,
     "metadata": {},
     "output_type": "execute_result"
    }
   ],
   "source": [
    "ram_matrix = ram_matrix.round(3)\n",
    "ram_matrix"
   ]
  },
  {
   "cell_type": "markdown",
   "metadata": {},
   "source": [
    "# total 전위확률 계산"
   ]
  },
  {
   "cell_type": "code",
   "execution_count": 24,
   "metadata": {},
   "outputs": [
    {
     "name": "stdout",
     "output_type": "stream",
     "text": [
      "High_Up to High_Up :\n",
      " Perf_node01_power_energy_total_    1\n",
      "c                                  1\n",
      "dtype: int64 \n",
      "\n",
      "High_Up to Low_Up :\n",
      " Perf_node01_power_energy_total_    2\n",
      "c                                  2\n",
      "dtype: int64 \n",
      "\n",
      "High_Up to Same2 :\n",
      " Perf_node01_power_energy_total_    0\n",
      "c                                  0\n",
      "dtype: int64 \n",
      "\n",
      "High_Up to Low_Down :\n",
      " Perf_node01_power_energy_total_    43\n",
      "c                                  43\n",
      "dtype: int64 \n",
      "\n",
      "High_Up to High_Down :\n",
      " Perf_node01_power_energy_total_    321\n",
      "c                                  321\n",
      "dtype: int64 \n",
      "\n"
     ]
    }
   ],
   "source": [
    "i = ff.loc[(ff[\"Perf_node01_power_energy_total_\"] == \"High_Up\") & (ff[\"c\"] == \"High_Up\")].count()\n",
    "print(\"High_Up to High_Up :\\n\",i, \"\\n\")\n",
    "\n",
    "i = ff.loc[(ff[\"Perf_node01_power_energy_total_\"] == \"Low_Up\") & (ff[\"c\"] == \"High_Up\")].count()\n",
    "print(\"High_Up to Low_Up :\\n\",i, \"\\n\")\n",
    "\n",
    "i = ff.loc[(ff[\"Perf_node01_power_energy_total_\"] == \"Same2\") & (ff[\"c\"] == \"High_Up\")].count()\n",
    "print(\"High_Up to Same2 :\\n\",i, \"\\n\")\n",
    "\n",
    "i = ff.loc[(ff[\"Perf_node01_power_energy_total_\"] == \"Low_Down\") & (ff[\"c\"] == \"High_Up\")].count()\n",
    "print(\"High_Up to Low_Down :\\n\",i, \"\\n\")\n",
    "\n",
    "i = ff.loc[(ff[\"Perf_node01_power_energy_total_\"] == \"High_Down\") & (ff[\"c\"] == \"High_Up\")].count()\n",
    "print(\"High_Up to High_Down :\\n\",i, \"\\n\")"
   ]
  },
  {
   "cell_type": "code",
   "execution_count": 25,
   "metadata": {},
   "outputs": [
    {
     "name": "stdout",
     "output_type": "stream",
     "text": [
      "Low_Up to High_Up :\n",
      " Perf_node01_power_energy_total_    9\n",
      "c                                  9\n",
      "dtype: int64 \n",
      "\n",
      "Low_Up to Low_Up :\n",
      " Perf_node01_power_energy_total_    32\n",
      "c                                  32\n",
      "dtype: int64 \n",
      "\n",
      "Low_Up to Same2 :\n",
      " Perf_node01_power_energy_total_    0\n",
      "c                                  0\n",
      "dtype: int64 \n",
      "\n",
      "Low_Up to Low_Down :\n",
      " Perf_node01_power_energy_total_    114\n",
      "c                                  114\n",
      "dtype: int64 \n",
      "\n",
      "Low_Up to High_Down :\n",
      " Perf_node01_power_energy_total_    13\n",
      "c                                  13\n",
      "dtype: int64 \n",
      "\n"
     ]
    }
   ],
   "source": [
    "i = ff.loc[(ff[\"Perf_node01_power_energy_total_\"] == \"High_Up\") & (ff[\"c\"] == \"Low_Up\")].count()\n",
    "print(\"Low_Up to High_Up :\\n\",i, \"\\n\")\n",
    "\n",
    "i = ff.loc[(ff[\"Perf_node01_power_energy_total_\"] == \"Low_Up\") & (ff[\"c\"] == \"Low_Up\")].count()\n",
    "print(\"Low_Up to Low_Up :\\n\",i, \"\\n\")\n",
    "\n",
    "i = ff.loc[(ff[\"Perf_node01_power_energy_total_\"] == \"Same2\") & (ff[\"c\"] == \"Low_Up\")].count()\n",
    "print(\"Low_Up to Same2 :\\n\",i, \"\\n\")\n",
    "\n",
    "i = ff.loc[(ff[\"Perf_node01_power_energy_total_\"] == \"Low_Down\") & (ff[\"c\"] == \"Low_Up\")].count()\n",
    "print(\"Low_Up to Low_Down :\\n\",i, \"\\n\")\n",
    "\n",
    "i = ff.loc[(ff[\"Perf_node01_power_energy_total_\"] == \"High_Down\") & (ff[\"c\"] == \"Low_Up\")].count()\n",
    "print(\"Low_Up to High_Down :\\n\",i, \"\\n\")"
   ]
  },
  {
   "cell_type": "code",
   "execution_count": 26,
   "metadata": {},
   "outputs": [
    {
     "name": "stdout",
     "output_type": "stream",
     "text": [
      "Same2 to High_Up :\n",
      " Perf_node01_power_energy_total_    0\n",
      "c                                  0\n",
      "dtype: int64 \n",
      "\n",
      "Same2 to Low_Up :\n",
      " Perf_node01_power_energy_total_    0\n",
      "c                                  0\n",
      "dtype: int64 \n",
      "\n",
      "Same2 to Same2 :\n",
      " Perf_node01_power_energy_total_    0\n",
      "c                                  0\n",
      "dtype: int64 \n",
      "\n",
      "Same2 to Low_Down :\n",
      " Perf_node01_power_energy_total_    0\n",
      "c                                  0\n",
      "dtype: int64 \n",
      "\n",
      "Same2 to High_Down :\n",
      " Perf_node01_power_energy_total_    0\n",
      "c                                  0\n",
      "dtype: int64 \n",
      "\n"
     ]
    }
   ],
   "source": [
    "i = ff.loc[(ff[\"Perf_node01_power_energy_total_\"] == \"High_Up\") & (ff[\"c\"] == \"Same2\")].count()\n",
    "print(\"Same2 to High_Up :\\n\",i, \"\\n\")\n",
    "\n",
    "i = ff.loc[(ff[\"Perf_node01_power_energy_total_\"] == \"Low_Up\") & (ff[\"c\"] == \"Same2\")].count()\n",
    "print(\"Same2 to Low_Up :\\n\",i, \"\\n\")\n",
    "\n",
    "i = ff.loc[(ff[\"Perf_node01_power_energy_total_\"] == \"Same2\") & (ff[\"c\"] == \"Same2\")].count()\n",
    "print(\"Same2 to Same2 :\\n\",i, \"\\n\")\n",
    "\n",
    "i = ff.loc[(ff[\"Perf_node01_power_energy_total_\"] == \"Low_Down\") & (ff[\"c\"] == \"Same2\")].count()\n",
    "print(\"Same2 to Low_Down :\\n\",i, \"\\n\")\n",
    "\n",
    "i = ff.loc[(ff[\"Perf_node01_power_energy_total_\"] == \"High_Down\") & (ff[\"c\"] == \"Same2\")].count()\n",
    "print(\"Same2 to High_Down :\\n\",i, \"\\n\")"
   ]
  },
  {
   "cell_type": "code",
   "execution_count": 27,
   "metadata": {},
   "outputs": [
    {
     "name": "stdout",
     "output_type": "stream",
     "text": [
      "Low_Down to High_Up :\n",
      " Perf_node01_power_energy_total_    133\n",
      "c                                  133\n",
      "dtype: int64 \n",
      "\n",
      "Low_Down to Low_Up :\n",
      " Perf_node01_power_energy_total_    58\n",
      "c                                  58\n",
      "dtype: int64 \n",
      "\n",
      "Low_Down to Same2 :\n",
      " Perf_node01_power_energy_total_    0\n",
      "c                                  0\n",
      "dtype: int64 \n",
      "\n",
      "Low_Down to Low_Down :\n",
      " Perf_node01_power_energy_total_    46\n",
      "c                                  46\n",
      "dtype: int64 \n",
      "\n",
      "Low_Down to High_Down :\n",
      " Perf_node01_power_energy_total_    0\n",
      "c                                  0\n",
      "dtype: int64 \n",
      "\n"
     ]
    }
   ],
   "source": [
    "i = ff.loc[(ff[\"Perf_node01_power_energy_total_\"] == \"High_Up\") & (ff[\"c\"] == \"Low_Down\")].count()\n",
    "print(\"Low_Down to High_Up :\\n\",i, \"\\n\")\n",
    "\n",
    "i = ff.loc[(ff[\"Perf_node01_power_energy_total_\"] == \"Low_Up\") & (ff[\"c\"] == \"Low_Down\")].count()\n",
    "print(\"Low_Down to Low_Up :\\n\",i, \"\\n\")\n",
    "\n",
    "i = ff.loc[(ff[\"Perf_node01_power_energy_total_\"] == \"Same2\") & (ff[\"c\"] == \"Low_Down\")].count()\n",
    "print(\"Low_Down to Same2 :\\n\",i, \"\\n\")\n",
    "\n",
    "i = ff.loc[(ff[\"Perf_node01_power_energy_total_\"] == \"Low_Down\") & (ff[\"c\"] == \"Low_Down\")].count()\n",
    "print(\"Low_Down to Low_Down :\\n\",i, \"\\n\")\n",
    "\n",
    "i = ff.loc[(ff[\"Perf_node01_power_energy_total_\"] == \"High_Down\") & (ff[\"c\"] == \"Low_Down\")].count()\n",
    "print(\"Low_Down to High_Down :\\n\",i, \"\\n\")"
   ]
  },
  {
   "cell_type": "code",
   "execution_count": 28,
   "metadata": {},
   "outputs": [
    {
     "name": "stdout",
     "output_type": "stream",
     "text": [
      "High_Down to High_Up :\n",
      " Perf_node01_power_energy_total_    224\n",
      "c                                  224\n",
      "dtype: int64 \n",
      "\n",
      "High_Down to Low_Up :\n",
      " Perf_node01_power_energy_total_    75\n",
      "c                                  75\n",
      "dtype: int64 \n",
      "\n",
      "High_Down to Same2 :\n",
      " Perf_node01_power_energy_total_    0\n",
      "c                                  0\n",
      "dtype: int64 \n",
      "\n",
      "High_Down to Low_Down :\n",
      " Perf_node01_power_energy_total_    35\n",
      "c                                  35\n",
      "dtype: int64 \n",
      "\n",
      "High_Down to High_Down :\n",
      " Perf_node01_power_energy_total_    1\n",
      "c                                  1\n",
      "dtype: int64 \n",
      "\n"
     ]
    }
   ],
   "source": [
    "i = ff.loc[(ff[\"Perf_node01_power_energy_total_\"] == \"High_Up\") & (ff[\"c\"] == \"High_Down\")].count()\n",
    "print(\"High_Down to High_Up :\\n\",i, \"\\n\")\n",
    "\n",
    "i = ff.loc[(ff[\"Perf_node01_power_energy_total_\"] == \"Low_Up\") & (ff[\"c\"] == \"High_Down\")].count()\n",
    "print(\"High_Down to Low_Up :\\n\",i, \"\\n\")\n",
    "\n",
    "i = ff.loc[(ff[\"Perf_node01_power_energy_total_\"] == \"Same2\") & (ff[\"c\"] == \"High_Down\")].count()\n",
    "print(\"High_Down to Same2 :\\n\",i, \"\\n\")\n",
    "\n",
    "i = ff.loc[(ff[\"Perf_node01_power_energy_total_\"] == \"Low_Down\") & (ff[\"c\"] == \"High_Down\")].count()\n",
    "print(\"High_Down to Low_Down :\\n\",i, \"\\n\")\n",
    "\n",
    "i = ff.loc[(ff[\"Perf_node01_power_energy_total_\"] == \"High_Down\") & (ff[\"c\"] == \"High_Down\")].count()\n",
    "print(\"High_Down to High_Down :\\n\",i, \"\\n\")"
   ]
  },
  {
   "cell_type": "code",
   "execution_count": 29,
   "metadata": {},
   "outputs": [],
   "source": [
    "total_matrix[0] = [1/367, 2/367, 0, 43/367, 321/367]\n",
    "total_matrix[1] = [9/168, 32/168, 0, 114/168, 13/168]\n",
    "total_matrix[3] = [133/237, 58/237, 0, 46/237, 0]\n",
    "total_matrix[4] = [224/335, 75/335, 0, 35/335, 1/335]"
   ]
  },
  {
   "cell_type": "code",
   "execution_count": 30,
   "metadata": {},
   "outputs": [
    {
     "data": {
      "text/plain": [
       "array([[0.0027248 , 0.00544959, 0.        , 0.11716621, 0.8746594 ],\n",
       "       [0.05357143, 0.19047619, 0.        , 0.67857143, 0.07738095],\n",
       "       [0.        , 0.        , 0.        , 0.        , 0.        ],\n",
       "       [0.56118143, 0.24472574, 0.        , 0.19409283, 0.        ],\n",
       "       [0.66865672, 0.2238806 , 0.        , 0.10447761, 0.00298507]])"
      ]
     },
     "execution_count": 30,
     "metadata": {},
     "output_type": "execute_result"
    }
   ],
   "source": [
    "total_matrix"
   ]
  },
  {
   "cell_type": "code",
   "execution_count": 31,
   "metadata": {},
   "outputs": [
    {
     "data": {
      "text/plain": [
       "array([[0.003, 0.005, 0.   , 0.117, 0.875],\n",
       "       [0.054, 0.19 , 0.   , 0.679, 0.077],\n",
       "       [0.   , 0.   , 0.   , 0.   , 0.   ],\n",
       "       [0.561, 0.245, 0.   , 0.194, 0.   ],\n",
       "       [0.669, 0.224, 0.   , 0.104, 0.003]])"
      ]
     },
     "execution_count": 31,
     "metadata": {},
     "output_type": "execute_result"
    }
   ],
   "source": [
    "total_matrix = total_matrix.round(3)\n",
    "total_matrix"
   ]
  },
  {
   "cell_type": "markdown",
   "metadata": {},
   "source": [
    "# 결론"
   ]
  },
  {
   "cell_type": "code",
   "execution_count": 32,
   "metadata": {},
   "outputs": [
    {
     "name": "stdout",
     "output_type": "stream",
     "text": [
      "[[0.    0.005 0.    0.064 0.93 ]\n",
      " [0.024 0.135 0.    0.81  0.032]\n",
      " [0.    0.    0.    0.    0.   ]\n",
      " [0.538 0.209 0.    0.244 0.009]\n",
      " [0.717 0.16  0.    0.12  0.003]]\n",
      "[[0.039 0.062 0.    0.147 0.752]\n",
      " [0.208 0.2   0.    0.192 0.4  ]\n",
      " [0.    0.    0.    0.    0.   ]\n",
      " [0.341 0.288 0.    0.182 0.189]\n",
      " [0.848 0.095 0.    0.044 0.012]]\n",
      "[[0.003 0.005 0.    0.117 0.875]\n",
      " [0.054 0.19  0.    0.679 0.077]\n",
      " [0.    0.    0.    0.    0.   ]\n",
      " [0.561 0.245 0.    0.194 0.   ]\n",
      " [0.669 0.224 0.    0.104 0.003]]\n"
     ]
    }
   ],
   "source": [
    "print(pkg_matrix)\n",
    "print(ram_matrix)\n",
    "print(total_matrix)"
   ]
  },
  {
   "cell_type": "code",
   "execution_count": null,
   "metadata": {},
   "outputs": [],
   "source": []
  }
 ],
 "metadata": {
  "kernelspec": {
   "display_name": "Python 3",
   "language": "python",
   "name": "python3"
  },
  "language_info": {
   "codemirror_mode": {
    "name": "ipython",
    "version": 3
   },
   "file_extension": ".py",
   "mimetype": "text/x-python",
   "name": "python",
   "nbconvert_exporter": "python",
   "pygments_lexer": "ipython3",
   "version": "3.7.4"
  }
 },
 "nbformat": 4,
 "nbformat_minor": 2
}
