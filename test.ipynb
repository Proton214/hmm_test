{
 "cells": [
  {
   "cell_type": "code",
   "execution_count": 40,
   "metadata": {},
   "outputs": [],
   "source": [
    "import numpy as np\n",
    "import pandas as pd\n",
    "from hmmlearn import hmm"
   ]
  },
  {
   "cell_type": "code",
   "execution_count": 41,
   "metadata": {},
   "outputs": [],
   "source": [
    "states = ['High_Down', 'Low_Down', 'Low_Up', 'High_Up']\n",
    "n_states = len(states)"
   ]
  },
  {
   "cell_type": "code",
   "execution_count": 42,
   "metadata": {},
   "outputs": [],
   "source": [
    "observations = [\"uuu\", \"uud\", \"udu\", \"udd\", \"duu\", \"dud\", \"ddu\" \"ddd\"]\n",
    "n_observations = len(observations)"
   ]
  },
  {
   "cell_type": "code",
   "execution_count": 43,
   "metadata": {},
   "outputs": [],
   "source": [
    "model = hmm.MultinomialHMM(n_components=n_states, verbose='True', init_params=\"\",  n_iter=100, tol=0.0001)"
   ]
  },
  {
   "cell_type": "code",
   "execution_count": 44,
   "metadata": {},
   "outputs": [],
   "source": [
    "model.startprob_ = np.array([0.403, 0.366, 0.117, 0.114])"
   ]
  },
  {
   "cell_type": "code",
   "execution_count": 45,
   "metadata": {},
   "outputs": [],
   "source": [
    "model.transprob_ = np.array([\n",
    "    [0.028, 0.228, 0.404, 0.34 ],\n",
    "    [0.021, 0.246, 0.616, 0.117],\n",
    "    [0.052, 0.569, 0.304, 0.075],\n",
    "    [0.744, 0.175, 0.07 , 0.011]\n",
    "])"
   ]
  },
  {
   "cell_type": "code",
   "execution_count": 46,
   "metadata": {},
   "outputs": [],
   "source": [
    "model.emissionprob_ = np.array([\n",
    "  [0.1, 0.4, 0., 0.2, 0.3, 0.2, 0.5, 0.4],\n",
    "  [0.6, 0., 0.1, 0.2, 0.3, 0.2, 0.5, 0.4],\n",
    "  [0.1, 0.4, 0., 0.2, 0.3, 0.2, 0.5, 0.4],\n",
    "  [0., 0.3, 0.1, 0.2, 0.3, 0.2, 0.5, 0.4]\n",
    "])"
   ]
  },
  {
   "cell_type": "code",
   "execution_count": 47,
   "metadata": {},
   "outputs": [],
   "source": [
    "\n",
    "# predict a sequence of hidden states based on visible states\n",
    "bob_says = np.array([[0,1,5,3,5,7,3,1,2,3,1,5,6,2,1,2]]).T\n",
    "\n"
   ]
  },
  {
   "cell_type": "code",
   "execution_count": 48,
   "metadata": {},
   "outputs": [
    {
     "name": "stderr",
     "output_type": "stream",
     "text": [
      "Fitting a model with 43 free scalar parameters with only 16 data points will result in a degenerate solution.\n",
      "         1         -26.7206             +nan\n",
      "         2         -27.5683          -0.8477\n"
     ]
    }
   ],
   "source": [
    "model = model.fit(bob_says)\n"
   ]
  },
  {
   "cell_type": "code",
   "execution_count": 49,
   "metadata": {},
   "outputs": [],
   "source": [
    "logprob, alice_hears = model.decode(bob_says, algorithm=\"viterbi\")"
   ]
  },
  {
   "cell_type": "code",
   "execution_count": 50,
   "metadata": {},
   "outputs": [
    {
     "name": "stdout",
     "output_type": "stream",
     "text": [
      "Alice hears: Low_Down, Low_Up, Low_Down, Low_Up, Low_Down, Low_Up, Low_Down, Low_Up, High_Up, High_Up, Low_Up, Low_Down, Low_Up, Low_Down, Low_Up, High_Up\n"
     ]
    }
   ],
   "source": [
    "#print(\"Bob says:\", \", \".join(map(lambda x: observations[int(x)], bob_says)))\n",
    "print(\"Alice hears:\", \", \".join(map(lambda x: states[int(x)], alice_hears)))"
   ]
  },
  {
   "cell_type": "code",
   "execution_count": 51,
   "metadata": {},
   "outputs": [
    {
     "data": {
      "text/plain": [
       "array([[0.177, 0.286, 0.183, 0.354],\n",
       "       [0.335, 0.079, 0.345, 0.241],\n",
       "       [0.172, 0.296, 0.177, 0.355],\n",
       "       [0.232, 0.216, 0.24 , 0.313]])"
      ]
     },
     "execution_count": 51,
     "metadata": {},
     "output_type": "execute_result"
    }
   ],
   "source": [
    "np.set_printoptions(precision=3, suppress=True)\n",
    "model.transmat_"
   ]
  },
  {
   "cell_type": "code",
   "execution_count": 52,
   "metadata": {},
   "outputs": [],
   "source": [
    "states = model.predict(bob_says)\n",
    "from sklearn.utils import check_random_state"
   ]
  },
  {
   "cell_type": "code",
   "execution_count": 53,
   "metadata": {},
   "outputs": [
    {
     "data": {
      "text/plain": [
       "array([1, 2, 1, 2, 1, 2, 1, 2, 3, 3, 2, 1, 2, 1, 2, 3])"
      ]
     },
     "execution_count": 53,
     "metadata": {},
     "output_type": "execute_result"
    }
   ],
   "source": [
    "states"
   ]
  },
  {
   "cell_type": "code",
   "execution_count": 54,
   "metadata": {},
   "outputs": [],
   "source": [
    "transmat_cdf = np.cumsum(model.transmat_, axis=1)"
   ]
  },
  {
   "cell_type": "code",
   "execution_count": 57,
   "metadata": {},
   "outputs": [],
   "source": [
    "# random_sate = check_random_state(model.random_state)\n",
    "# next_state = (transmat_cdf[states[-1]] > check_random_state.rand()).argmax()\n",
    "# next_obs = model._generate_sample_from_state(next_state, random_state)"
   ]
  },
  {
   "cell_type": "code",
   "execution_count": 58,
   "metadata": {},
   "outputs": [
    {
     "data": {
      "text/plain": [
       "<mtrand.RandomState at 0x17459eef678>"
      ]
     },
     "execution_count": 58,
     "metadata": {},
     "output_type": "execute_result"
    }
   ],
   "source": [
    "model.random_state"
   ]
  },
  {
   "cell_type": "code",
   "execution_count": 59,
   "metadata": {},
   "outputs": [
    {
     "data": {
      "text/plain": [
       "-26.850795312404408"
      ]
     },
     "execution_count": 59,
     "metadata": {},
     "output_type": "execute_result"
    }
   ],
   "source": [
    "model.score(bob_says)"
   ]
  },
  {
   "cell_type": "code",
   "execution_count": null,
   "metadata": {},
   "outputs": [],
   "source": []
  }
 ],
 "metadata": {
  "kernelspec": {
   "display_name": "Python 3",
   "language": "python",
   "name": "python3"
  },
  "language_info": {
   "codemirror_mode": {
    "name": "ipython",
    "version": 3
   },
   "file_extension": ".py",
   "mimetype": "text/x-python",
   "name": "python",
   "nbconvert_exporter": "python",
   "pygments_lexer": "ipython3",
   "version": "3.7.3"
  }
 },
 "nbformat": 4,
 "nbformat_minor": 2
}
