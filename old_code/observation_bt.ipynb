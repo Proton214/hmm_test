{
 "cells": [
  {
   "cell_type": "code",
   "execution_count": 3,
   "metadata": {},
   "outputs": [],
   "source": [
    "import numpy as np\n",
    "import pandas as pd\n",
    "import matplotlib.pyplot as plt"
   ]
  },
  {
   "cell_type": "code",
   "execution_count": 4,
   "metadata": {},
   "outputs": [],
   "source": [
    "bt = pd.read_csv(\"bt.csv\")"
   ]
  },
  {
   "cell_type": "code",
   "execution_count": 5,
   "metadata": {
    "scrolled": true
   },
   "outputs": [
    {
     "data": {
      "text/html": [
       "<div>\n",
       "<style scoped>\n",
       "    .dataframe tbody tr th:only-of-type {\n",
       "        vertical-align: middle;\n",
       "    }\n",
       "\n",
       "    .dataframe tbody tr th {\n",
       "        vertical-align: top;\n",
       "    }\n",
       "\n",
       "    .dataframe thead th {\n",
       "        text-align: right;\n",
       "    }\n",
       "</style>\n",
       "<table border=\"1\" class=\"dataframe\">\n",
       "  <thead>\n",
       "    <tr style=\"text-align: right;\">\n",
       "      <th></th>\n",
       "      <th>Application</th>\n",
       "      <th>Perf_node01_task_clock</th>\n",
       "      <th>Perf_node01_cpu_bus_cycles_</th>\n",
       "      <th>Perf_node01_cpu_cpu_cycles_</th>\n",
       "      <th>Perf_node01_msr_aperf_</th>\n",
       "      <th>Perf_node01_msr_mperf_</th>\n",
       "      <th>Perf_node01_msr_tsc_</th>\n",
       "      <th>Perf_node01_cpu_ref_cycles_</th>\n",
       "      <th>Perf_node01_power_energy_pkg_</th>\n",
       "      <th>a</th>\n",
       "      <th>Perf_node01_power_energy_ram_</th>\n",
       "      <th>b</th>\n",
       "      <th>Perf_node01_power_energy_total_</th>\n",
       "      <th>c</th>\n",
       "    </tr>\n",
       "  </thead>\n",
       "  <tbody>\n",
       "    <tr>\n",
       "      <td>0</td>\n",
       "      <td>BT</td>\n",
       "      <td>Down</td>\n",
       "      <td>Up</td>\n",
       "      <td>Up</td>\n",
       "      <td>Up</td>\n",
       "      <td>Up</td>\n",
       "      <td>Down</td>\n",
       "      <td>Up</td>\n",
       "      <td>Low_Up</td>\n",
       "      <td>NaN</td>\n",
       "      <td>High_Up</td>\n",
       "      <td>NaN</td>\n",
       "      <td>Low_Up</td>\n",
       "      <td>NaN</td>\n",
       "    </tr>\n",
       "    <tr>\n",
       "      <td>1</td>\n",
       "      <td>BT</td>\n",
       "      <td>Up</td>\n",
       "      <td>Up</td>\n",
       "      <td>Up</td>\n",
       "      <td>Up</td>\n",
       "      <td>Up</td>\n",
       "      <td>Up</td>\n",
       "      <td>Up</td>\n",
       "      <td>Low_Up</td>\n",
       "      <td>Low_Up</td>\n",
       "      <td>Low_Down</td>\n",
       "      <td>High_Up</td>\n",
       "      <td>Low_Up</td>\n",
       "      <td>Low_Up</td>\n",
       "    </tr>\n",
       "    <tr>\n",
       "      <td>2</td>\n",
       "      <td>BT</td>\n",
       "      <td>Up</td>\n",
       "      <td>Up</td>\n",
       "      <td>Up</td>\n",
       "      <td>Up</td>\n",
       "      <td>Up</td>\n",
       "      <td>Down</td>\n",
       "      <td>Up</td>\n",
       "      <td>Low_Up</td>\n",
       "      <td>Low_Up</td>\n",
       "      <td>Low_Down</td>\n",
       "      <td>Low_Down</td>\n",
       "      <td>Low_Up</td>\n",
       "      <td>Low_Up</td>\n",
       "    </tr>\n",
       "    <tr>\n",
       "      <td>3</td>\n",
       "      <td>BT</td>\n",
       "      <td>Up</td>\n",
       "      <td>Down</td>\n",
       "      <td>Down</td>\n",
       "      <td>Up</td>\n",
       "      <td>Up</td>\n",
       "      <td>Up</td>\n",
       "      <td>Up</td>\n",
       "      <td>Low_Up</td>\n",
       "      <td>Low_Up</td>\n",
       "      <td>High_Up</td>\n",
       "      <td>Low_Down</td>\n",
       "      <td>Low_Up</td>\n",
       "      <td>Low_Up</td>\n",
       "    </tr>\n",
       "    <tr>\n",
       "      <td>4</td>\n",
       "      <td>BT</td>\n",
       "      <td>Up</td>\n",
       "      <td>Up</td>\n",
       "      <td>Up</td>\n",
       "      <td>Up</td>\n",
       "      <td>Up</td>\n",
       "      <td>Up</td>\n",
       "      <td>Up</td>\n",
       "      <td>High_Up</td>\n",
       "      <td>Low_Up</td>\n",
       "      <td>High_Up</td>\n",
       "      <td>High_Up</td>\n",
       "      <td>High_Up</td>\n",
       "      <td>Low_Up</td>\n",
       "    </tr>\n",
       "    <tr>\n",
       "      <td>...</td>\n",
       "      <td>...</td>\n",
       "      <td>...</td>\n",
       "      <td>...</td>\n",
       "      <td>...</td>\n",
       "      <td>...</td>\n",
       "      <td>...</td>\n",
       "      <td>...</td>\n",
       "      <td>...</td>\n",
       "      <td>...</td>\n",
       "      <td>...</td>\n",
       "      <td>...</td>\n",
       "      <td>...</td>\n",
       "      <td>...</td>\n",
       "      <td>...</td>\n",
       "    </tr>\n",
       "    <tr>\n",
       "      <td>1534</td>\n",
       "      <td>BT</td>\n",
       "      <td>Down</td>\n",
       "      <td>Same1</td>\n",
       "      <td>Same1</td>\n",
       "      <td>Up</td>\n",
       "      <td>Up</td>\n",
       "      <td>Up</td>\n",
       "      <td>Up</td>\n",
       "      <td>Low_Up</td>\n",
       "      <td>Low_Up</td>\n",
       "      <td>Low_Down</td>\n",
       "      <td>High_Down</td>\n",
       "      <td>Low_Up</td>\n",
       "      <td>Low_Down</td>\n",
       "    </tr>\n",
       "    <tr>\n",
       "      <td>1535</td>\n",
       "      <td>BT</td>\n",
       "      <td>Up</td>\n",
       "      <td>Up</td>\n",
       "      <td>Up</td>\n",
       "      <td>Up</td>\n",
       "      <td>Up</td>\n",
       "      <td>Up</td>\n",
       "      <td>Up</td>\n",
       "      <td>High_Up</td>\n",
       "      <td>Low_Up</td>\n",
       "      <td>High_Up</td>\n",
       "      <td>Low_Down</td>\n",
       "      <td>High_Up</td>\n",
       "      <td>Low_Up</td>\n",
       "    </tr>\n",
       "    <tr>\n",
       "      <td>1536</td>\n",
       "      <td>BT</td>\n",
       "      <td>Up</td>\n",
       "      <td>Down</td>\n",
       "      <td>Down</td>\n",
       "      <td>Down</td>\n",
       "      <td>Down</td>\n",
       "      <td>Down</td>\n",
       "      <td>Down</td>\n",
       "      <td>High_Down</td>\n",
       "      <td>High_Up</td>\n",
       "      <td>High_Down</td>\n",
       "      <td>High_Up</td>\n",
       "      <td>High_Down</td>\n",
       "      <td>High_Up</td>\n",
       "    </tr>\n",
       "    <tr>\n",
       "      <td>1537</td>\n",
       "      <td>BT</td>\n",
       "      <td>Down</td>\n",
       "      <td>Down</td>\n",
       "      <td>Down</td>\n",
       "      <td>Down</td>\n",
       "      <td>Down</td>\n",
       "      <td>Down</td>\n",
       "      <td>Down</td>\n",
       "      <td>High_Down</td>\n",
       "      <td>High_Down</td>\n",
       "      <td>High_Down</td>\n",
       "      <td>High_Down</td>\n",
       "      <td>High_Down</td>\n",
       "      <td>High_Down</td>\n",
       "    </tr>\n",
       "    <tr>\n",
       "      <td>1538</td>\n",
       "      <td>NaN</td>\n",
       "      <td>NaN</td>\n",
       "      <td>NaN</td>\n",
       "      <td>NaN</td>\n",
       "      <td>NaN</td>\n",
       "      <td>NaN</td>\n",
       "      <td>NaN</td>\n",
       "      <td>NaN</td>\n",
       "      <td>NaN</td>\n",
       "      <td>High_Down</td>\n",
       "      <td>NaN</td>\n",
       "      <td>High_Down</td>\n",
       "      <td>NaN</td>\n",
       "      <td>High_Down</td>\n",
       "    </tr>\n",
       "  </tbody>\n",
       "</table>\n",
       "<p>1539 rows × 14 columns</p>\n",
       "</div>"
      ],
      "text/plain": [
       "     Application Perf_node01_task_clock Perf_node01_cpu_bus_cycles_  \\\n",
       "0             BT                   Down                          Up   \n",
       "1             BT                     Up                          Up   \n",
       "2             BT                     Up                          Up   \n",
       "3             BT                     Up                        Down   \n",
       "4             BT                     Up                          Up   \n",
       "...          ...                    ...                         ...   \n",
       "1534          BT                   Down                       Same1   \n",
       "1535          BT                     Up                          Up   \n",
       "1536          BT                     Up                        Down   \n",
       "1537          BT                   Down                        Down   \n",
       "1538         NaN                    NaN                         NaN   \n",
       "\n",
       "     Perf_node01_cpu_cpu_cycles_ Perf_node01_msr_aperf_  \\\n",
       "0                             Up                     Up   \n",
       "1                             Up                     Up   \n",
       "2                             Up                     Up   \n",
       "3                           Down                     Up   \n",
       "4                             Up                     Up   \n",
       "...                          ...                    ...   \n",
       "1534                       Same1                     Up   \n",
       "1535                          Up                     Up   \n",
       "1536                        Down                   Down   \n",
       "1537                        Down                   Down   \n",
       "1538                         NaN                    NaN   \n",
       "\n",
       "     Perf_node01_msr_mperf_ Perf_node01_msr_tsc_ Perf_node01_cpu_ref_cycles_  \\\n",
       "0                        Up                 Down                          Up   \n",
       "1                        Up                   Up                          Up   \n",
       "2                        Up                 Down                          Up   \n",
       "3                        Up                   Up                          Up   \n",
       "4                        Up                   Up                          Up   \n",
       "...                     ...                  ...                         ...   \n",
       "1534                     Up                   Up                          Up   \n",
       "1535                     Up                   Up                          Up   \n",
       "1536                   Down                 Down                        Down   \n",
       "1537                   Down                 Down                        Down   \n",
       "1538                    NaN                  NaN                         NaN   \n",
       "\n",
       "     Perf_node01_power_energy_pkg_          a Perf_node01_power_energy_ram_  \\\n",
       "0                           Low_Up        NaN                       High_Up   \n",
       "1                           Low_Up     Low_Up                      Low_Down   \n",
       "2                           Low_Up     Low_Up                      Low_Down   \n",
       "3                           Low_Up     Low_Up                       High_Up   \n",
       "4                          High_Up     Low_Up                       High_Up   \n",
       "...                            ...        ...                           ...   \n",
       "1534                        Low_Up     Low_Up                      Low_Down   \n",
       "1535                       High_Up     Low_Up                       High_Up   \n",
       "1536                     High_Down    High_Up                     High_Down   \n",
       "1537                     High_Down  High_Down                     High_Down   \n",
       "1538                           NaN  High_Down                           NaN   \n",
       "\n",
       "              b Perf_node01_power_energy_total_          c  \n",
       "0           NaN                          Low_Up        NaN  \n",
       "1       High_Up                          Low_Up     Low_Up  \n",
       "2      Low_Down                          Low_Up     Low_Up  \n",
       "3      Low_Down                          Low_Up     Low_Up  \n",
       "4       High_Up                         High_Up     Low_Up  \n",
       "...         ...                             ...        ...  \n",
       "1534  High_Down                          Low_Up   Low_Down  \n",
       "1535   Low_Down                         High_Up     Low_Up  \n",
       "1536    High_Up                       High_Down    High_Up  \n",
       "1537  High_Down                       High_Down  High_Down  \n",
       "1538  High_Down                             NaN  High_Down  \n",
       "\n",
       "[1539 rows x 14 columns]"
      ]
     },
     "execution_count": 5,
     "metadata": {},
     "output_type": "execute_result"
    }
   ],
   "source": [
    "bt"
   ]
  },
  {
   "cell_type": "code",
   "execution_count": 42,
   "metadata": {},
   "outputs": [],
   "source": [
    "observation = \"Perf_node01_cpu_ref_cycles_\"\n",
    "energy = \"Perf_node01_power_energy_ram_\""
   ]
  },
  {
   "cell_type": "code",
   "execution_count": 43,
   "metadata": {},
   "outputs": [],
   "source": [
    "df = bt[[observation, energy]]"
   ]
  },
  {
   "cell_type": "code",
   "execution_count": 44,
   "metadata": {},
   "outputs": [
    {
     "name": "stdout",
     "output_type": "stream",
     "text": [
      "Up :\n",
      " Perf_node01_cpu_ref_cycles_      469\n",
      "Perf_node01_power_energy_ram_    469\n",
      "dtype: int64 \n",
      "\n",
      "Same :\n",
      " Perf_node01_cpu_ref_cycles_      2\n",
      "Perf_node01_power_energy_ram_    2\n",
      "dtype: int64 \n",
      "\n",
      "Down :\n",
      " Perf_node01_cpu_ref_cycles_      12\n",
      "Perf_node01_power_energy_ram_    12\n",
      "dtype: int64 \n",
      "\n"
     ]
    }
   ],
   "source": [
    "i = df.loc[(df[energy] == \"High_Up\") & (df[observation] == \"Up\")].count()\n",
    "print(\"Up :\\n\",i, \"\\n\")\n",
    "\n",
    "i = df.loc[(df[energy] == \"High_Up\") & (df[observation] == \"Same1\")].count()\n",
    "print(\"Same :\\n\",i, \"\\n\")\n",
    "\n",
    "i = df.loc[(df[energy] == \"High_Up\") & (df[observation] == \"Down\")].count()\n",
    "print(\"Down :\\n\",i, \"\\n\")"
   ]
  },
  {
   "cell_type": "code",
   "execution_count": 45,
   "metadata": {},
   "outputs": [
    {
     "name": "stdout",
     "output_type": "stream",
     "text": [
      "Up :\n",
      " Perf_node01_cpu_ref_cycles_      77\n",
      "Perf_node01_power_energy_ram_    77\n",
      "dtype: int64 \n",
      "\n",
      "Same :\n",
      " Perf_node01_cpu_ref_cycles_      6\n",
      "Perf_node01_power_energy_ram_    6\n",
      "dtype: int64 \n",
      "\n",
      "Down :\n",
      " Perf_node01_cpu_ref_cycles_      42\n",
      "Perf_node01_power_energy_ram_    42\n",
      "dtype: int64 \n",
      "\n"
     ]
    }
   ],
   "source": [
    "i = df.loc[(df[energy] == \"Low_Up\") & (df[observation] == \"Up\")].count()\n",
    "print(\"Up :\\n\",i, \"\\n\")\n",
    "\n",
    "i = df.loc[(df[energy] == \"Low_Up\") & (df[observation] == \"Same1\")].count()\n",
    "print(\"Same :\\n\",i, \"\\n\")\n",
    "\n",
    "i = df.loc[(df[energy] == \"Low_Up\") & (df[observation] == \"Down\")].count()\n",
    "print(\"Down :\\n\",i, \"\\n\")"
   ]
  },
  {
   "cell_type": "code",
   "execution_count": 46,
   "metadata": {},
   "outputs": [
    {
     "name": "stdout",
     "output_type": "stream",
     "text": [
      "Up :\n",
      " Perf_node01_cpu_ref_cycles_      154\n",
      "Perf_node01_power_energy_ram_    154\n",
      "dtype: int64 \n",
      "\n",
      "Same :\n",
      " Perf_node01_cpu_ref_cycles_      23\n",
      "Perf_node01_power_energy_ram_    23\n",
      "dtype: int64 \n",
      "\n",
      "Down :\n",
      " Perf_node01_cpu_ref_cycles_      215\n",
      "Perf_node01_power_energy_ram_    215\n",
      "dtype: int64 \n",
      "\n"
     ]
    }
   ],
   "source": [
    "i = df.loc[(df[energy] == \"Low_Down\") & (df[observation] == \"Up\")].count()\n",
    "print(\"Up :\\n\",i, \"\\n\")\n",
    "\n",
    "i = df.loc[(df[energy] == \"Low_Down\") & (df[observation] == \"Same1\")].count()\n",
    "print(\"Same :\\n\",i, \"\\n\")\n",
    "\n",
    "i = df.loc[(df[energy] == \"Low_Down\") & (df[observation] == \"Down\")].count()\n",
    "print(\"Down :\\n\",i, \"\\n\")"
   ]
  },
  {
   "cell_type": "code",
   "execution_count": 47,
   "metadata": {},
   "outputs": [
    {
     "name": "stdout",
     "output_type": "stream",
     "text": [
      "Up :\n",
      " Perf_node01_cpu_ref_cycles_      45\n",
      "Perf_node01_power_energy_ram_    45\n",
      "dtype: int64 \n",
      "\n",
      "Same :\n",
      " Perf_node01_cpu_ref_cycles_      16\n",
      "Perf_node01_power_energy_ram_    16\n",
      "dtype: int64 \n",
      "\n",
      "Down :\n",
      " Perf_node01_cpu_ref_cycles_      474\n",
      "Perf_node01_power_energy_ram_    474\n",
      "dtype: int64 \n",
      "\n"
     ]
    }
   ],
   "source": [
    "i = df.loc[(df[energy] == \"High_Down\") & (df[observation] == \"Up\")].count()\n",
    "print(\"Up :\\n\",i, \"\\n\")\n",
    "\n",
    "i = df.loc[(df[energy] == \"High_Down\") & (df[observation] == \"Same1\")].count()\n",
    "print(\"Same :\\n\",i, \"\\n\")\n",
    "\n",
    "i = df.loc[(df[energy] == \"High_Down\") & (df[observation] == \"Down\")].count()\n",
    "print(\"Down :\\n\",i, \"\\n\")"
   ]
  },
  {
   "cell_type": "code",
   "execution_count": 42,
   "metadata": {},
   "outputs": [],
   "source": [
    "cpu_bus_matrix = np.zeros((4,3))"
   ]
  },
  {
   "cell_type": "code",
   "execution_count": 44,
   "metadata": {},
   "outputs": [],
   "source": [
    "cpu_bus_matrix[0] = [1,0,0]\n",
    "cpu_bus_matrix[1] = [64/416, 15/416, 337/416]\n",
    "cpu_bus_matrix[2] = [14/218, 4/218, 200/218]\n",
    "cpu_bus_matrix[3] = [8/457, 0, 449/457]"
   ]
  },
  {
   "cell_type": "code",
   "execution_count": 45,
   "metadata": {},
   "outputs": [
    {
     "data": {
      "text/plain": [
       "array([[1.   , 0.   , 0.   ],\n",
       "       [0.154, 0.036, 0.81 ],\n",
       "       [0.064, 0.018, 0.917],\n",
       "       [0.018, 0.   , 0.982]])"
      ]
     },
     "execution_count": 45,
     "metadata": {},
     "output_type": "execute_result"
    }
   ],
   "source": [
    "cpu_bus_matrix = cpu_bus_matrix.round(3)\n",
    "cpu_bus_matrix"
   ]
  },
  {
   "cell_type": "code",
   "execution_count": 52,
   "metadata": {},
   "outputs": [],
   "source": [
    "matrix_1 = np.zeros((4,3))\n",
    "matrix_3 = np.zeros((4,3))\n",
    "matrix_4 = np.zeros((4,3))\n",
    "matrix_5 = np.zeros((4,3))\n",
    "matrix_6 = np.zeros((4,3))\n",
    "matrix_7 = np.zeros((4,3))"
   ]
  },
  {
   "cell_type": "code",
   "execution_count": 54,
   "metadata": {},
   "outputs": [
    {
     "data": {
      "text/plain": [
       "array([[1.   , 0.   , 0.   ],\n",
       "       [0.147, 0.   , 0.853],\n",
       "       [0.101, 0.   , 0.899],\n",
       "       [0.09 , 0.   , 0.91 ]])"
      ]
     },
     "execution_count": 54,
     "metadata": {},
     "output_type": "execute_result"
    }
   ],
   "source": [
    "matrix_1[0] = [1,0,0]\n",
    "matrix_1[1] = [61/416, 0, 355/416]\n",
    "matrix_1[2] = [22/218, 0, 196/218]\n",
    "matrix_1[3] = [41/457, 0, 416/457]\n",
    "matrix_1 = matrix_1.round(3)\n",
    "matrix_1"
   ]
  },
  {
   "cell_type": "code",
   "execution_count": 61,
   "metadata": {},
   "outputs": [
    {
     "data": {
      "text/plain": [
       "array([[1.   , 0.   , 0.   ],\n",
       "       [0.159, 0.043, 0.798],\n",
       "       [0.073, 0.009, 0.917],\n",
       "       [0.013, 0.   , 0.987]])"
      ]
     },
     "execution_count": 61,
     "metadata": {},
     "output_type": "execute_result"
    }
   ],
   "source": [
    "matrix_3[0] = [1,0,0]\n",
    "matrix_3[1] = [66/416, 18/416, 332/416]\n",
    "matrix_3[2] = [16/218, 2/218, 200/218]\n",
    "matrix_3[3] = [6/457, 0, 451/457]\n",
    "matrix_3 = matrix_3.round(3)\n",
    "matrix_3"
   ]
  },
  {
   "cell_type": "code",
   "execution_count": 68,
   "metadata": {},
   "outputs": [
    {
     "data": {
      "text/plain": [
       "array([[1.   , 0.   , 0.   ],\n",
       "       [0.31 , 0.   , 0.69 ],\n",
       "       [0.069, 0.   , 0.931],\n",
       "       [0.002, 0.   , 0.998]])"
      ]
     },
     "execution_count": 68,
     "metadata": {},
     "output_type": "execute_result"
    }
   ],
   "source": [
    "matrix_4[0] = [1,0,0]\n",
    "matrix_4[1] = [129/416, 0, 287/416]\n",
    "matrix_4[2] = [15/218, 0, 203/218]\n",
    "matrix_4[3] = [1/457, 0, 456/457]\n",
    "matrix_4 = matrix_4.round(3)\n",
    "matrix_4"
   ]
  },
  {
   "cell_type": "code",
   "execution_count": 75,
   "metadata": {},
   "outputs": [
    {
     "data": {
      "text/plain": [
       "array([[1.   , 0.   , 0.   ],\n",
       "       [0.493, 0.   , 0.507],\n",
       "       [0.06 , 0.   , 0.94 ],\n",
       "       [0.   , 0.   , 1.   ]])"
      ]
     },
     "execution_count": 75,
     "metadata": {},
     "output_type": "execute_result"
    }
   ],
   "source": [
    "matrix_5[0] = [1,0,0]\n",
    "matrix_5[1] = [205/416, 0, 211/416]\n",
    "matrix_5[2] = [13/218, 0, 205/218]\n",
    "matrix_5[3] = [0,0,1]\n",
    "matrix_5 = matrix_5.round(3)\n",
    "matrix_5"
   ]
  },
  {
   "cell_type": "code",
   "execution_count": 82,
   "metadata": {},
   "outputs": [
    {
     "data": {
      "text/plain": [
       "array([[1.   , 0.   , 0.   ],\n",
       "       [0.697, 0.048, 0.255],\n",
       "       [0.083, 0.014, 0.904],\n",
       "       [0.   , 0.   , 1.   ]])"
      ]
     },
     "execution_count": 82,
     "metadata": {},
     "output_type": "execute_result"
    }
   ],
   "source": [
    "matrix_6[0] = [1,0,0]\n",
    "matrix_6[1] = [290/416, 20/416, 106/416]\n",
    "matrix_6[2] = [18/218, 3/218, 197/218]\n",
    "matrix_6[3] = [0,0,1]\n",
    "matrix_6 = matrix_6.round(3)\n",
    "matrix_6"
   ]
  },
  {
   "cell_type": "code",
   "execution_count": 89,
   "metadata": {},
   "outputs": [
    {
     "data": {
      "text/plain": [
       "array([[1.   , 0.   , 0.   ],\n",
       "       [0.673, 0.082, 0.245],\n",
       "       [0.078, 0.06 , 0.862],\n",
       "       [0.002, 0.   , 0.998]])"
      ]
     },
     "execution_count": 89,
     "metadata": {},
     "output_type": "execute_result"
    }
   ],
   "source": [
    "matrix_7[0] = [1,0,0]\n",
    "matrix_7[1] = [280/416, 34/416, 102/416]\n",
    "matrix_7[2] = [17/218, 13/218, 188/218]\n",
    "matrix_7[3] = [1/457,0,456/457]\n",
    "matrix_7 = matrix_7.round(3)\n",
    "matrix_7"
   ]
  },
  {
   "cell_type": "code",
   "execution_count": 49,
   "metadata": {},
   "outputs": [
    {
     "data": {
      "text/plain": [
       "0.9772256728778468"
      ]
     },
     "execution_count": 49,
     "metadata": {},
     "output_type": "execute_result"
    }
   ],
   "source": []
  },
  {
   "cell_type": "code",
   "execution_count": null,
   "metadata": {},
   "outputs": [],
   "source": []
  }
 ],
 "metadata": {
  "kernelspec": {
   "display_name": "Python 3",
   "language": "python",
   "name": "python3"
  },
  "language_info": {
   "codemirror_mode": {
    "name": "ipython",
    "version": 3
   },
   "file_extension": ".py",
   "mimetype": "text/x-python",
   "name": "python",
   "nbconvert_exporter": "python",
   "pygments_lexer": "ipython3",
   "version": "3.7.4"
  }
 },
 "nbformat": 4,
 "nbformat_minor": 2
}
