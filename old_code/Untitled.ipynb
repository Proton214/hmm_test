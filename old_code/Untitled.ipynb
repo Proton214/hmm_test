{
 "cells": [
  {
   "cell_type": "code",
   "execution_count": 1,
   "metadata": {},
   "outputs": [],
   "source": [
    "import numpy as np\n",
    "import pandas as pd\n",
    "import matplotlib.pyplot as plt\n",
    "from hmmlearn.hmm import GaussianHMM\n",
    "from hmmlearn.hmm import MultinomialHMM\n",
    "from hmmlearn.hmm import _BaseHMM\n",
    "from hmmlearn import hmm\n",
    "import math"
   ]
  },
  {
   "cell_type": "markdown",
   "metadata": {},
   "source": [
    "states = ('High_Up', 'Low_Up', 'Low_Down', 'High_Down')\n",
    "\n",
    "observation = (ref_cycle_up, ref_cycle_same, ref_cycle_down)"
   ]
  },
  {
   "cell_type": "code",
   "execution_count": 2,
   "metadata": {},
   "outputs": [],
   "source": [
    "x = pd.read_csv('test1.csv')"
   ]
  },
  {
   "cell_type": "code",
   "execution_count": 3,
   "metadata": {},
   "outputs": [],
   "source": [
    "x = np.atleast_2d(x.values)"
   ]
  },
  {
   "cell_type": "code",
   "execution_count": 4,
   "metadata": {},
   "outputs": [
    {
     "data": {
      "text/plain": [
       "array([[1],\n",
       "       [1],\n",
       "       [1],\n",
       "       ...,\n",
       "       [0],\n",
       "       [3],\n",
       "       [3]])"
      ]
     },
     "execution_count": 4,
     "metadata": {},
     "output_type": "execute_result"
    }
   ],
   "source": [
    "x"
   ]
  },
  {
   "cell_type": "code",
   "execution_count": 5,
   "metadata": {},
   "outputs": [],
   "source": [
    "#model = GaussianHMM(n_components=4, verbose=\"True\", n_iter=1000)\n",
    "model = MultinomialHMM(n_components=4, verbose=\"True\", n_iter=1000)"
   ]
  },
  {
   "cell_type": "code",
   "execution_count": 6,
   "metadata": {},
   "outputs": [],
   "source": [
    "model.startprob_ = np.array([0.5, 0.5, 0, 0])"
   ]
  },
  {
   "cell_type": "code",
   "execution_count": 7,
   "metadata": {},
   "outputs": [],
   "source": [
    "model.transmat_ = np.array([\n",
    " [0,0.002, 0.034, 0.964],\n",
    " [0.687, 0.161, 0.094, 0.058],\n",
    " [0.738, 0.156, 0.106, 0],\n",
    " [0, 0.687, 0.309, 0.004]\n",
    "])"
   ]
  },
  {
   "cell_type": "code",
   "execution_count": 8,
   "metadata": {},
   "outputs": [],
   "source": [
    "model.emissionprob_ = np.array([\n",
    "    [1.   , 0.   , 0.   ],\n",
    "    [0.673, 0.082, 0.245],\n",
    "    [0.078, 0.06 , 0.862],\n",
    "    [0.002, 0.   , 0.998]\n",
    "])"
   ]
  },
  {
   "cell_type": "code",
   "execution_count": 9,
   "metadata": {
    "scrolled": false
   },
   "outputs": [],
   "source": [
    "#model = GaussianHMM(n_components=4, covariance_type=\"diag\", n_iter=1000, init_params=\"cm\", verbose=\"True\")"
   ]
  },
  {
   "cell_type": "code",
   "execution_count": 10,
   "metadata": {},
   "outputs": [],
   "source": [
    "#model.startprob_ = np.array([0.5, 0.5, 0.0, 0.0])"
   ]
  },
  {
   "cell_type": "code",
   "execution_count": 11,
   "metadata": {
    "scrolled": true
   },
   "outputs": [],
   "source": [
    "#model.transmat_"
   ]
  },
  {
   "cell_type": "code",
   "execution_count": 13,
   "metadata": {
    "scrolled": false
   },
   "outputs": [
    {
     "name": "stderr",
     "output_type": "stream",
     "text": [
      "         1       -2130.3608             +nan\n",
      "         2       -2020.4350        +109.9259\n",
      "         3       -1900.3114        +120.1236\n",
      "         4       -1547.0086        +353.3028\n",
      "         5       -1063.1251        +483.8835\n",
      "         6        -871.3158        +191.8093\n",
      "         7        -825.6445         +45.6713\n",
      "         8        -813.2419         +12.4026\n",
      "         9        -808.7486          +4.4933\n",
      "        10        -807.0583          +1.6903\n",
      "        11        -806.2956          +0.7627\n",
      "        12        -805.7569          +0.5387\n",
      "        13        -805.1988          +0.5581\n",
      "        14        -804.5235          +0.6753\n",
      "        15        -803.6768          +0.8467\n",
      "        16        -802.5781          +1.0987\n",
      "        17        -801.0648          +1.5133\n",
      "        18        -798.8927          +2.1722\n",
      "        19        -795.8588          +3.0339\n",
      "        20        -792.0816          +3.7772\n",
      "        21        -788.1237          +3.9579\n",
      "        22        -784.6294          +3.4943\n",
      "        23        -781.9862          +2.6432\n",
      "        24        -780.2247          +1.7615\n",
      "        25        -778.7963          +1.4285\n",
      "        26        -776.2396          +2.5567\n",
      "        27        -770.3517          +5.8879\n",
      "        28        -761.0508          +9.3008\n",
      "        29        -750.1324         +10.9184\n",
      "        30        -741.2808          +8.8516\n",
      "        31        -737.1427          +4.1381\n",
      "        32        -735.8944          +1.2482\n",
      "        33        -735.5912          +0.3033\n",
      "        34        -735.5127          +0.0785\n",
      "        35        -735.4836          +0.0291\n",
      "        36        -735.4674          +0.0161\n",
      "        37        -735.4563          +0.0111\n",
      "        38        -735.4481          +0.0083\n"
     ]
    },
    {
     "data": {
      "text/plain": [
       "MultinomialHMM(algorithm='viterbi', init_params='ste', n_components=4,\n",
       "               n_iter=1000, params='ste',\n",
       "               random_state=RandomState(MT19937) at 0x10F19ED10,\n",
       "               startprob_prior=1.0, tol=0.01, transmat_prior=1.0,\n",
       "               verbose='True')"
      ]
     },
     "execution_count": 13,
     "metadata": {},
     "output_type": "execute_result"
    }
   ],
   "source": [
    "model.fit(x)"
   ]
  },
  {
   "cell_type": "code",
   "execution_count": 14,
   "metadata": {
    "scrolled": false
   },
   "outputs": [],
   "source": [
    "hidden_states = model.predict(x)"
   ]
  },
  {
   "cell_type": "code",
   "execution_count": 15,
   "metadata": {},
   "outputs": [
    {
     "name": "stdout",
     "output_type": "stream",
     "text": [
      "\n",
      "Hidden state 1\n",
      "\n",
      "Hidden state 2\n",
      "\n",
      "Hidden state 3\n",
      "\n",
      "Hidden state 4\n"
     ]
    }
   ],
   "source": [
    "for i in range(model.n_components):\n",
    "    print('\\nHidden state', i+1)\n",
    "    #print('Mean =', round(model.means_[i][0], 3))\n",
    "    #print('variance =', round(np.diag(model.covars_[i])[0], 3))"
   ]
  },
  {
   "cell_type": "code",
   "execution_count": 16,
   "metadata": {},
   "outputs": [
    {
     "data": {
      "image/png": "[encoded data removed]",
      "text/plain": [
       "<Figure size 432x288 with 1 Axes>"
      ]
     },
     "metadata": {
      "needs_background": "light"
     },
     "output_type": "display_data"
    }
   ],
   "source": [
    "# Generate data using model\n",
    "num_samples = 50\n",
    "samples, _ = model.sample(num_samples)\n",
    "plt.plot(np.arange(num_samples), samples[:,0], c='black')\n",
    "#plt.title('Number of components = ' + str(num_components))\n",
    "plt.show()"
   ]
  },
  {
   "cell_type": "code",
   "execution_count": 17,
   "metadata": {},
   "outputs": [
    {
     "data": {
      "text/plain": [
       "-735.4415799666699"
      ]
     },
     "execution_count": 17,
     "metadata": {},
     "output_type": "execute_result"
    }
   ],
   "source": [
    "model.score(x)"
   ]
  },
  {
   "cell_type": "code",
   "execution_count": 18,
   "metadata": {},
   "outputs": [
    {
     "data": {
      "text/plain": [
       "(-735.4415799666699, array([[0.00000000e+000, 1.00000000e+000, 1.78105161e-056,\n",
       "         3.37701630e-037],\n",
       "        [5.03915811e-043, 9.99907461e-001, 1.10605287e-040,\n",
       "         9.25388344e-005],\n",
       "        [1.65690164e-065, 1.90013113e-019, 2.35127343e-011,\n",
       "         1.00000000e+000],\n",
       "        ...,\n",
       "        [1.97283338e-105, 1.05061957e-030, 1.00000000e+000,\n",
       "         2.59807852e-023],\n",
       "        [9.99367463e-001, 6.32537218e-004, 5.21467942e-120,\n",
       "         4.63905073e-033],\n",
       "        [9.91545498e-001, 8.43691542e-003, 2.84739668e-133,\n",
       "         1.75866959e-005]]))"
      ]
     },
     "execution_count": 18,
     "metadata": {},
     "output_type": "execute_result"
    }
   ],
   "source": [
    "model.score_samples(x)"
   ]
  },
  {
   "cell_type": "code",
   "execution_count": 19,
   "metadata": {},
   "outputs": [
    {
     "data": {
      "text/plain": [
       "3.9975e-320"
      ]
     },
     "execution_count": 19,
     "metadata": {},
     "output_type": "execute_result"
    }
   ],
   "source": [
    "math.exp(model.score(x))"
   ]
  },
  {
   "cell_type": "code",
   "execution_count": 20,
   "metadata": {
    "scrolled": true
   },
   "outputs": [
    {
     "name": "stdout",
     "output_type": "stream",
     "text": [
      "4.552185539810664e-54\n",
      "[1 3 2 0 3 1 1 1]\n"
     ]
    }
   ],
   "source": [
    "logprob, seq = model.decode(np.array([[0, 0, 0, 3, 2, 1, 2, 2]]).transpose())\n",
    "print(math.exp(logprob))\n",
    "print(seq)"
   ]
  },
  {
   "cell_type": "code",
   "execution_count": 21,
   "metadata": {
    "scrolled": true
   },
   "outputs": [
    {
     "data": {
      "text/plain": [
       "-122.82398756562125"
      ]
     },
     "execution_count": 21,
     "metadata": {},
     "output_type": "execute_result"
    }
   ],
   "source": [
    "logprob"
   ]
  },
  {
   "cell_type": "code",
   "execution_count": 22,
   "metadata": {},
   "outputs": [
    {
     "data": {
      "text/plain": [
       "array([0., 1., 0., 0.])"
      ]
     },
     "execution_count": 22,
     "metadata": {},
     "output_type": "execute_result"
    }
   ],
   "source": [
    "model.startprob_.round(3)"
   ]
  },
  {
   "cell_type": "code",
   "execution_count": 23,
   "metadata": {},
   "outputs": [
    {
     "data": {
      "text/plain": [
       "array([[0.004, 0.001, 0.   , 0.995],\n",
       "       [0.   , 0.679, 0.   , 0.321],\n",
       "       [0.996, 0.004, 0.   , 0.   ],\n",
       "       [0.   , 0.06 , 0.94 , 0.   ]])"
      ]
     },
     "execution_count": 23,
     "metadata": {},
     "output_type": "execute_result"
    }
   ],
   "source": [
    "model.transmat_.round(3)"
   ]
  },
  {
   "cell_type": "code",
   "execution_count": 24,
   "metadata": {},
   "outputs": [
    {
     "data": {
      "text/plain": [
       "ConvergenceMonitor(\n",
       "    history=[-735.4563488201475, -735.4480604906615],\n",
       "    iter=38,\n",
       "    n_iter=1000,\n",
       "    tol=0.01,\n",
       "    verbose=True,\n",
       ")"
      ]
     },
     "execution_count": 24,
     "metadata": {},
     "output_type": "execute_result"
    }
   ],
   "source": [
    "model.monitor_"
   ]
  },
  {
   "cell_type": "code",
   "execution_count": 25,
   "metadata": {},
   "outputs": [],
   "source": [
    "z = model.predict(x)"
   ]
  },
  {
   "cell_type": "code",
   "execution_count": 26,
   "metadata": {},
   "outputs": [],
   "source": [
    "np.savetxt(\"asdf.csv\",z, delimiter=',')"
   ]
  },
  {
   "cell_type": "code",
   "execution_count": 27,
   "metadata": {},
   "outputs": [],
   "source": [
    "k = pd.read_csv(\"asdf.csv\")"
   ]
  },
  {
   "cell_type": "code",
   "execution_count": 28,
   "metadata": {
    "scrolled": true
   },
   "outputs": [
    {
     "data": {
      "text/html": [
       "<div>\n",
       "<style scoped>\n",
       "    .dataframe tbody tr th:only-of-type {\n",
       "        vertical-align: middle;\n",
       "    }\n",
       "\n",
       "    .dataframe tbody tr th {\n",
       "        vertical-align: top;\n",
       "    }\n",
       "\n",
       "    .dataframe thead th {\n",
       "        text-align: right;\n",
       "    }\n",
       "</style>\n",
       "<table border=\"1\" class=\"dataframe\">\n",
       "  <thead>\n",
       "    <tr style=\"text-align: right;\">\n",
       "      <th></th>\n",
       "      <th>1.000000000000000000e+00</th>\n",
       "    </tr>\n",
       "  </thead>\n",
       "  <tbody>\n",
       "    <tr>\n",
       "      <td>0</td>\n",
       "      <td>1.0</td>\n",
       "    </tr>\n",
       "    <tr>\n",
       "      <td>1</td>\n",
       "      <td>3.0</td>\n",
       "    </tr>\n",
       "    <tr>\n",
       "      <td>2</td>\n",
       "      <td>2.0</td>\n",
       "    </tr>\n",
       "    <tr>\n",
       "      <td>3</td>\n",
       "      <td>0.0</td>\n",
       "    </tr>\n",
       "    <tr>\n",
       "      <td>4</td>\n",
       "      <td>3.0</td>\n",
       "    </tr>\n",
       "    <tr>\n",
       "      <td>...</td>\n",
       "      <td>...</td>\n",
       "    </tr>\n",
       "    <tr>\n",
       "      <td>1531</td>\n",
       "      <td>1.0</td>\n",
       "    </tr>\n",
       "    <tr>\n",
       "      <td>1532</td>\n",
       "      <td>3.0</td>\n",
       "    </tr>\n",
       "    <tr>\n",
       "      <td>1533</td>\n",
       "      <td>2.0</td>\n",
       "    </tr>\n",
       "    <tr>\n",
       "      <td>1534</td>\n",
       "      <td>0.0</td>\n",
       "    </tr>\n",
       "    <tr>\n",
       "      <td>1535</td>\n",
       "      <td>0.0</td>\n",
       "    </tr>\n",
       "  </tbody>\n",
       "</table>\n",
       "<p>1536 rows × 1 columns</p>\n",
       "</div>"
      ],
      "text/plain": [
       "      1.000000000000000000e+00\n",
       "0                          1.0\n",
       "1                          3.0\n",
       "2                          2.0\n",
       "3                          0.0\n",
       "4                          3.0\n",
       "...                        ...\n",
       "1531                       1.0\n",
       "1532                       3.0\n",
       "1533                       2.0\n",
       "1534                       0.0\n",
       "1535                       0.0\n",
       "\n",
       "[1536 rows x 1 columns]"
      ]
     },
     "execution_count": 28,
     "metadata": {},
     "output_type": "execute_result"
    }
   ],
   "source": [
    "k"
   ]
  },
  {
   "cell_type": "code",
   "execution_count": 29,
   "metadata": {},
   "outputs": [],
   "source": [
    "k = np.atleast_2d(k.values)"
   ]
  },
  {
   "cell_type": "code",
   "execution_count": 30,
   "metadata": {},
   "outputs": [
    {
     "data": {
      "text/plain": [
       "array([[1.],\n",
       "       [3.],\n",
       "       [2.],\n",
       "       ...,\n",
       "       [2.],\n",
       "       [0.],\n",
       "       [0.]])"
      ]
     },
     "execution_count": 30,
     "metadata": {},
     "output_type": "execute_result"
    }
   ],
   "source": [
    "k"
   ]
  },
  {
   "cell_type": "code",
   "execution_count": 31,
   "metadata": {},
   "outputs": [
    {
     "data": {
      "image/png": "[encoded data removed]",
      "text/plain": [
       "<Figure size 432x288 with 1 Axes>"
      ]
     },
     "metadata": {
      "needs_background": "light"
     },
     "output_type": "display_data"
    }
   ],
   "source": [
    "num_samples = 50\n",
    "#samples, _ = model.sample(num_samples)\n",
    "plt.plot(np.arange(num_samples), k[:50,0], c='black')\n",
    "#plt.title('Number of components = ' + str(num_components))\n",
    "plt.show()"
   ]
  },
  {
   "cell_type": "code",
   "execution_count": null,
   "metadata": {},
   "outputs": [],
   "source": []
  }
 ],
 "metadata": {
  "kernelspec": {
   "display_name": "Python 3",
   "language": "python",
   "name": "python3"
  },
  "language_info": {
   "codemirror_mode": {
    "name": "ipython",
    "version": 3
   },
   "file_extension": ".py",
   "mimetype": "text/x-python",
   "name": "python",
   "nbconvert_exporter": "python",
   "pygments_lexer": "ipython3",
   "version": "3.7.4"
  }
 },
 "nbformat": 4,
 "nbformat_minor": 2
}
