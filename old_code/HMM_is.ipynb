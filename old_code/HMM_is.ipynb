{
 "cells": [
  {
   "cell_type": "code",
   "execution_count": 1,
   "metadata": {},
   "outputs": [],
   "source": [
    "import numpy as np\n",
    "import pandas as pd\n",
    "import matplotlib.pyplot as plt"
   ]
  },
  {
   "cell_type": "markdown",
   "metadata": {},
   "source": [
    "## pkg, ram, total의 전위 확률 구하기"
   ]
  },
  {
   "cell_type": "code",
   "execution_count": 2,
   "metadata": {},
   "outputs": [],
   "source": [
    "bt = pd.read_csv(\"is.csv\")"
   ]
  },
  {
   "cell_type": "code",
   "execution_count": 3,
   "metadata": {
    "scrolled": true
   },
   "outputs": [
    {
     "data": {
      "text/html": [
       "<div>\n",
       "<style scoped>\n",
       "    .dataframe tbody tr th:only-of-type {\n",
       "        vertical-align: middle;\n",
       "    }\n",
       "\n",
       "    .dataframe tbody tr th {\n",
       "        vertical-align: top;\n",
       "    }\n",
       "\n",
       "    .dataframe thead th {\n",
       "        text-align: right;\n",
       "    }\n",
       "</style>\n",
       "<table border=\"1\" class=\"dataframe\">\n",
       "  <thead>\n",
       "    <tr style=\"text-align: right;\">\n",
       "      <th></th>\n",
       "      <th>Application</th>\n",
       "      <th>Perf_node01_task_clock</th>\n",
       "      <th>Perf_node01_cpu_bus_cycles_</th>\n",
       "      <th>Perf_node01_cpu_cpu_cycles_</th>\n",
       "      <th>Perf_node01_msr_aperf_</th>\n",
       "      <th>Perf_node01_msr_mperf_</th>\n",
       "      <th>Perf_node01_msr_tsc_</th>\n",
       "      <th>Perf_node01_cpu_ref_cycles_</th>\n",
       "      <th>Perf_node01_power_energy_pkg_</th>\n",
       "      <th>a</th>\n",
       "      <th>Perf_node01_power_energy_ram_</th>\n",
       "      <th>b</th>\n",
       "      <th>Perf_node01_power_energy_total_</th>\n",
       "      <th>c</th>\n",
       "    </tr>\n",
       "  </thead>\n",
       "  <tbody>\n",
       "    <tr>\n",
       "      <td>0</td>\n",
       "      <td>IS</td>\n",
       "      <td>Down</td>\n",
       "      <td>Up</td>\n",
       "      <td>Up</td>\n",
       "      <td>Up</td>\n",
       "      <td>Up</td>\n",
       "      <td>Down</td>\n",
       "      <td>Up</td>\n",
       "      <td>Low_Up</td>\n",
       "      <td>NaN</td>\n",
       "      <td>Low_Up</td>\n",
       "      <td>NaN</td>\n",
       "      <td>Low_Up</td>\n",
       "      <td>NaN</td>\n",
       "    </tr>\n",
       "    <tr>\n",
       "      <td>1</td>\n",
       "      <td>IS</td>\n",
       "      <td>Up</td>\n",
       "      <td>Up</td>\n",
       "      <td>Up</td>\n",
       "      <td>Up</td>\n",
       "      <td>Up</td>\n",
       "      <td>Same1</td>\n",
       "      <td>Up</td>\n",
       "      <td>Low_Up</td>\n",
       "      <td>Low_Up</td>\n",
       "      <td>Low_Down</td>\n",
       "      <td>Low_Up</td>\n",
       "      <td>Low_Up</td>\n",
       "      <td>Low_Up</td>\n",
       "    </tr>\n",
       "    <tr>\n",
       "      <td>2</td>\n",
       "      <td>IS</td>\n",
       "      <td>Up</td>\n",
       "      <td>Up</td>\n",
       "      <td>Up</td>\n",
       "      <td>Up</td>\n",
       "      <td>Up</td>\n",
       "      <td>Up</td>\n",
       "      <td>Up</td>\n",
       "      <td>Low_Up</td>\n",
       "      <td>Low_Up</td>\n",
       "      <td>Low_Down</td>\n",
       "      <td>Low_Down</td>\n",
       "      <td>Low_Up</td>\n",
       "      <td>Low_Up</td>\n",
       "    </tr>\n",
       "    <tr>\n",
       "      <td>3</td>\n",
       "      <td>IS</td>\n",
       "      <td>Up</td>\n",
       "      <td>Up</td>\n",
       "      <td>Up</td>\n",
       "      <td>Up</td>\n",
       "      <td>Up</td>\n",
       "      <td>Up</td>\n",
       "      <td>Up</td>\n",
       "      <td>Low_Up</td>\n",
       "      <td>Low_Up</td>\n",
       "      <td>High_Up</td>\n",
       "      <td>Low_Down</td>\n",
       "      <td>Low_Up</td>\n",
       "      <td>Low_Up</td>\n",
       "    </tr>\n",
       "    <tr>\n",
       "      <td>4</td>\n",
       "      <td>IS</td>\n",
       "      <td>Down</td>\n",
       "      <td>Up</td>\n",
       "      <td>Up</td>\n",
       "      <td>Up</td>\n",
       "      <td>Up</td>\n",
       "      <td>Down</td>\n",
       "      <td>Up</td>\n",
       "      <td>Low_Up</td>\n",
       "      <td>Low_Up</td>\n",
       "      <td>Low_Down</td>\n",
       "      <td>High_Up</td>\n",
       "      <td>Low_Up</td>\n",
       "      <td>Low_Up</td>\n",
       "    </tr>\n",
       "    <tr>\n",
       "      <td>...</td>\n",
       "      <td>...</td>\n",
       "      <td>...</td>\n",
       "      <td>...</td>\n",
       "      <td>...</td>\n",
       "      <td>...</td>\n",
       "      <td>...</td>\n",
       "      <td>...</td>\n",
       "      <td>...</td>\n",
       "      <td>...</td>\n",
       "      <td>...</td>\n",
       "      <td>...</td>\n",
       "      <td>...</td>\n",
       "      <td>...</td>\n",
       "      <td>...</td>\n",
       "    </tr>\n",
       "    <tr>\n",
       "      <td>66</td>\n",
       "      <td>IS</td>\n",
       "      <td>Down</td>\n",
       "      <td>Down</td>\n",
       "      <td>Down</td>\n",
       "      <td>Down</td>\n",
       "      <td>Down</td>\n",
       "      <td>Down</td>\n",
       "      <td>Down</td>\n",
       "      <td>Low_Down</td>\n",
       "      <td>Low_Up</td>\n",
       "      <td>Low_Up</td>\n",
       "      <td>Low_Down</td>\n",
       "      <td>Low_Down</td>\n",
       "      <td>Low_Down</td>\n",
       "    </tr>\n",
       "    <tr>\n",
       "      <td>67</td>\n",
       "      <td>IS</td>\n",
       "      <td>Down</td>\n",
       "      <td>Down</td>\n",
       "      <td>Down</td>\n",
       "      <td>Down</td>\n",
       "      <td>Down</td>\n",
       "      <td>Down</td>\n",
       "      <td>Down</td>\n",
       "      <td>Low_Down</td>\n",
       "      <td>Low_Down</td>\n",
       "      <td>Low_Down</td>\n",
       "      <td>Low_Up</td>\n",
       "      <td>Low_Down</td>\n",
       "      <td>Low_Down</td>\n",
       "    </tr>\n",
       "    <tr>\n",
       "      <td>68</td>\n",
       "      <td>IS</td>\n",
       "      <td>Up</td>\n",
       "      <td>Down</td>\n",
       "      <td>Down</td>\n",
       "      <td>Down</td>\n",
       "      <td>Down</td>\n",
       "      <td>Up</td>\n",
       "      <td>Down</td>\n",
       "      <td>High_Down</td>\n",
       "      <td>Low_Down</td>\n",
       "      <td>High_Down</td>\n",
       "      <td>Low_Down</td>\n",
       "      <td>High_Down</td>\n",
       "      <td>Low_Down</td>\n",
       "    </tr>\n",
       "    <tr>\n",
       "      <td>69</td>\n",
       "      <td>IS</td>\n",
       "      <td>Down</td>\n",
       "      <td>Down</td>\n",
       "      <td>Down</td>\n",
       "      <td>Down</td>\n",
       "      <td>Down</td>\n",
       "      <td>Down</td>\n",
       "      <td>Down</td>\n",
       "      <td>Low_Up</td>\n",
       "      <td>High_Down</td>\n",
       "      <td>High_Down</td>\n",
       "      <td>High_Down</td>\n",
       "      <td>Low_Down</td>\n",
       "      <td>High_Down</td>\n",
       "    </tr>\n",
       "    <tr>\n",
       "      <td>70</td>\n",
       "      <td>NaN</td>\n",
       "      <td>NaN</td>\n",
       "      <td>NaN</td>\n",
       "      <td>NaN</td>\n",
       "      <td>NaN</td>\n",
       "      <td>NaN</td>\n",
       "      <td>NaN</td>\n",
       "      <td>NaN</td>\n",
       "      <td>NaN</td>\n",
       "      <td>Low_Up</td>\n",
       "      <td>NaN</td>\n",
       "      <td>High_Down</td>\n",
       "      <td>NaN</td>\n",
       "      <td>Low_Down</td>\n",
       "    </tr>\n",
       "  </tbody>\n",
       "</table>\n",
       "<p>71 rows × 14 columns</p>\n",
       "</div>"
      ],
      "text/plain": [
       "   Application Perf_node01_task_clock Perf_node01_cpu_bus_cycles_  \\\n",
       "0           IS                   Down                          Up   \n",
       "1           IS                     Up                          Up   \n",
       "2           IS                     Up                          Up   \n",
       "3           IS                     Up                          Up   \n",
       "4           IS                   Down                          Up   \n",
       "..         ...                    ...                         ...   \n",
       "66          IS                   Down                        Down   \n",
       "67          IS                   Down                        Down   \n",
       "68          IS                     Up                        Down   \n",
       "69          IS                   Down                        Down   \n",
       "70         NaN                    NaN                         NaN   \n",
       "\n",
       "   Perf_node01_cpu_cpu_cycles_ Perf_node01_msr_aperf_ Perf_node01_msr_mperf_  \\\n",
       "0                           Up                     Up                     Up   \n",
       "1                           Up                     Up                     Up   \n",
       "2                           Up                     Up                     Up   \n",
       "3                           Up                     Up                     Up   \n",
       "4                           Up                     Up                     Up   \n",
       "..                         ...                    ...                    ...   \n",
       "66                        Down                   Down                   Down   \n",
       "67                        Down                   Down                   Down   \n",
       "68                        Down                   Down                   Down   \n",
       "69                        Down                   Down                   Down   \n",
       "70                         NaN                    NaN                    NaN   \n",
       "\n",
       "   Perf_node01_msr_tsc_ Perf_node01_cpu_ref_cycles_  \\\n",
       "0                  Down                          Up   \n",
       "1                 Same1                          Up   \n",
       "2                    Up                          Up   \n",
       "3                    Up                          Up   \n",
       "4                  Down                          Up   \n",
       "..                  ...                         ...   \n",
       "66                 Down                        Down   \n",
       "67                 Down                        Down   \n",
       "68                   Up                        Down   \n",
       "69                 Down                        Down   \n",
       "70                  NaN                         NaN   \n",
       "\n",
       "   Perf_node01_power_energy_pkg_          a Perf_node01_power_energy_ram_  \\\n",
       "0                         Low_Up        NaN                        Low_Up   \n",
       "1                         Low_Up     Low_Up                      Low_Down   \n",
       "2                         Low_Up     Low_Up                      Low_Down   \n",
       "3                         Low_Up     Low_Up                       High_Up   \n",
       "4                         Low_Up     Low_Up                      Low_Down   \n",
       "..                           ...        ...                           ...   \n",
       "66                      Low_Down     Low_Up                        Low_Up   \n",
       "67                      Low_Down   Low_Down                      Low_Down   \n",
       "68                     High_Down   Low_Down                     High_Down   \n",
       "69                        Low_Up  High_Down                     High_Down   \n",
       "70                           NaN     Low_Up                           NaN   \n",
       "\n",
       "            b Perf_node01_power_energy_total_          c  \n",
       "0         NaN                          Low_Up        NaN  \n",
       "1      Low_Up                          Low_Up     Low_Up  \n",
       "2    Low_Down                          Low_Up     Low_Up  \n",
       "3    Low_Down                          Low_Up     Low_Up  \n",
       "4     High_Up                          Low_Up     Low_Up  \n",
       "..        ...                             ...        ...  \n",
       "66   Low_Down                        Low_Down   Low_Down  \n",
       "67     Low_Up                        Low_Down   Low_Down  \n",
       "68   Low_Down                       High_Down   Low_Down  \n",
       "69  High_Down                        Low_Down  High_Down  \n",
       "70  High_Down                             NaN   Low_Down  \n",
       "\n",
       "[71 rows x 14 columns]"
      ]
     },
     "execution_count": 3,
     "metadata": {},
     "output_type": "execute_result"
    }
   ],
   "source": [
    "bt"
   ]
  },
  {
   "cell_type": "markdown",
   "metadata": {},
   "source": [
    "편한 비교를 위해 만듬"
   ]
  },
  {
   "cell_type": "code",
   "execution_count": 4,
   "metadata": {
    "scrolled": true
   },
   "outputs": [],
   "source": [
    "df = bt[['Perf_node01_power_energy_pkg_', 'a']]"
   ]
  },
  {
   "cell_type": "code",
   "execution_count": 5,
   "metadata": {},
   "outputs": [],
   "source": [
    "ef = bt[['Perf_node01_power_energy_ram_', 'b']]"
   ]
  },
  {
   "cell_type": "code",
   "execution_count": 6,
   "metadata": {},
   "outputs": [],
   "source": [
    "ff = bt[['Perf_node01_power_energy_total_', 'c']]"
   ]
  },
  {
   "cell_type": "markdown",
   "metadata": {},
   "source": [
    "각 전력에 대한 전위확률 매트릭스 정의"
   ]
  },
  {
   "cell_type": "code",
   "execution_count": 7,
   "metadata": {},
   "outputs": [],
   "source": [
    "pkg_matrix = np.zeros((5,5))\n",
    "ram_matrix = np.zeros((5,5))\n",
    "total_matrix = np.zeros((5,5))"
   ]
  },
  {
   "cell_type": "markdown",
   "metadata": {},
   "source": [
    "# pkg 전위확률 계산"
   ]
  },
  {
   "cell_type": "code",
   "execution_count": 8,
   "metadata": {},
   "outputs": [
    {
     "name": "stdout",
     "output_type": "stream",
     "text": [
      "High_Up to High_Up :\n",
      " Perf_node01_power_energy_pkg_    0\n",
      "a                                0\n",
      "dtype: int64 \n",
      "\n",
      "High_Up to Low_Up :\n",
      " Perf_node01_power_energy_pkg_    2\n",
      "a                                2\n",
      "dtype: int64 \n",
      "\n",
      "High_Up to Same2 :\n",
      " Perf_node01_power_energy_pkg_    0\n",
      "a                                0\n",
      "dtype: int64 \n",
      "\n",
      "High_Up to Low_Down :\n",
      " Perf_node01_power_energy_pkg_    3\n",
      "a                                3\n",
      "dtype: int64 \n",
      "\n",
      "High_Up to High_Down :\n",
      " Perf_node01_power_energy_pkg_    3\n",
      "a                                3\n",
      "dtype: int64 \n",
      "\n"
     ]
    }
   ],
   "source": [
    "i = df.loc[(df[\"Perf_node01_power_energy_pkg_\"] == \"High_Up\") & (df[\"a\"] == \"High_Up\")].count()\n",
    "print(\"High_Up to High_Up :\\n\",i, \"\\n\")\n",
    "\n",
    "i = df.loc[(df[\"Perf_node01_power_energy_pkg_\"] == \"Low_Up\") & (df[\"a\"] == \"High_Up\")].count()\n",
    "print(\"High_Up to Low_Up :\\n\",i, \"\\n\")\n",
    "\n",
    "i = df.loc[(df[\"Perf_node01_power_energy_pkg_\"] == \"Same2\") & (df[\"a\"] == \"High_Up\")].count()\n",
    "print(\"High_Up to Same2 :\\n\",i, \"\\n\")\n",
    "\n",
    "i = df.loc[(df[\"Perf_node01_power_energy_pkg_\"] == \"Low_Down\") & (df[\"a\"] == \"High_Up\")].count()\n",
    "print(\"High_Up to Low_Down :\\n\",i, \"\\n\")\n",
    "\n",
    "i = df.loc[(df[\"Perf_node01_power_energy_pkg_\"] == \"High_Down\") & (df[\"a\"] == \"High_Up\")].count()\n",
    "print(\"High_Up to High_Down :\\n\",i, \"\\n\")"
   ]
  },
  {
   "cell_type": "code",
   "execution_count": 9,
   "metadata": {},
   "outputs": [
    {
     "name": "stdout",
     "output_type": "stream",
     "text": [
      "Low_Up to High_Up :\n",
      " Perf_node01_power_energy_pkg_    2\n",
      "a                                2\n",
      "dtype: int64 \n",
      "\n",
      "Low_Up to Low_Up :\n",
      " Perf_node01_power_energy_pkg_    8\n",
      "a                                8\n",
      "dtype: int64 \n",
      "\n",
      "Low_Up to Same2 :\n",
      " Perf_node01_power_energy_pkg_    0\n",
      "a                                0\n",
      "dtype: int64 \n",
      "\n",
      "Low_Up to Low_Down :\n",
      " Perf_node01_power_energy_pkg_    18\n",
      "a                                18\n",
      "dtype: int64 \n",
      "\n",
      "Low_Up to High_Down :\n",
      " Perf_node01_power_energy_pkg_    2\n",
      "a                                2\n",
      "dtype: int64 \n",
      "\n"
     ]
    }
   ],
   "source": [
    "i = df.loc[(df[\"Perf_node01_power_energy_pkg_\"] == \"High_Up\") & (df[\"a\"] == \"Low_Up\")].count()\n",
    "print(\"Low_Up to High_Up :\\n\",i, \"\\n\")\n",
    "\n",
    "i = df.loc[(df[\"Perf_node01_power_energy_pkg_\"] == \"Low_Up\") & (df[\"a\"] == \"Low_Up\")].count()\n",
    "print(\"Low_Up to Low_Up :\\n\",i, \"\\n\")\n",
    "\n",
    "i = df.loc[(df[\"Perf_node01_power_energy_pkg_\"] == \"Same2\") & (df[\"a\"] == \"Low_Up\")].count()\n",
    "print(\"Low_Up to Same2 :\\n\",i, \"\\n\")\n",
    "\n",
    "i = df.loc[(df[\"Perf_node01_power_energy_pkg_\"] == \"Low_Down\") & (df[\"a\"] == \"Low_Up\")].count()\n",
    "print(\"Low_Up to Low_Down :\\n\",i, \"\\n\")\n",
    "\n",
    "i = df.loc[(df[\"Perf_node01_power_energy_pkg_\"] == \"High_Down\") & (df[\"a\"] == \"Low_Up\")].count()\n",
    "print(\"Low_Up to High_Down :\\n\",i, \"\\n\")"
   ]
  },
  {
   "cell_type": "code",
   "execution_count": 10,
   "metadata": {},
   "outputs": [
    {
     "name": "stdout",
     "output_type": "stream",
     "text": [
      "Same2 to High_Up :\n",
      " Perf_node01_power_energy_pkg_    0\n",
      "a                                0\n",
      "dtype: int64 \n",
      "\n",
      "Same2 to Low_Up :\n",
      " Perf_node01_power_energy_pkg_    0\n",
      "a                                0\n",
      "dtype: int64 \n",
      "\n",
      "Same2 to Same2 :\n",
      " Perf_node01_power_energy_pkg_    0\n",
      "a                                0\n",
      "dtype: int64 \n",
      "\n",
      "Same2 to Low_Down :\n",
      " Perf_node01_power_energy_pkg_    0\n",
      "a                                0\n",
      "dtype: int64 \n",
      "\n",
      "Same2 to High_Down :\n",
      " Perf_node01_power_energy_pkg_    0\n",
      "a                                0\n",
      "dtype: int64 \n",
      "\n"
     ]
    }
   ],
   "source": [
    "i = df.loc[(df[\"Perf_node01_power_energy_pkg_\"] == \"High_Up\") & (df[\"a\"] == \"Same2\")].count()\n",
    "print(\"Same2 to High_Up :\\n\",i, \"\\n\")\n",
    "\n",
    "i = df.loc[(df[\"Perf_node01_power_energy_pkg_\"] == \"Low_Up\") & (df[\"a\"] == \"Same2\")].count()\n",
    "print(\"Same2 to Low_Up :\\n\",i, \"\\n\")\n",
    "\n",
    "i = df.loc[(df[\"Perf_node01_power_energy_pkg_\"] == \"Same2\") & (df[\"a\"] == \"Same2\")].count()\n",
    "print(\"Same2 to Same2 :\\n\",i, \"\\n\")\n",
    "\n",
    "i = df.loc[(df[\"Perf_node01_power_energy_pkg_\"] == \"Low_Down\") & (df[\"a\"] == \"Same2\")].count()\n",
    "print(\"Same2 to Low_Down :\\n\",i, \"\\n\")\n",
    "\n",
    "i = df.loc[(df[\"Perf_node01_power_energy_pkg_\"] == \"High_Down\") & (df[\"a\"] == \"Same2\")].count()\n",
    "print(\"Same2 to High_Down :\\n\",i, \"\\n\")"
   ]
  },
  {
   "cell_type": "code",
   "execution_count": 11,
   "metadata": {},
   "outputs": [
    {
     "name": "stdout",
     "output_type": "stream",
     "text": [
      "Low_Down to High_Up :\n",
      " Perf_node01_power_energy_pkg_    1\n",
      "a                                1\n",
      "dtype: int64 \n",
      "\n",
      "Low_Down to Low_Up :\n",
      " Perf_node01_power_energy_pkg_    18\n",
      "a                                18\n",
      "dtype: int64 \n",
      "\n",
      "Low_Down to Same2 :\n",
      " Perf_node01_power_energy_pkg_    0\n",
      "a                                0\n",
      "dtype: int64 \n",
      "\n",
      "Low_Down to Low_Down :\n",
      " Perf_node01_power_energy_pkg_    1\n",
      "a                                1\n",
      "dtype: int64 \n",
      "\n",
      "Low_Down to High_Down :\n",
      " Perf_node01_power_energy_pkg_    3\n",
      "a                                3\n",
      "dtype: int64 \n",
      "\n"
     ]
    }
   ],
   "source": [
    "i = df.loc[(df[\"Perf_node01_power_energy_pkg_\"] == \"High_Up\") & (df[\"a\"] == \"Low_Down\")].count()\n",
    "print(\"Low_Down to High_Up :\\n\",i, \"\\n\")\n",
    "\n",
    "i = df.loc[(df[\"Perf_node01_power_energy_pkg_\"] == \"Low_Up\") & (df[\"a\"] == \"Low_Down\")].count()\n",
    "print(\"Low_Down to Low_Up :\\n\",i, \"\\n\")\n",
    "\n",
    "i = df.loc[(df[\"Perf_node01_power_energy_pkg_\"] == \"Same2\") & (df[\"a\"] == \"Low_Down\")].count()\n",
    "print(\"Low_Down to Same2 :\\n\",i, \"\\n\")\n",
    "\n",
    "i = df.loc[(df[\"Perf_node01_power_energy_pkg_\"] == \"Low_Down\") & (df[\"a\"] == \"Low_Down\")].count()\n",
    "print(\"Low_Down to Low_Down :\\n\",i, \"\\n\")\n",
    "\n",
    "i = df.loc[(df[\"Perf_node01_power_energy_pkg_\"] == \"High_Down\") & (df[\"a\"] == \"Low_Down\")].count()\n",
    "print(\"Low_Down to High_Down :\\n\",i, \"\\n\")"
   ]
  },
  {
   "cell_type": "code",
   "execution_count": 12,
   "metadata": {
    "scrolled": false
   },
   "outputs": [
    {
     "name": "stdout",
     "output_type": "stream",
     "text": [
      "High_Down to High_Up :\n",
      " Perf_node01_power_energy_pkg_    5\n",
      "a                                5\n",
      "dtype: int64 \n",
      "\n",
      "High_Down to Low_Up :\n",
      " Perf_node01_power_energy_pkg_    2\n",
      "a                                2\n",
      "dtype: int64 \n",
      "\n",
      "High_Down to Same2 :\n",
      " Perf_node01_power_energy_pkg_    0\n",
      "a                                0\n",
      "dtype: int64 \n",
      "\n",
      "High_Down to Low_Down :\n",
      " Perf_node01_power_energy_pkg_    1\n",
      "a                                1\n",
      "dtype: int64 \n",
      "\n",
      "High_Down to High_Down :\n",
      " Perf_node01_power_energy_pkg_    0\n",
      "a                                0\n",
      "dtype: int64 \n",
      "\n"
     ]
    }
   ],
   "source": [
    "i = df.loc[(df[\"Perf_node01_power_energy_pkg_\"] == \"High_Up\") & (df[\"a\"] == \"High_Down\")].count()\n",
    "print(\"High_Down to High_Up :\\n\",i, \"\\n\")\n",
    "\n",
    "i = df.loc[(df[\"Perf_node01_power_energy_pkg_\"] == \"Low_Up\") & (df[\"a\"] == \"High_Down\")].count()\n",
    "print(\"High_Down to Low_Up :\\n\",i, \"\\n\")\n",
    "\n",
    "i = df.loc[(df[\"Perf_node01_power_energy_pkg_\"] == \"Same2\") & (df[\"a\"] == \"High_Down\")].count()\n",
    "print(\"High_Down to Same2 :\\n\",i, \"\\n\")\n",
    "\n",
    "i = df.loc[(df[\"Perf_node01_power_energy_pkg_\"] == \"Low_Down\") & (df[\"a\"] == \"High_Down\")].count()\n",
    "print(\"High_Down to Low_Down :\\n\",i, \"\\n\")\n",
    "\n",
    "i = df.loc[(df[\"Perf_node01_power_energy_pkg_\"] == \"High_Down\") & (df[\"a\"] == \"High_Down\")].count()\n",
    "print(\"High_Down to High_Down :\\n\",i, \"\\n\")"
   ]
  },
  {
   "cell_type": "code",
   "execution_count": 13,
   "metadata": {},
   "outputs": [],
   "source": [
    "pkg_matrix[0] = [0, 2/8, 0, 3/8, 3/8]\n",
    "pkg_matrix[1] = [2/30, 8/30, 0, 18/30, 2/30]\n",
    "pkg_matrix[3] = [1/23, 18/23, 0, 1/23, 3/23]\n",
    "pkg_matrix[4] = [5/8, 2/8, 0, 1/8, 0]"
   ]
  },
  {
   "cell_type": "code",
   "execution_count": 14,
   "metadata": {},
   "outputs": [
    {
     "data": {
      "text/plain": [
       "array([[0.        , 0.25      , 0.        , 0.375     , 0.375     ],\n",
       "       [0.06666667, 0.26666667, 0.        , 0.6       , 0.06666667],\n",
       "       [0.        , 0.        , 0.        , 0.        , 0.        ],\n",
       "       [0.04347826, 0.7826087 , 0.        , 0.04347826, 0.13043478],\n",
       "       [0.625     , 0.25      , 0.        , 0.125     , 0.        ]])"
      ]
     },
     "execution_count": 14,
     "metadata": {},
     "output_type": "execute_result"
    }
   ],
   "source": [
    "pkg_matrix"
   ]
  },
  {
   "cell_type": "code",
   "execution_count": 15,
   "metadata": {},
   "outputs": [
    {
     "data": {
      "text/plain": [
       "array([[0.   , 0.25 , 0.   , 0.375, 0.375],\n",
       "       [0.067, 0.267, 0.   , 0.6  , 0.067],\n",
       "       [0.   , 0.   , 0.   , 0.   , 0.   ],\n",
       "       [0.043, 0.783, 0.   , 0.043, 0.13 ],\n",
       "       [0.625, 0.25 , 0.   , 0.125, 0.   ]])"
      ]
     },
     "execution_count": 15,
     "metadata": {},
     "output_type": "execute_result"
    }
   ],
   "source": [
    "pkg_matrix = pkg_matrix.round(3)\n",
    "pkg_matrix"
   ]
  },
  {
   "cell_type": "markdown",
   "metadata": {},
   "source": [
    "# ram 전위확률 계산"
   ]
  },
  {
   "cell_type": "code",
   "execution_count": 16,
   "metadata": {},
   "outputs": [
    {
     "name": "stdout",
     "output_type": "stream",
     "text": [
      "High_Up to High_Up :\n",
      " Perf_node01_power_energy_ram_    3\n",
      "b                                3\n",
      "dtype: int64 \n",
      "\n",
      "High_Up to Low_Up :\n",
      " Perf_node01_power_energy_ram_    0\n",
      "b                                0\n",
      "dtype: int64 \n",
      "\n",
      "High_Up to Same2 :\n",
      " Perf_node01_power_energy_ram_    0\n",
      "b                                0\n",
      "dtype: int64 \n",
      "\n",
      "High_Up to Low_Down :\n",
      " Perf_node01_power_energy_ram_    4\n",
      "b                                4\n",
      "dtype: int64 \n",
      "\n",
      "High_Up to High_Down :\n",
      " Perf_node01_power_energy_ram_    6\n",
      "b                                6\n",
      "dtype: int64 \n",
      "\n"
     ]
    }
   ],
   "source": [
    "i = ef.loc[(ef[\"Perf_node01_power_energy_ram_\"] == \"High_Up\") & (ef[\"b\"] == \"High_Up\")].count()\n",
    "print(\"High_Up to High_Up :\\n\",i, \"\\n\")\n",
    "\n",
    "i = ef.loc[(ef[\"Perf_node01_power_energy_ram_\"] == \"Low_Up\") & (ef[\"b\"] == \"High_Up\")].count()\n",
    "print(\"High_Up to Low_Up :\\n\",i, \"\\n\")\n",
    "\n",
    "i = ef.loc[(ef[\"Perf_node01_power_energy_ram_\"] == \"Same2\") & (ef[\"b\"] == \"High_Up\")].count()\n",
    "print(\"High_Up to Same2 :\\n\",i, \"\\n\")\n",
    "\n",
    "i = ef.loc[(ef[\"Perf_node01_power_energy_ram_\"] == \"Low_Down\") & (ef[\"b\"] == \"High_Up\")].count()\n",
    "print(\"High_Up to Low_Down :\\n\",i, \"\\n\")\n",
    "\n",
    "i = ef.loc[(ef[\"Perf_node01_power_energy_ram_\"] == \"High_Down\") & (ef[\"b\"] == \"High_Up\")].count()\n",
    "print(\"High_Up to High_Down :\\n\",i, \"\\n\")"
   ]
  },
  {
   "cell_type": "code",
   "execution_count": 17,
   "metadata": {},
   "outputs": [
    {
     "name": "stdout",
     "output_type": "stream",
     "text": [
      "Low_Up to High_Up :\n",
      " Perf_node01_power_energy_ram_    0\n",
      "b                                0\n",
      "dtype: int64 \n",
      "\n",
      "Low_Up to Low_Up :\n",
      " Perf_node01_power_energy_ram_    5\n",
      "b                                5\n",
      "dtype: int64 \n",
      "\n",
      "Low_Up to Same2 :\n",
      " Perf_node01_power_energy_ram_    0\n",
      "b                                0\n",
      "dtype: int64 \n",
      "\n",
      "Low_Up to Low_Down :\n",
      " Perf_node01_power_energy_ram_    12\n",
      "b                                12\n",
      "dtype: int64 \n",
      "\n",
      "Low_Up to High_Down :\n",
      " Perf_node01_power_energy_ram_    3\n",
      "b                                3\n",
      "dtype: int64 \n",
      "\n"
     ]
    }
   ],
   "source": [
    "i = ef.loc[(ef[\"Perf_node01_power_energy_ram_\"] == \"High_Up\") & (ef[\"b\"] == \"Low_Up\")].count()\n",
    "print(\"Low_Up to High_Up :\\n\",i, \"\\n\")\n",
    "\n",
    "i = ef.loc[(ef[\"Perf_node01_power_energy_ram_\"] == \"Low_Up\") & (ef[\"b\"] == \"Low_Up\")].count()\n",
    "print(\"Low_Up to Low_Up :\\n\",i, \"\\n\")\n",
    "\n",
    "i = ef.loc[(ef[\"Perf_node01_power_energy_ram_\"] == \"Same2\") & (ef[\"b\"] == \"Low_Up\")].count()\n",
    "print(\"Low_Up to Same2 :\\n\",i, \"\\n\")\n",
    "\n",
    "i = ef.loc[(ef[\"Perf_node01_power_energy_ram_\"] == \"Low_Down\") & (ef[\"b\"] == \"Low_Up\")].count()\n",
    "print(\"Low_Up to Low_Down :\\n\",i, \"\\n\")\n",
    "\n",
    "i = ef.loc[(ef[\"Perf_node01_power_energy_ram_\"] == \"High_Down\") & (ef[\"b\"] == \"Low_Up\")].count()\n",
    "print(\"Low_Up to High_Down :\\n\",i, \"\\n\")"
   ]
  },
  {
   "cell_type": "code",
   "execution_count": 18,
   "metadata": {},
   "outputs": [
    {
     "name": "stdout",
     "output_type": "stream",
     "text": [
      "Same2 to High_Up :\n",
      " Perf_node01_power_energy_ram_    0\n",
      "b                                0\n",
      "dtype: int64 \n",
      "\n",
      "Same2 to Low_Up :\n",
      " Perf_node01_power_energy_ram_    0\n",
      "b                                0\n",
      "dtype: int64 \n",
      "\n",
      "Same2 to Same2 :\n",
      " Perf_node01_power_energy_ram_    0\n",
      "b                                0\n",
      "dtype: int64 \n",
      "\n",
      "Same2 to Low_Down :\n",
      " Perf_node01_power_energy_ram_    0\n",
      "b                                0\n",
      "dtype: int64 \n",
      "\n",
      "Same2 to High_Down :\n",
      " Perf_node01_power_energy_ram_    0\n",
      "b                                0\n",
      "dtype: int64 \n",
      "\n"
     ]
    }
   ],
   "source": [
    "i = ef.loc[(ef[\"Perf_node01_power_energy_ram_\"] == \"High_Up\") & (ef[\"b\"] == \"Same2\")].count()\n",
    "print(\"Same2 to High_Up :\\n\",i, \"\\n\")\n",
    "\n",
    "i = ef.loc[(ef[\"Perf_node01_power_energy_ram_\"] == \"Low_Up\") & (ef[\"b\"] == \"Same2\")].count()\n",
    "print(\"Same2 to Low_Up :\\n\",i, \"\\n\")\n",
    "\n",
    "i = ef.loc[(ef[\"Perf_node01_power_energy_ram_\"] == \"Same2\") & (ef[\"b\"] == \"Same2\")].count()\n",
    "print(\"Same2 to Same2 :\\n\",i, \"\\n\")\n",
    "\n",
    "i = ef.loc[(ef[\"Perf_node01_power_energy_ram_\"] == \"Low_Down\") & (ef[\"b\"] == \"Same2\")].count()\n",
    "print(\"Same2 to Low_Down :\\n\",i, \"\\n\")\n",
    "\n",
    "i = ef.loc[(ef[\"Perf_node01_power_energy_ram_\"] == \"High_Down\") & (ef[\"b\"] == \"Same2\")].count()\n",
    "print(\"Same2 to High_Down :\\n\",i, \"\\n\")"
   ]
  },
  {
   "cell_type": "code",
   "execution_count": 19,
   "metadata": {},
   "outputs": [
    {
     "name": "stdout",
     "output_type": "stream",
     "text": [
      "Low_Down to High_Up :\n",
      " Perf_node01_power_energy_ram_    5\n",
      "b                                5\n",
      "dtype: int64 \n",
      "\n",
      "Low_Down to Low_Up :\n",
      " Perf_node01_power_energy_ram_    11\n",
      "b                                11\n",
      "dtype: int64 \n",
      "\n",
      "Low_Down to Same2 :\n",
      " Perf_node01_power_energy_ram_    0\n",
      "b                                0\n",
      "dtype: int64 \n",
      "\n",
      "Low_Down to Low_Down :\n",
      " Perf_node01_power_energy_ram_    6\n",
      "b                                6\n",
      "dtype: int64 \n",
      "\n",
      "Low_Down to High_Down :\n",
      " Perf_node01_power_energy_ram_    2\n",
      "b                                2\n",
      "dtype: int64 \n",
      "\n"
     ]
    }
   ],
   "source": [
    "i = ef.loc[(ef[\"Perf_node01_power_energy_ram_\"] == \"High_Up\") & (ef[\"b\"] == \"Low_Down\")].count()\n",
    "print(\"Low_Down to High_Up :\\n\",i, \"\\n\")\n",
    "\n",
    "i = ef.loc[(ef[\"Perf_node01_power_energy_ram_\"] == \"Low_Up\") & (ef[\"b\"] == \"Low_Down\")].count()\n",
    "print(\"Low_Down to Low_Up :\\n\",i, \"\\n\")\n",
    "\n",
    "i = ef.loc[(ef[\"Perf_node01_power_energy_ram_\"] == \"Same2\") & (ef[\"b\"] == \"Low_Down\")].count()\n",
    "print(\"Low_Down to Same2 :\\n\",i, \"\\n\")\n",
    "\n",
    "i = ef.loc[(ef[\"Perf_node01_power_energy_ram_\"] == \"Low_Down\") & (ef[\"b\"] == \"Low_Down\")].count()\n",
    "print(\"Low_Down to Low_Down :\\n\",i, \"\\n\")\n",
    "\n",
    "i = ef.loc[(ef[\"Perf_node01_power_energy_ram_\"] == \"High_Down\") & (ef[\"b\"] == \"Low_Down\")].count()\n",
    "print(\"Low_Down to High_Down :\\n\",i, \"\\n\")"
   ]
  },
  {
   "cell_type": "code",
   "execution_count": 20,
   "metadata": {},
   "outputs": [
    {
     "name": "stdout",
     "output_type": "stream",
     "text": [
      "High_Down to High_Up :\n",
      " Perf_node01_power_energy_ram_    5\n",
      "b                                5\n",
      "dtype: int64 \n",
      "\n",
      "High_Down to Low_Up :\n",
      " Perf_node01_power_energy_ram_    3\n",
      "b                                3\n",
      "dtype: int64 \n",
      "\n",
      "High_Down to Same2 :\n",
      " Perf_node01_power_energy_ram_    0\n",
      "b                                0\n",
      "dtype: int64 \n",
      "\n",
      "High_Down to Low_Down :\n",
      " Perf_node01_power_energy_ram_    2\n",
      "b                                2\n",
      "dtype: int64 \n",
      "\n",
      "High_Down to High_Down :\n",
      " Perf_node01_power_energy_ram_    2\n",
      "b                                2\n",
      "dtype: int64 \n",
      "\n"
     ]
    }
   ],
   "source": [
    "i = ef.loc[(ef[\"Perf_node01_power_energy_ram_\"] == \"High_Up\") & (ef[\"b\"] == \"High_Down\")].count()\n",
    "print(\"High_Down to High_Up :\\n\",i, \"\\n\")\n",
    "\n",
    "i = ef.loc[(ef[\"Perf_node01_power_energy_ram_\"] == \"Low_Up\") & (ef[\"b\"] == \"High_Down\")].count()\n",
    "print(\"High_Down to Low_Up :\\n\",i, \"\\n\")\n",
    "\n",
    "i = ef.loc[(ef[\"Perf_node01_power_energy_ram_\"] == \"Same2\") & (ef[\"b\"] == \"High_Down\")].count()\n",
    "print(\"High_Down to Same2 :\\n\",i, \"\\n\")\n",
    "\n",
    "i = ef.loc[(ef[\"Perf_node01_power_energy_ram_\"] == \"Low_Down\") & (ef[\"b\"] == \"High_Down\")].count()\n",
    "print(\"High_Down to Low_Down :\\n\",i, \"\\n\")\n",
    "\n",
    "i = ef.loc[(ef[\"Perf_node01_power_energy_ram_\"] == \"High_Down\") & (ef[\"b\"] == \"High_Down\")].count()\n",
    "print(\"High_Down to High_Down :\\n\",i, \"\\n\")"
   ]
  },
  {
   "cell_type": "code",
   "execution_count": 21,
   "metadata": {},
   "outputs": [],
   "source": [
    "ram_matrix[0] = [3/13, 0, 0, 4/13, 6/13]\n",
    "ram_matrix[1] = [0, 5/20, 0, 12/20, 3/20]\n",
    "ram_matrix[3] = [5/24, 11/24, 0, 6/24, 2/24]\n",
    "ram_matrix[4] = [5/12, 3/12, 0, 2/12, 2/12]"
   ]
  },
  {
   "cell_type": "code",
   "execution_count": 22,
   "metadata": {},
   "outputs": [
    {
     "data": {
      "text/plain": [
       "array([[0.23076923, 0.        , 0.        , 0.30769231, 0.46153846],\n",
       "       [0.        , 0.25      , 0.        , 0.6       , 0.15      ],\n",
       "       [0.        , 0.        , 0.        , 0.        , 0.        ],\n",
       "       [0.20833333, 0.45833333, 0.        , 0.25      , 0.08333333],\n",
       "       [0.41666667, 0.25      , 0.        , 0.16666667, 0.16666667]])"
      ]
     },
     "execution_count": 22,
     "metadata": {},
     "output_type": "execute_result"
    }
   ],
   "source": [
    "ram_matrix"
   ]
  },
  {
   "cell_type": "code",
   "execution_count": 23,
   "metadata": {},
   "outputs": [
    {
     "data": {
      "text/plain": [
       "array([[0.231, 0.   , 0.   , 0.308, 0.462],\n",
       "       [0.   , 0.25 , 0.   , 0.6  , 0.15 ],\n",
       "       [0.   , 0.   , 0.   , 0.   , 0.   ],\n",
       "       [0.208, 0.458, 0.   , 0.25 , 0.083],\n",
       "       [0.417, 0.25 , 0.   , 0.167, 0.167]])"
      ]
     },
     "execution_count": 23,
     "metadata": {},
     "output_type": "execute_result"
    }
   ],
   "source": [
    "ram_matrix = ram_matrix.round(3)\n",
    "ram_matrix"
   ]
  },
  {
   "cell_type": "markdown",
   "metadata": {},
   "source": [
    "# total 전위확률 계산"
   ]
  },
  {
   "cell_type": "code",
   "execution_count": 24,
   "metadata": {},
   "outputs": [
    {
     "name": "stdout",
     "output_type": "stream",
     "text": [
      "High_Up to High_Up :\n",
      " Perf_node01_power_energy_total_    0\n",
      "c                                  0\n",
      "dtype: int64 \n",
      "\n",
      "High_Up to Low_Up :\n",
      " Perf_node01_power_energy_total_    2\n",
      "c                                  2\n",
      "dtype: int64 \n",
      "\n",
      "High_Up to Same2 :\n",
      " Perf_node01_power_energy_total_    0\n",
      "c                                  0\n",
      "dtype: int64 \n",
      "\n",
      "High_Up to Low_Down :\n",
      " Perf_node01_power_energy_total_    1\n",
      "c                                  1\n",
      "dtype: int64 \n",
      "\n",
      "High_Up to High_Down :\n",
      " Perf_node01_power_energy_total_    3\n",
      "c                                  3\n",
      "dtype: int64 \n",
      "\n"
     ]
    }
   ],
   "source": [
    "i = ff.loc[(ff[\"Perf_node01_power_energy_total_\"] == \"High_Up\") & (ff[\"c\"] == \"High_Up\")].count()\n",
    "print(\"High_Up to High_Up :\\n\",i, \"\\n\")\n",
    "\n",
    "i = ff.loc[(ff[\"Perf_node01_power_energy_total_\"] == \"Low_Up\") & (ff[\"c\"] == \"High_Up\")].count()\n",
    "print(\"High_Up to Low_Up :\\n\",i, \"\\n\")\n",
    "\n",
    "i = ff.loc[(ff[\"Perf_node01_power_energy_total_\"] == \"Same2\") & (ff[\"c\"] == \"High_Up\")].count()\n",
    "print(\"High_Up to Same2 :\\n\",i, \"\\n\")\n",
    "\n",
    "i = ff.loc[(ff[\"Perf_node01_power_energy_total_\"] == \"Low_Down\") & (ff[\"c\"] == \"High_Up\")].count()\n",
    "print(\"High_Up to Low_Down :\\n\",i, \"\\n\")\n",
    "\n",
    "i = ff.loc[(ff[\"Perf_node01_power_energy_total_\"] == \"High_Down\") & (ff[\"c\"] == \"High_Up\")].count()\n",
    "print(\"High_Up to High_Down :\\n\",i, \"\\n\")"
   ]
  },
  {
   "cell_type": "code",
   "execution_count": 25,
   "metadata": {},
   "outputs": [
    {
     "name": "stdout",
     "output_type": "stream",
     "text": [
      "Low_Up to High_Up :\n",
      " Perf_node01_power_energy_total_    1\n",
      "c                                  1\n",
      "dtype: int64 \n",
      "\n",
      "Low_Up to Low_Up :\n",
      " Perf_node01_power_energy_total_    7\n",
      "c                                  7\n",
      "dtype: int64 \n",
      "\n",
      "Low_Up to Same2 :\n",
      " Perf_node01_power_energy_total_    0\n",
      "c                                  0\n",
      "dtype: int64 \n",
      "\n",
      "Low_Up to Low_Down :\n",
      " Perf_node01_power_energy_total_    18\n",
      "c                                  18\n",
      "dtype: int64 \n",
      "\n",
      "Low_Up to High_Down :\n",
      " Perf_node01_power_energy_total_    3\n",
      "c                                  3\n",
      "dtype: int64 \n",
      "\n"
     ]
    }
   ],
   "source": [
    "i = ff.loc[(ff[\"Perf_node01_power_energy_total_\"] == \"High_Up\") & (ff[\"c\"] == \"Low_Up\")].count()\n",
    "print(\"Low_Up to High_Up :\\n\",i, \"\\n\")\n",
    "\n",
    "i = ff.loc[(ff[\"Perf_node01_power_energy_total_\"] == \"Low_Up\") & (ff[\"c\"] == \"Low_Up\")].count()\n",
    "print(\"Low_Up to Low_Up :\\n\",i, \"\\n\")\n",
    "\n",
    "i = ff.loc[(ff[\"Perf_node01_power_energy_total_\"] == \"Same2\") & (ff[\"c\"] == \"Low_Up\")].count()\n",
    "print(\"Low_Up to Same2 :\\n\",i, \"\\n\")\n",
    "\n",
    "i = ff.loc[(ff[\"Perf_node01_power_energy_total_\"] == \"Low_Down\") & (ff[\"c\"] == \"Low_Up\")].count()\n",
    "print(\"Low_Up to Low_Down :\\n\",i, \"\\n\")\n",
    "\n",
    "i = ff.loc[(ff[\"Perf_node01_power_energy_total_\"] == \"High_Down\") & (ff[\"c\"] == \"Low_Up\")].count()\n",
    "print(\"Low_Up to High_Down :\\n\",i, \"\\n\")"
   ]
  },
  {
   "cell_type": "code",
   "execution_count": 26,
   "metadata": {},
   "outputs": [
    {
     "name": "stdout",
     "output_type": "stream",
     "text": [
      "Same2 to High_Up :\n",
      " Perf_node01_power_energy_total_    0\n",
      "c                                  0\n",
      "dtype: int64 \n",
      "\n",
      "Same2 to Low_Up :\n",
      " Perf_node01_power_energy_total_    0\n",
      "c                                  0\n",
      "dtype: int64 \n",
      "\n",
      "Same2 to Same2 :\n",
      " Perf_node01_power_energy_total_    0\n",
      "c                                  0\n",
      "dtype: int64 \n",
      "\n",
      "Same2 to Low_Down :\n",
      " Perf_node01_power_energy_total_    0\n",
      "c                                  0\n",
      "dtype: int64 \n",
      "\n",
      "Same2 to High_Down :\n",
      " Perf_node01_power_energy_total_    0\n",
      "c                                  0\n",
      "dtype: int64 \n",
      "\n"
     ]
    }
   ],
   "source": [
    "i = ff.loc[(ff[\"Perf_node01_power_energy_total_\"] == \"High_Up\") & (ff[\"c\"] == \"Same2\")].count()\n",
    "print(\"Same2 to High_Up :\\n\",i, \"\\n\")\n",
    "\n",
    "i = ff.loc[(ff[\"Perf_node01_power_energy_total_\"] == \"Low_Up\") & (ff[\"c\"] == \"Same2\")].count()\n",
    "print(\"Same2 to Low_Up :\\n\",i, \"\\n\")\n",
    "\n",
    "i = ff.loc[(ff[\"Perf_node01_power_energy_total_\"] == \"Same2\") & (ff[\"c\"] == \"Same2\")].count()\n",
    "print(\"Same2 to Same2 :\\n\",i, \"\\n\")\n",
    "\n",
    "i = ff.loc[(ff[\"Perf_node01_power_energy_total_\"] == \"Low_Down\") & (ff[\"c\"] == \"Same2\")].count()\n",
    "print(\"Same2 to Low_Down :\\n\",i, \"\\n\")\n",
    "\n",
    "i = ff.loc[(ff[\"Perf_node01_power_energy_total_\"] == \"High_Down\") & (ff[\"c\"] == \"Same2\")].count()\n",
    "print(\"Same2 to High_Down :\\n\",i, \"\\n\")"
   ]
  },
  {
   "cell_type": "code",
   "execution_count": 27,
   "metadata": {},
   "outputs": [
    {
     "name": "stdout",
     "output_type": "stream",
     "text": [
      "Low_Down to High_Up :\n",
      " Perf_node01_power_energy_total_    1\n",
      "c                                  1\n",
      "dtype: int64 \n",
      "\n",
      "Low_Down to Low_Up :\n",
      " Perf_node01_power_energy_total_    17\n",
      "c                                  17\n",
      "dtype: int64 \n",
      "\n",
      "Low_Down to Same2 :\n",
      " Perf_node01_power_energy_total_    0\n",
      "c                                  0\n",
      "dtype: int64 \n",
      "\n",
      "Low_Down to Low_Down :\n",
      " Perf_node01_power_energy_total_    6\n",
      "c                                  6\n",
      "dtype: int64 \n",
      "\n",
      "Low_Down to High_Down :\n",
      " Perf_node01_power_energy_total_    2\n",
      "c                                  2\n",
      "dtype: int64 \n",
      "\n"
     ]
    }
   ],
   "source": [
    "i = ff.loc[(ff[\"Perf_node01_power_energy_total_\"] == \"High_Up\") & (ff[\"c\"] == \"Low_Down\")].count()\n",
    "print(\"Low_Down to High_Up :\\n\",i, \"\\n\")\n",
    "\n",
    "i = ff.loc[(ff[\"Perf_node01_power_energy_total_\"] == \"Low_Up\") & (ff[\"c\"] == \"Low_Down\")].count()\n",
    "print(\"Low_Down to Low_Up :\\n\",i, \"\\n\")\n",
    "\n",
    "i = ff.loc[(ff[\"Perf_node01_power_energy_total_\"] == \"Same2\") & (ff[\"c\"] == \"Low_Down\")].count()\n",
    "print(\"Low_Down to Same2 :\\n\",i, \"\\n\")\n",
    "\n",
    "i = ff.loc[(ff[\"Perf_node01_power_energy_total_\"] == \"Low_Down\") & (ff[\"c\"] == \"Low_Down\")].count()\n",
    "print(\"Low_Down to Low_Down :\\n\",i, \"\\n\")\n",
    "\n",
    "i = ff.loc[(ff[\"Perf_node01_power_energy_total_\"] == \"High_Down\") & (ff[\"c\"] == \"Low_Down\")].count()\n",
    "print(\"Low_Down to High_Down :\\n\",i, \"\\n\")"
   ]
  },
  {
   "cell_type": "code",
   "execution_count": 28,
   "metadata": {},
   "outputs": [
    {
     "name": "stdout",
     "output_type": "stream",
     "text": [
      "High_Down to High_Up :\n",
      " Perf_node01_power_energy_total_    4\n",
      "c                                  4\n",
      "dtype: int64 \n",
      "\n",
      "High_Down to Low_Up :\n",
      " Perf_node01_power_energy_total_    2\n",
      "c                                  2\n",
      "dtype: int64 \n",
      "\n",
      "High_Down to Same2 :\n",
      " Perf_node01_power_energy_total_    0\n",
      "c                                  0\n",
      "dtype: int64 \n",
      "\n",
      "High_Down to Low_Down :\n",
      " Perf_node01_power_energy_total_    2\n",
      "c                                  2\n",
      "dtype: int64 \n",
      "\n",
      "High_Down to High_Down :\n",
      " Perf_node01_power_energy_total_    0\n",
      "c                                  0\n",
      "dtype: int64 \n",
      "\n"
     ]
    }
   ],
   "source": [
    "i = ff.loc[(ff[\"Perf_node01_power_energy_total_\"] == \"High_Up\") & (ff[\"c\"] == \"High_Down\")].count()\n",
    "print(\"High_Down to High_Up :\\n\",i, \"\\n\")\n",
    "\n",
    "i = ff.loc[(ff[\"Perf_node01_power_energy_total_\"] == \"Low_Up\") & (ff[\"c\"] == \"High_Down\")].count()\n",
    "print(\"High_Down to Low_Up :\\n\",i, \"\\n\")\n",
    "\n",
    "i = ff.loc[(ff[\"Perf_node01_power_energy_total_\"] == \"Same2\") & (ff[\"c\"] == \"High_Down\")].count()\n",
    "print(\"High_Down to Same2 :\\n\",i, \"\\n\")\n",
    "\n",
    "i = ff.loc[(ff[\"Perf_node01_power_energy_total_\"] == \"Low_Down\") & (ff[\"c\"] == \"High_Down\")].count()\n",
    "print(\"High_Down to Low_Down :\\n\",i, \"\\n\")\n",
    "\n",
    "i = ff.loc[(ff[\"Perf_node01_power_energy_total_\"] == \"High_Down\") & (ff[\"c\"] == \"High_Down\")].count()\n",
    "print(\"High_Down to High_Down :\\n\",i, \"\\n\")"
   ]
  },
  {
   "cell_type": "code",
   "execution_count": 29,
   "metadata": {},
   "outputs": [],
   "source": [
    "total_matrix[0] = [0, 2/6, 0, 1/6, 3/6]\n",
    "total_matrix[1] = [1/29, 7/29, 0, 18/29, 3/29]\n",
    "total_matrix[3] = [1/26, 17/26, 0, 6/26,2/26]\n",
    "total_matrix[4] = [4/8, 2/8, 0, 2/8, 0]"
   ]
  },
  {
   "cell_type": "code",
   "execution_count": 30,
   "metadata": {},
   "outputs": [
    {
     "data": {
      "text/plain": [
       "array([[0.        , 0.33333333, 0.        , 0.16666667, 0.5       ],\n",
       "       [0.03448276, 0.24137931, 0.        , 0.62068966, 0.10344828],\n",
       "       [0.        , 0.        , 0.        , 0.        , 0.        ],\n",
       "       [0.03846154, 0.65384615, 0.        , 0.23076923, 0.07692308],\n",
       "       [0.5       , 0.25      , 0.        , 0.25      , 0.        ]])"
      ]
     },
     "execution_count": 30,
     "metadata": {},
     "output_type": "execute_result"
    }
   ],
   "source": [
    "total_matrix"
   ]
  },
  {
   "cell_type": "code",
   "execution_count": 31,
   "metadata": {},
   "outputs": [
    {
     "data": {
      "text/plain": [
       "array([[0.   , 0.333, 0.   , 0.167, 0.5  ],\n",
       "       [0.034, 0.241, 0.   , 0.621, 0.103],\n",
       "       [0.   , 0.   , 0.   , 0.   , 0.   ],\n",
       "       [0.038, 0.654, 0.   , 0.231, 0.077],\n",
       "       [0.5  , 0.25 , 0.   , 0.25 , 0.   ]])"
      ]
     },
     "execution_count": 31,
     "metadata": {},
     "output_type": "execute_result"
    }
   ],
   "source": [
    "total_matrix = total_matrix.round(3)\n",
    "total_matrix"
   ]
  },
  {
   "cell_type": "markdown",
   "metadata": {},
   "source": [
    "# 결론"
   ]
  },
  {
   "cell_type": "code",
   "execution_count": 32,
   "metadata": {},
   "outputs": [
    {
     "name": "stdout",
     "output_type": "stream",
     "text": [
      "[[0.    0.25  0.    0.375 0.375]\n",
      " [0.067 0.267 0.    0.6   0.067]\n",
      " [0.    0.    0.    0.    0.   ]\n",
      " [0.043 0.783 0.    0.043 0.13 ]\n",
      " [0.625 0.25  0.    0.125 0.   ]]\n",
      "[[0.231 0.    0.    0.308 0.462]\n",
      " [0.    0.25  0.    0.6   0.15 ]\n",
      " [0.    0.    0.    0.    0.   ]\n",
      " [0.208 0.458 0.    0.25  0.083]\n",
      " [0.417 0.25  0.    0.167 0.167]]\n",
      "[[0.    0.333 0.    0.167 0.5  ]\n",
      " [0.034 0.241 0.    0.621 0.103]\n",
      " [0.    0.    0.    0.    0.   ]\n",
      " [0.038 0.654 0.    0.231 0.077]\n",
      " [0.5   0.25  0.    0.25  0.   ]]\n"
     ]
    }
   ],
   "source": [
    "print(pkg_matrix)\n",
    "print(ram_matrix)\n",
    "print(total_matrix)"
   ]
  },
  {
   "cell_type": "code",
   "execution_count": null,
   "metadata": {},
   "outputs": [],
   "source": []
  }
 ],
 "metadata": {
  "kernelspec": {
   "display_name": "Python 3",
   "language": "python",
   "name": "python3"
  },
  "language_info": {
   "codemirror_mode": {
    "name": "ipython",
    "version": 3
   },
   "file_extension": ".py",
   "mimetype": "text/x-python",
   "name": "python",
   "nbconvert_exporter": "python",
   "pygments_lexer": "ipython3",
   "version": "3.7.4"
  }
 },
 "nbformat": 4,
 "nbformat_minor": 2
}
