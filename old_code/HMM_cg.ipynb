{
 "cells": [
  {
   "cell_type": "code",
   "execution_count": 1,
   "metadata": {},
   "outputs": [],
   "source": [
    "import numpy as np\n",
    "import pandas as pd\n",
    "import matplotlib.pyplot as plt"
   ]
  },
  {
   "cell_type": "markdown",
   "metadata": {},
   "source": [
    "## pkg, ram, total의 전위 확률 구하기"
   ]
  },
  {
   "cell_type": "code",
   "execution_count": 2,
   "metadata": {},
   "outputs": [],
   "source": [
    "bt = pd.read_csv(\"cg.csv\")"
   ]
  },
  {
   "cell_type": "code",
   "execution_count": 3,
   "metadata": {
    "scrolled": true
   },
   "outputs": [
    {
     "data": {
      "text/html": [
       "<div>\n",
       "<style scoped>\n",
       "    .dataframe tbody tr th:only-of-type {\n",
       "        vertical-align: middle;\n",
       "    }\n",
       "\n",
       "    .dataframe tbody tr th {\n",
       "        vertical-align: top;\n",
       "    }\n",
       "\n",
       "    .dataframe thead th {\n",
       "        text-align: right;\n",
       "    }\n",
       "</style>\n",
       "<table border=\"1\" class=\"dataframe\">\n",
       "  <thead>\n",
       "    <tr style=\"text-align: right;\">\n",
       "      <th></th>\n",
       "      <th>Application</th>\n",
       "      <th>Perf_node01_task_clock</th>\n",
       "      <th>Perf_node01_cpu_bus_cycles_</th>\n",
       "      <th>Perf_node01_cpu_cpu_cycles_</th>\n",
       "      <th>Perf_node01_msr_aperf_</th>\n",
       "      <th>Perf_node01_msr_mperf_</th>\n",
       "      <th>Perf_node01_msr_tsc_</th>\n",
       "      <th>Perf_node01_cpu_ref_cycles_</th>\n",
       "      <th>Perf_node01_power_energy_pkg_</th>\n",
       "      <th>a</th>\n",
       "      <th>Perf_node01_power_energy_ram_</th>\n",
       "      <th>b</th>\n",
       "      <th>Perf_node01_power_energy_total_</th>\n",
       "      <th>c</th>\n",
       "    </tr>\n",
       "  </thead>\n",
       "  <tbody>\n",
       "    <tr>\n",
       "      <td>0</td>\n",
       "      <td>CG</td>\n",
       "      <td>Up</td>\n",
       "      <td>Up</td>\n",
       "      <td>Up</td>\n",
       "      <td>Up</td>\n",
       "      <td>Up</td>\n",
       "      <td>Up</td>\n",
       "      <td>Up</td>\n",
       "      <td>Low_Up</td>\n",
       "      <td>NaN</td>\n",
       "      <td>Low_Down</td>\n",
       "      <td>NaN</td>\n",
       "      <td>Low_Down</td>\n",
       "      <td>NaN</td>\n",
       "    </tr>\n",
       "    <tr>\n",
       "      <td>1</td>\n",
       "      <td>CG</td>\n",
       "      <td>Down</td>\n",
       "      <td>Down</td>\n",
       "      <td>Down</td>\n",
       "      <td>Down</td>\n",
       "      <td>Down</td>\n",
       "      <td>Down</td>\n",
       "      <td>Down</td>\n",
       "      <td>Low_Down</td>\n",
       "      <td>Low_Up</td>\n",
       "      <td>Low_Up</td>\n",
       "      <td>Low_Down</td>\n",
       "      <td>Low_Up</td>\n",
       "      <td>Low_Down</td>\n",
       "    </tr>\n",
       "    <tr>\n",
       "      <td>2</td>\n",
       "      <td>CG</td>\n",
       "      <td>Down</td>\n",
       "      <td>Up</td>\n",
       "      <td>Up</td>\n",
       "      <td>Down</td>\n",
       "      <td>Down</td>\n",
       "      <td>Down</td>\n",
       "      <td>Up</td>\n",
       "      <td>Low_Up</td>\n",
       "      <td>Low_Down</td>\n",
       "      <td>Low_Up</td>\n",
       "      <td>Low_Up</td>\n",
       "      <td>Low_Up</td>\n",
       "      <td>Low_Up</td>\n",
       "    </tr>\n",
       "    <tr>\n",
       "      <td>3</td>\n",
       "      <td>CG</td>\n",
       "      <td>Down</td>\n",
       "      <td>Down</td>\n",
       "      <td>Down</td>\n",
       "      <td>Down</td>\n",
       "      <td>Down</td>\n",
       "      <td>Down</td>\n",
       "      <td>Down</td>\n",
       "      <td>Low_Down</td>\n",
       "      <td>Low_Up</td>\n",
       "      <td>Low_Down</td>\n",
       "      <td>Low_Up</td>\n",
       "      <td>Low_Down</td>\n",
       "      <td>Low_Up</td>\n",
       "    </tr>\n",
       "    <tr>\n",
       "      <td>4</td>\n",
       "      <td>CG</td>\n",
       "      <td>Down</td>\n",
       "      <td>Up</td>\n",
       "      <td>Up</td>\n",
       "      <td>Up</td>\n",
       "      <td>Up</td>\n",
       "      <td>Down</td>\n",
       "      <td>Up</td>\n",
       "      <td>Low_Up</td>\n",
       "      <td>Low_Down</td>\n",
       "      <td>High_Up</td>\n",
       "      <td>Low_Down</td>\n",
       "      <td>Low_Up</td>\n",
       "      <td>Low_Down</td>\n",
       "    </tr>\n",
       "    <tr>\n",
       "      <td>...</td>\n",
       "      <td>...</td>\n",
       "      <td>...</td>\n",
       "      <td>...</td>\n",
       "      <td>...</td>\n",
       "      <td>...</td>\n",
       "      <td>...</td>\n",
       "      <td>...</td>\n",
       "      <td>...</td>\n",
       "      <td>...</td>\n",
       "      <td>...</td>\n",
       "      <td>...</td>\n",
       "      <td>...</td>\n",
       "      <td>...</td>\n",
       "      <td>...</td>\n",
       "    </tr>\n",
       "    <tr>\n",
       "      <td>2049</td>\n",
       "      <td>CG</td>\n",
       "      <td>Down</td>\n",
       "      <td>Down</td>\n",
       "      <td>Down</td>\n",
       "      <td>Down</td>\n",
       "      <td>Down</td>\n",
       "      <td>Down</td>\n",
       "      <td>Same1</td>\n",
       "      <td>Low_Down</td>\n",
       "      <td>Low_Down</td>\n",
       "      <td>Low_Down</td>\n",
       "      <td>Low_Down</td>\n",
       "      <td>Low_Down</td>\n",
       "      <td>Low_Down</td>\n",
       "    </tr>\n",
       "    <tr>\n",
       "      <td>2050</td>\n",
       "      <td>CG</td>\n",
       "      <td>Down</td>\n",
       "      <td>Down</td>\n",
       "      <td>Down</td>\n",
       "      <td>Down</td>\n",
       "      <td>Down</td>\n",
       "      <td>Down</td>\n",
       "      <td>Down</td>\n",
       "      <td>Low_Up</td>\n",
       "      <td>Low_Down</td>\n",
       "      <td>Low_Down</td>\n",
       "      <td>Low_Down</td>\n",
       "      <td>Low_Up</td>\n",
       "      <td>Low_Down</td>\n",
       "    </tr>\n",
       "    <tr>\n",
       "      <td>2051</td>\n",
       "      <td>CG</td>\n",
       "      <td>Up</td>\n",
       "      <td>Down</td>\n",
       "      <td>Down</td>\n",
       "      <td>Down</td>\n",
       "      <td>Down</td>\n",
       "      <td>Up</td>\n",
       "      <td>Down</td>\n",
       "      <td>High_Down</td>\n",
       "      <td>Low_Up</td>\n",
       "      <td>High_Down</td>\n",
       "      <td>Low_Down</td>\n",
       "      <td>High_Down</td>\n",
       "      <td>Low_Up</td>\n",
       "    </tr>\n",
       "    <tr>\n",
       "      <td>2052</td>\n",
       "      <td>CG</td>\n",
       "      <td>Down</td>\n",
       "      <td>Down</td>\n",
       "      <td>Down</td>\n",
       "      <td>Down</td>\n",
       "      <td>Down</td>\n",
       "      <td>Down</td>\n",
       "      <td>Down</td>\n",
       "      <td>Low_Up</td>\n",
       "      <td>High_Down</td>\n",
       "      <td>High_Down</td>\n",
       "      <td>High_Down</td>\n",
       "      <td>Low_Down</td>\n",
       "      <td>High_Down</td>\n",
       "    </tr>\n",
       "    <tr>\n",
       "      <td>2053</td>\n",
       "      <td>NaN</td>\n",
       "      <td>NaN</td>\n",
       "      <td>NaN</td>\n",
       "      <td>NaN</td>\n",
       "      <td>NaN</td>\n",
       "      <td>NaN</td>\n",
       "      <td>NaN</td>\n",
       "      <td>NaN</td>\n",
       "      <td>NaN</td>\n",
       "      <td>Low_Up</td>\n",
       "      <td>NaN</td>\n",
       "      <td>High_Down</td>\n",
       "      <td>NaN</td>\n",
       "      <td>Low_Down</td>\n",
       "    </tr>\n",
       "  </tbody>\n",
       "</table>\n",
       "<p>2054 rows × 14 columns</p>\n",
       "</div>"
      ],
      "text/plain": [
       "     Application Perf_node01_task_clock Perf_node01_cpu_bus_cycles_  \\\n",
       "0             CG                     Up                          Up   \n",
       "1             CG                   Down                        Down   \n",
       "2             CG                   Down                          Up   \n",
       "3             CG                   Down                        Down   \n",
       "4             CG                   Down                          Up   \n",
       "...          ...                    ...                         ...   \n",
       "2049          CG                   Down                        Down   \n",
       "2050          CG                   Down                        Down   \n",
       "2051          CG                     Up                        Down   \n",
       "2052          CG                   Down                        Down   \n",
       "2053         NaN                    NaN                         NaN   \n",
       "\n",
       "     Perf_node01_cpu_cpu_cycles_ Perf_node01_msr_aperf_  \\\n",
       "0                             Up                     Up   \n",
       "1                           Down                   Down   \n",
       "2                             Up                   Down   \n",
       "3                           Down                   Down   \n",
       "4                             Up                     Up   \n",
       "...                          ...                    ...   \n",
       "2049                        Down                   Down   \n",
       "2050                        Down                   Down   \n",
       "2051                        Down                   Down   \n",
       "2052                        Down                   Down   \n",
       "2053                         NaN                    NaN   \n",
       "\n",
       "     Perf_node01_msr_mperf_ Perf_node01_msr_tsc_ Perf_node01_cpu_ref_cycles_  \\\n",
       "0                        Up                   Up                          Up   \n",
       "1                      Down                 Down                        Down   \n",
       "2                      Down                 Down                          Up   \n",
       "3                      Down                 Down                        Down   \n",
       "4                        Up                 Down                          Up   \n",
       "...                     ...                  ...                         ...   \n",
       "2049                   Down                 Down                       Same1   \n",
       "2050                   Down                 Down                        Down   \n",
       "2051                   Down                   Up                        Down   \n",
       "2052                   Down                 Down                        Down   \n",
       "2053                    NaN                  NaN                         NaN   \n",
       "\n",
       "     Perf_node01_power_energy_pkg_          a Perf_node01_power_energy_ram_  \\\n",
       "0                           Low_Up        NaN                      Low_Down   \n",
       "1                         Low_Down     Low_Up                        Low_Up   \n",
       "2                           Low_Up   Low_Down                        Low_Up   \n",
       "3                         Low_Down     Low_Up                      Low_Down   \n",
       "4                           Low_Up   Low_Down                       High_Up   \n",
       "...                            ...        ...                           ...   \n",
       "2049                      Low_Down   Low_Down                      Low_Down   \n",
       "2050                        Low_Up   Low_Down                      Low_Down   \n",
       "2051                     High_Down     Low_Up                     High_Down   \n",
       "2052                        Low_Up  High_Down                     High_Down   \n",
       "2053                           NaN     Low_Up                           NaN   \n",
       "\n",
       "              b Perf_node01_power_energy_total_          c  \n",
       "0           NaN                        Low_Down        NaN  \n",
       "1      Low_Down                          Low_Up   Low_Down  \n",
       "2        Low_Up                          Low_Up     Low_Up  \n",
       "3        Low_Up                        Low_Down     Low_Up  \n",
       "4      Low_Down                          Low_Up   Low_Down  \n",
       "...         ...                             ...        ...  \n",
       "2049   Low_Down                        Low_Down   Low_Down  \n",
       "2050   Low_Down                          Low_Up   Low_Down  \n",
       "2051   Low_Down                       High_Down     Low_Up  \n",
       "2052  High_Down                        Low_Down  High_Down  \n",
       "2053  High_Down                             NaN   Low_Down  \n",
       "\n",
       "[2054 rows x 14 columns]"
      ]
     },
     "execution_count": 3,
     "metadata": {},
     "output_type": "execute_result"
    }
   ],
   "source": [
    "bt"
   ]
  },
  {
   "cell_type": "markdown",
   "metadata": {},
   "source": [
    "편한 비교를 위해 만듬"
   ]
  },
  {
   "cell_type": "code",
   "execution_count": 4,
   "metadata": {
    "scrolled": true
   },
   "outputs": [],
   "source": [
    "df = bt[['Perf_node01_power_energy_pkg_', 'a']]"
   ]
  },
  {
   "cell_type": "code",
   "execution_count": 5,
   "metadata": {},
   "outputs": [],
   "source": [
    "ef = bt[['Perf_node01_power_energy_ram_', 'b']]"
   ]
  },
  {
   "cell_type": "code",
   "execution_count": 6,
   "metadata": {},
   "outputs": [],
   "source": [
    "ff = bt[['Perf_node01_power_energy_total_', 'c']]"
   ]
  },
  {
   "cell_type": "markdown",
   "metadata": {},
   "source": [
    "각 전력에 대한 전위확률 매트릭스 정의"
   ]
  },
  {
   "cell_type": "code",
   "execution_count": 7,
   "metadata": {},
   "outputs": [],
   "source": [
    "pkg_matrix = np.zeros((5,5))\n",
    "ram_matrix = np.zeros((5,5))\n",
    "total_matrix = np.zeros((5,5))"
   ]
  },
  {
   "cell_type": "markdown",
   "metadata": {},
   "source": [
    "# pkg 전위확률 계산"
   ]
  },
  {
   "cell_type": "code",
   "execution_count": 25,
   "metadata": {
    "scrolled": true
   },
   "outputs": [
    {
     "name": "stdout",
     "output_type": "stream",
     "text": [
      "High_Up to High_Up :\n",
      " Perf_node01_power_energy_pkg_    0\n",
      "a                                0\n",
      "dtype: int64 \n",
      "\n",
      "High_Up to Low_Up :\n",
      " Perf_node01_power_energy_pkg_    1\n",
      "a                                1\n",
      "dtype: int64 \n",
      "\n",
      "High_Up to Same2 :\n",
      " Perf_node01_power_energy_pkg_    1\n",
      "a                                1\n",
      "dtype: int64 \n",
      "\n",
      "High_Up to Low_Down :\n",
      " Perf_node01_power_energy_pkg_    0\n",
      "a                                0\n",
      "dtype: int64 \n",
      "\n",
      "High_Up to High_Down :\n",
      " Perf_node01_power_energy_pkg_    0\n",
      "a                                0\n",
      "dtype: int64 \n",
      "\n"
     ]
    }
   ],
   "source": [
    "i = df.loc[(df[\"Perf_node01_power_energy_pkg_\"] == \"High_Up\") & (df[\"a\"] == \"High_Up\")].count()\n",
    "print(\"High_Up to High_Up :\\n\",i, \"\\n\")\n",
    "\n",
    "i = df.loc[(df[\"Perf_node01_power_energy_pkg_\"] == \"Low_Up\") & (df[\"a\"] == \"High_Up\")].count()\n",
    "print(\"High_Up to Low_Up :\\n\",i, \"\\n\")\n",
    "\n",
    "i = df.loc[(df[\"Perf_node01_power_energy_pkg_\"] == \"Same2\") & (df[\"a\"] == \"High_Up\")].count()\n",
    "print(\"High_Up to Same2 :\\n\",i, \"\\n\")\n",
    "\n",
    "i = df.loc[(df[\"Perf_node01_power_energy_pkg_\"] == \"Low_Down\") & (df[\"a\"] == \"High_Up\")].count()\n",
    "print(\"High_Up to Low_Down :\\n\",i, \"\\n\")\n",
    "\n",
    "i = df.loc[(df[\"Perf_node01_power_energy_pkg_\"] == \"High_Down\") & (df[\"a\"] == \"High_Up\")].count()\n",
    "print(\"High_Up to High_Down :\\n\",i, \"\\n\")"
   ]
  },
  {
   "cell_type": "code",
   "execution_count": 26,
   "metadata": {},
   "outputs": [
    {
     "name": "stdout",
     "output_type": "stream",
     "text": [
      "Low_Up to High_Up :\n",
      " Perf_node01_power_energy_pkg_    0\n",
      "a                                0\n",
      "dtype: int64 \n",
      "\n",
      "Low_Up to Low_Up :\n",
      " Perf_node01_power_energy_pkg_    343\n",
      "a                                343\n",
      "dtype: int64 \n",
      "\n",
      "Low_Up to Same2 :\n",
      " Perf_node01_power_energy_pkg_    3\n",
      "a                                3\n",
      "dtype: int64 \n",
      "\n",
      "Low_Up to Low_Down :\n",
      " Perf_node01_power_energy_pkg_    691\n",
      "a                                691\n",
      "dtype: int64 \n",
      "\n",
      "Low_Up to High_Down :\n",
      " Perf_node01_power_energy_pkg_    3\n",
      "a                                3\n",
      "dtype: int64 \n",
      "\n"
     ]
    }
   ],
   "source": [
    "i = df.loc[(df[\"Perf_node01_power_energy_pkg_\"] == \"High_Up\") & (df[\"a\"] == \"Low_Up\")].count()\n",
    "print(\"Low_Up to High_Up :\\n\",i, \"\\n\")\n",
    "\n",
    "i = df.loc[(df[\"Perf_node01_power_energy_pkg_\"] == \"Low_Up\") & (df[\"a\"] == \"Low_Up\")].count()\n",
    "print(\"Low_Up to Low_Up :\\n\",i, \"\\n\")\n",
    "\n",
    "i = df.loc[(df[\"Perf_node01_power_energy_pkg_\"] == \"Same2\") & (df[\"a\"] == \"Low_Up\")].count()\n",
    "print(\"Low_Up to Same2 :\\n\",i, \"\\n\")\n",
    "\n",
    "i = df.loc[(df[\"Perf_node01_power_energy_pkg_\"] == \"Low_Down\") & (df[\"a\"] == \"Low_Up\")].count()\n",
    "print(\"Low_Up to Low_Down :\\n\",i, \"\\n\")\n",
    "\n",
    "i = df.loc[(df[\"Perf_node01_power_energy_pkg_\"] == \"High_Down\") & (df[\"a\"] == \"Low_Up\")].count()\n",
    "print(\"Low_Up to High_Down :\\n\",i, \"\\n\")"
   ]
  },
  {
   "cell_type": "code",
   "execution_count": 27,
   "metadata": {},
   "outputs": [
    {
     "name": "stdout",
     "output_type": "stream",
     "text": [
      "Same2 to High_Up :\n",
      " Perf_node01_power_energy_pkg_    0\n",
      "a                                0\n",
      "dtype: int64 \n",
      "\n",
      "Same2 to Low_Up :\n",
      " Perf_node01_power_energy_pkg_    4\n",
      "a                                4\n",
      "dtype: int64 \n",
      "\n",
      "Same2 to Same2 :\n",
      " Perf_node01_power_energy_pkg_    0\n",
      "a                                0\n",
      "dtype: int64 \n",
      "\n",
      "Same2 to Low_Down :\n",
      " Perf_node01_power_energy_pkg_    2\n",
      "a                                2\n",
      "dtype: int64 \n",
      "\n",
      "Same2 to High_Down :\n",
      " Perf_node01_power_energy_pkg_    0\n",
      "a                                0\n",
      "dtype: int64 \n",
      "\n"
     ]
    }
   ],
   "source": [
    "i = df.loc[(df[\"Perf_node01_power_energy_pkg_\"] == \"High_Up\") & (df[\"a\"] == \"Same2\")].count()\n",
    "print(\"Same2 to High_Up :\\n\",i, \"\\n\")\n",
    "\n",
    "i = df.loc[(df[\"Perf_node01_power_energy_pkg_\"] == \"Low_Up\") & (df[\"a\"] == \"Same2\")].count()\n",
    "print(\"Same2 to Low_Up :\\n\",i, \"\\n\")\n",
    "\n",
    "i = df.loc[(df[\"Perf_node01_power_energy_pkg_\"] == \"Same2\") & (df[\"a\"] == \"Same2\")].count()\n",
    "print(\"Same2 to Same2 :\\n\",i, \"\\n\")\n",
    "\n",
    "i = df.loc[(df[\"Perf_node01_power_energy_pkg_\"] == \"Low_Down\") & (df[\"a\"] == \"Same2\")].count()\n",
    "print(\"Same2 to Low_Down :\\n\",i, \"\\n\")\n",
    "\n",
    "i = df.loc[(df[\"Perf_node01_power_energy_pkg_\"] == \"High_Down\") & (df[\"a\"] == \"Same2\")].count()\n",
    "print(\"Same2 to High_Down :\\n\",i, \"\\n\")"
   ]
  },
  {
   "cell_type": "code",
   "execution_count": 28,
   "metadata": {},
   "outputs": [
    {
     "name": "stdout",
     "output_type": "stream",
     "text": [
      "Low_Down to High_Up :\n",
      " Perf_node01_power_energy_pkg_    2\n",
      "a                                2\n",
      "dtype: int64 \n",
      "\n",
      "Low_Down to Low_Up :\n",
      " Perf_node01_power_energy_pkg_    689\n",
      "a                                689\n",
      "dtype: int64 \n",
      "\n",
      "Low_Down to Same2 :\n",
      " Perf_node01_power_energy_pkg_    2\n",
      "a                                2\n",
      "dtype: int64 \n",
      "\n",
      "Low_Down to Low_Down :\n",
      " Perf_node01_power_energy_pkg_    308\n",
      "a                                308\n",
      "dtype: int64 \n",
      "\n",
      "Low_Down to High_Down :\n",
      " Perf_node01_power_energy_pkg_    0\n",
      "a                                0\n",
      "dtype: int64 \n",
      "\n"
     ]
    }
   ],
   "source": [
    "i = df.loc[(df[\"Perf_node01_power_energy_pkg_\"] == \"High_Up\") & (df[\"a\"] == \"Low_Down\")].count()\n",
    "print(\"Low_Down to High_Up :\\n\",i, \"\\n\")\n",
    "\n",
    "i = df.loc[(df[\"Perf_node01_power_energy_pkg_\"] == \"Low_Up\") & (df[\"a\"] == \"Low_Down\")].count()\n",
    "print(\"Low_Down to Low_Up :\\n\",i, \"\\n\")\n",
    "\n",
    "i = df.loc[(df[\"Perf_node01_power_energy_pkg_\"] == \"Same2\") & (df[\"a\"] == \"Low_Down\")].count()\n",
    "print(\"Low_Down to Same2 :\\n\",i, \"\\n\")\n",
    "\n",
    "i = df.loc[(df[\"Perf_node01_power_energy_pkg_\"] == \"Low_Down\") & (df[\"a\"] == \"Low_Down\")].count()\n",
    "print(\"Low_Down to Low_Down :\\n\",i, \"\\n\")\n",
    "\n",
    "i = df.loc[(df[\"Perf_node01_power_energy_pkg_\"] == \"High_Down\") & (df[\"a\"] == \"Low_Down\")].count()\n",
    "print(\"Low_Down to High_Down :\\n\",i, \"\\n\")"
   ]
  },
  {
   "cell_type": "code",
   "execution_count": 29,
   "metadata": {
    "scrolled": true
   },
   "outputs": [
    {
     "name": "stdout",
     "output_type": "stream",
     "text": [
      "High_Down to High_Up :\n",
      " Perf_node01_power_energy_pkg_    0\n",
      "a                                0\n",
      "dtype: int64 \n",
      "\n",
      "High_Down to Low_Up :\n",
      " Perf_node01_power_energy_pkg_    3\n",
      "a                                3\n",
      "dtype: int64 \n",
      "\n",
      "High_Down to Same2 :\n",
      " Perf_node01_power_energy_pkg_    0\n",
      "a                                0\n",
      "dtype: int64 \n",
      "\n",
      "High_Down to Low_Down :\n",
      " Perf_node01_power_energy_pkg_    0\n",
      "a                                0\n",
      "dtype: int64 \n",
      "\n",
      "High_Down to High_Down :\n",
      " Perf_node01_power_energy_pkg_    0\n",
      "a                                0\n",
      "dtype: int64 \n",
      "\n"
     ]
    }
   ],
   "source": [
    "i = df.loc[(df[\"Perf_node01_power_energy_pkg_\"] == \"High_Up\") & (df[\"a\"] == \"High_Down\")].count()\n",
    "print(\"High_Down to High_Up :\\n\",i, \"\\n\")\n",
    "\n",
    "i = df.loc[(df[\"Perf_node01_power_energy_pkg_\"] == \"Low_Up\") & (df[\"a\"] == \"High_Down\")].count()\n",
    "print(\"High_Down to Low_Up :\\n\",i, \"\\n\")\n",
    "\n",
    "i = df.loc[(df[\"Perf_node01_power_energy_pkg_\"] == \"Same2\") & (df[\"a\"] == \"High_Down\")].count()\n",
    "print(\"High_Down to Same2 :\\n\",i, \"\\n\")\n",
    "\n",
    "i = df.loc[(df[\"Perf_node01_power_energy_pkg_\"] == \"Low_Down\") & (df[\"a\"] == \"High_Down\")].count()\n",
    "print(\"High_Down to Low_Down :\\n\",i, \"\\n\")\n",
    "\n",
    "i = df.loc[(df[\"Perf_node01_power_energy_pkg_\"] == \"High_Down\") & (df[\"a\"] == \"High_Down\")].count()\n",
    "print(\"High_Down to High_Down :\\n\",i, \"\\n\")"
   ]
  },
  {
   "cell_type": "code",
   "execution_count": 30,
   "metadata": {},
   "outputs": [],
   "source": [
    "pkg_matrix[0] = [0, 1/2, 1/2, 0, 0]\n",
    "pkg_matrix[1] = [0, 343/1040, 3/1040, 691/1040, 3/1040]\n",
    "pkg_matrix[2] = [0, 4/6, 0, 2/6, 0]\n",
    "pkg_matrix[3] = [2/1001, 689/1001, 2/1001, 308/1001, 0]\n",
    "pkg_matrix[4] = [0, 1, 0, 0, 0]"
   ]
  },
  {
   "cell_type": "code",
   "execution_count": 242,
   "metadata": {},
   "outputs": [],
   "source": [
    "pkg_matrix[4][1] = 313/456\n",
    "pkg_matrix[4][3] = 141/456\n",
    "pkg_matrix[4][4] = 2/456"
   ]
  },
  {
   "cell_type": "code",
   "execution_count": 31,
   "metadata": {},
   "outputs": [
    {
     "data": {
      "text/plain": [
       "array([[0.        , 0.5       , 0.5       , 0.        , 0.        ],\n",
       "       [0.        , 0.32980769, 0.00288462, 0.66442308, 0.00288462],\n",
       "       [0.        , 0.66666667, 0.        , 0.33333333, 0.        ],\n",
       "       [0.001998  , 0.68831169, 0.001998  , 0.30769231, 0.        ],\n",
       "       [0.        , 1.        , 0.        , 0.        , 0.        ]])"
      ]
     },
     "execution_count": 31,
     "metadata": {},
     "output_type": "execute_result"
    }
   ],
   "source": [
    "pkg_matrix"
   ]
  },
  {
   "cell_type": "code",
   "execution_count": 32,
   "metadata": {},
   "outputs": [
    {
     "data": {
      "text/plain": [
       "array([[0.   , 0.5  , 0.5  , 0.   , 0.   ],\n",
       "       [0.   , 0.33 , 0.003, 0.664, 0.003],\n",
       "       [0.   , 0.667, 0.   , 0.333, 0.   ],\n",
       "       [0.002, 0.688, 0.002, 0.308, 0.   ],\n",
       "       [0.   , 1.   , 0.   , 0.   , 0.   ]])"
      ]
     },
     "execution_count": 32,
     "metadata": {},
     "output_type": "execute_result"
    }
   ],
   "source": [
    "pkg_matrix = pkg_matrix.round(3)\n",
    "pkg_matrix"
   ]
  },
  {
   "cell_type": "markdown",
   "metadata": {},
   "source": [
    "# ram 전위확률 계산"
   ]
  },
  {
   "cell_type": "code",
   "execution_count": 33,
   "metadata": {},
   "outputs": [
    {
     "name": "stdout",
     "output_type": "stream",
     "text": [
      "High_Up to High_Up :\n",
      " Perf_node01_power_energy_ram_    8\n",
      "b                                8\n",
      "dtype: int64 \n",
      "\n",
      "High_Up to Low_Up :\n",
      " Perf_node01_power_energy_ram_    64\n",
      "b                                64\n",
      "dtype: int64 \n",
      "\n",
      "High_Up to Same2 :\n",
      " Perf_node01_power_energy_ram_    2\n",
      "b                                2\n",
      "dtype: int64 \n",
      "\n",
      "High_Up to Low_Down :\n",
      " Perf_node01_power_energy_ram_    51\n",
      "b                                51\n",
      "dtype: int64 \n",
      "\n",
      "High_Up to High_Down :\n",
      " Perf_node01_power_energy_ram_    3\n",
      "b                                3\n",
      "dtype: int64 \n",
      "\n"
     ]
    }
   ],
   "source": [
    "i = ef.loc[(ef[\"Perf_node01_power_energy_ram_\"] == \"High_Up\") & (ef[\"b\"] == \"High_Up\")].count()\n",
    "print(\"High_Up to High_Up :\\n\",i, \"\\n\")\n",
    "\n",
    "i = ef.loc[(ef[\"Perf_node01_power_energy_ram_\"] == \"Low_Up\") & (ef[\"b\"] == \"High_Up\")].count()\n",
    "print(\"High_Up to Low_Up :\\n\",i, \"\\n\")\n",
    "\n",
    "i = ef.loc[(ef[\"Perf_node01_power_energy_ram_\"] == \"Same2\") & (ef[\"b\"] == \"High_Up\")].count()\n",
    "print(\"High_Up to Same2 :\\n\",i, \"\\n\")\n",
    "\n",
    "i = ef.loc[(ef[\"Perf_node01_power_energy_ram_\"] == \"Low_Down\") & (ef[\"b\"] == \"High_Up\")].count()\n",
    "print(\"High_Up to Low_Down :\\n\",i, \"\\n\")\n",
    "\n",
    "i = ef.loc[(ef[\"Perf_node01_power_energy_ram_\"] == \"High_Down\") & (ef[\"b\"] == \"High_Up\")].count()\n",
    "print(\"High_Up to High_Down :\\n\",i, \"\\n\")"
   ]
  },
  {
   "cell_type": "code",
   "execution_count": 34,
   "metadata": {},
   "outputs": [
    {
     "name": "stdout",
     "output_type": "stream",
     "text": [
      "Low_Up to High_Up :\n",
      " Perf_node01_power_energy_ram_    9\n",
      "b                                9\n",
      "dtype: int64 \n",
      "\n",
      "Low_Up to Low_Up :\n",
      " Perf_node01_power_energy_ram_    279\n",
      "b                                279\n",
      "dtype: int64 \n",
      "\n",
      "Low_Up to Same2 :\n",
      " Perf_node01_power_energy_ram_    3\n",
      "b                                3\n",
      "dtype: int64 \n",
      "\n",
      "Low_Up to Low_Down :\n",
      " Perf_node01_power_energy_ram_    542\n",
      "b                                542\n",
      "dtype: int64 \n",
      "\n",
      "Low_Up to High_Down :\n",
      " Perf_node01_power_energy_ram_    42\n",
      "b                                42\n",
      "dtype: int64 \n",
      "\n"
     ]
    }
   ],
   "source": [
    "i = ef.loc[(ef[\"Perf_node01_power_energy_ram_\"] == \"High_Up\") & (ef[\"b\"] == \"Low_Up\")].count()\n",
    "print(\"Low_Up to High_Up :\\n\",i, \"\\n\")\n",
    "\n",
    "i = ef.loc[(ef[\"Perf_node01_power_energy_ram_\"] == \"Low_Up\") & (ef[\"b\"] == \"Low_Up\")].count()\n",
    "print(\"Low_Up to Low_Up :\\n\",i, \"\\n\")\n",
    "\n",
    "i = ef.loc[(ef[\"Perf_node01_power_energy_ram_\"] == \"Same2\") & (ef[\"b\"] == \"Low_Up\")].count()\n",
    "print(\"Low_Up to Same2 :\\n\",i, \"\\n\")\n",
    "\n",
    "i = ef.loc[(ef[\"Perf_node01_power_energy_ram_\"] == \"Low_Down\") & (ef[\"b\"] == \"Low_Up\")].count()\n",
    "print(\"Low_Up to Low_Down :\\n\",i, \"\\n\")\n",
    "\n",
    "i = ef.loc[(ef[\"Perf_node01_power_energy_ram_\"] == \"High_Down\") & (ef[\"b\"] == \"Low_Up\")].count()\n",
    "print(\"Low_Up to High_Down :\\n\",i, \"\\n\")"
   ]
  },
  {
   "cell_type": "code",
   "execution_count": 35,
   "metadata": {},
   "outputs": [
    {
     "name": "stdout",
     "output_type": "stream",
     "text": [
      "Same2 to High_Up :\n",
      " Perf_node01_power_energy_ram_    0\n",
      "b                                0\n",
      "dtype: int64 \n",
      "\n",
      "Same2 to Low_Up :\n",
      " Perf_node01_power_energy_ram_    3\n",
      "b                                3\n",
      "dtype: int64 \n",
      "\n",
      "Same2 to Same2 :\n",
      " Perf_node01_power_energy_ram_    0\n",
      "b                                0\n",
      "dtype: int64 \n",
      "\n",
      "Same2 to Low_Down :\n",
      " Perf_node01_power_energy_ram_    3\n",
      "b                                3\n",
      "dtype: int64 \n",
      "\n",
      "Same2 to High_Down :\n",
      " Perf_node01_power_energy_ram_    2\n",
      "b                                2\n",
      "dtype: int64 \n",
      "\n"
     ]
    }
   ],
   "source": [
    "i = ef.loc[(ef[\"Perf_node01_power_energy_ram_\"] == \"High_Up\") & (ef[\"b\"] == \"Same2\")].count()\n",
    "print(\"Same2 to High_Up :\\n\",i, \"\\n\")\n",
    "\n",
    "i = ef.loc[(ef[\"Perf_node01_power_energy_ram_\"] == \"Low_Up\") & (ef[\"b\"] == \"Same2\")].count()\n",
    "print(\"Same2 to Low_Up :\\n\",i, \"\\n\")\n",
    "\n",
    "i = ef.loc[(ef[\"Perf_node01_power_energy_ram_\"] == \"Same2\") & (ef[\"b\"] == \"Same2\")].count()\n",
    "print(\"Same2 to Same2 :\\n\",i, \"\\n\")\n",
    "\n",
    "i = ef.loc[(ef[\"Perf_node01_power_energy_ram_\"] == \"Low_Down\") & (ef[\"b\"] == \"Same2\")].count()\n",
    "print(\"Same2 to Low_Down :\\n\",i, \"\\n\")\n",
    "\n",
    "i = ef.loc[(ef[\"Perf_node01_power_energy_ram_\"] == \"High_Down\") & (ef[\"b\"] == \"Same2\")].count()\n",
    "print(\"Same2 to High_Down :\\n\",i, \"\\n\")"
   ]
  },
  {
   "cell_type": "code",
   "execution_count": 36,
   "metadata": {},
   "outputs": [
    {
     "name": "stdout",
     "output_type": "stream",
     "text": [
      "Low_Down to High_Up :\n",
      " Perf_node01_power_energy_ram_    29\n",
      "b                                29\n",
      "dtype: int64 \n",
      "\n",
      "Low_Down to Low_Up :\n",
      " Perf_node01_power_energy_ram_    517\n",
      "b                                517\n",
      "dtype: int64 \n",
      "\n",
      "Low_Down to Same2 :\n",
      " Perf_node01_power_energy_ram_    3\n",
      "b                                3\n",
      "dtype: int64 \n",
      "\n",
      "Low_Down to Low_Down :\n",
      " Perf_node01_power_energy_ram_    324\n",
      "b                                324\n",
      "dtype: int64 \n",
      "\n",
      "Low_Down to High_Down :\n",
      " Perf_node01_power_energy_ram_    58\n",
      "b                                58\n",
      "dtype: int64 \n",
      "\n"
     ]
    }
   ],
   "source": [
    "i = ef.loc[(ef[\"Perf_node01_power_energy_ram_\"] == \"High_Up\") & (ef[\"b\"] == \"Low_Down\")].count()\n",
    "print(\"Low_Down to High_Up :\\n\",i, \"\\n\")\n",
    "\n",
    "i = ef.loc[(ef[\"Perf_node01_power_energy_ram_\"] == \"Low_Up\") & (ef[\"b\"] == \"Low_Down\")].count()\n",
    "print(\"Low_Down to Low_Up :\\n\",i, \"\\n\")\n",
    "\n",
    "i = ef.loc[(ef[\"Perf_node01_power_energy_ram_\"] == \"Same2\") & (ef[\"b\"] == \"Low_Down\")].count()\n",
    "print(\"Low_Down to Same2 :\\n\",i, \"\\n\")\n",
    "\n",
    "i = ef.loc[(ef[\"Perf_node01_power_energy_ram_\"] == \"Low_Down\") & (ef[\"b\"] == \"Low_Down\")].count()\n",
    "print(\"Low_Down to Low_Down :\\n\",i, \"\\n\")\n",
    "\n",
    "i = ef.loc[(ef[\"Perf_node01_power_energy_ram_\"] == \"High_Down\") & (ef[\"b\"] == \"Low_Down\")].count()\n",
    "print(\"Low_Down to High_Down :\\n\",i, \"\\n\")"
   ]
  },
  {
   "cell_type": "code",
   "execution_count": 37,
   "metadata": {},
   "outputs": [
    {
     "name": "stdout",
     "output_type": "stream",
     "text": [
      "High_Down to High_Up :\n",
      " Perf_node01_power_energy_ram_    82\n",
      "b                                82\n",
      "dtype: int64 \n",
      "\n",
      "High_Down to Low_Up :\n",
      " Perf_node01_power_energy_ram_    12\n",
      "b                                12\n",
      "dtype: int64 \n",
      "\n",
      "High_Down to Same2 :\n",
      " Perf_node01_power_energy_ram_    0\n",
      "b                                0\n",
      "dtype: int64 \n",
      "\n",
      "High_Down to Low_Down :\n",
      " Perf_node01_power_energy_ram_    10\n",
      "b                                10\n",
      "dtype: int64 \n",
      "\n",
      "High_Down to High_Down :\n",
      " Perf_node01_power_energy_ram_    6\n",
      "b                                6\n",
      "dtype: int64 \n",
      "\n"
     ]
    }
   ],
   "source": [
    "i = ef.loc[(ef[\"Perf_node01_power_energy_ram_\"] == \"High_Up\") & (ef[\"b\"] == \"High_Down\")].count()\n",
    "print(\"High_Down to High_Up :\\n\",i, \"\\n\")\n",
    "\n",
    "i = ef.loc[(ef[\"Perf_node01_power_energy_ram_\"] == \"Low_Up\") & (ef[\"b\"] == \"High_Down\")].count()\n",
    "print(\"High_Down to Low_Up :\\n\",i, \"\\n\")\n",
    "\n",
    "i = ef.loc[(ef[\"Perf_node01_power_energy_ram_\"] == \"Same2\") & (ef[\"b\"] == \"High_Down\")].count()\n",
    "print(\"High_Down to Same2 :\\n\",i, \"\\n\")\n",
    "\n",
    "i = ef.loc[(ef[\"Perf_node01_power_energy_ram_\"] == \"Low_Down\") & (ef[\"b\"] == \"High_Down\")].count()\n",
    "print(\"High_Down to Low_Down :\\n\",i, \"\\n\")\n",
    "\n",
    "i = ef.loc[(ef[\"Perf_node01_power_energy_ram_\"] == \"High_Down\") & (ef[\"b\"] == \"High_Down\")].count()\n",
    "print(\"High_Down to High_Down :\\n\",i, \"\\n\")"
   ]
  },
  {
   "cell_type": "code",
   "execution_count": 38,
   "metadata": {},
   "outputs": [],
   "source": [
    "ram_matrix[0] = [8/128, 64/128, 2/128, 51/128, 3/128]\n",
    "ram_matrix[1] = [9/875, 279/875, 3/875, 542/875, 42/875]\n",
    "ram_matrix[2] = [0, 3/8, 0, 3/8, 2/8]\n",
    "ram_matrix[3] = [29/931, 517/931, 3/931, 324/931, 58/931]\n",
    "ram_matrix[4] = [82/110, 12/110, 0, 10/110, 6/110]"
   ]
  },
  {
   "cell_type": "code",
   "execution_count": 39,
   "metadata": {},
   "outputs": [
    {
     "data": {
      "text/plain": [
       "array([[0.0625    , 0.5       , 0.015625  , 0.3984375 , 0.0234375 ],\n",
       "       [0.01028571, 0.31885714, 0.00342857, 0.61942857, 0.048     ],\n",
       "       [0.        , 0.375     , 0.        , 0.375     , 0.25      ],\n",
       "       [0.0311493 , 0.55531686, 0.00322234, 0.34801289, 0.0622986 ],\n",
       "       [0.74545455, 0.10909091, 0.        , 0.09090909, 0.05454545]])"
      ]
     },
     "execution_count": 39,
     "metadata": {},
     "output_type": "execute_result"
    }
   ],
   "source": [
    "ram_matrix"
   ]
  },
  {
   "cell_type": "code",
   "execution_count": 40,
   "metadata": {},
   "outputs": [
    {
     "data": {
      "text/plain": [
       "array([[0.062, 0.5  , 0.016, 0.398, 0.023],\n",
       "       [0.01 , 0.319, 0.003, 0.619, 0.048],\n",
       "       [0.   , 0.375, 0.   , 0.375, 0.25 ],\n",
       "       [0.031, 0.555, 0.003, 0.348, 0.062],\n",
       "       [0.745, 0.109, 0.   , 0.091, 0.055]])"
      ]
     },
     "execution_count": 40,
     "metadata": {},
     "output_type": "execute_result"
    }
   ],
   "source": [
    "ram_matrix = ram_matrix.round(3)\n",
    "ram_matrix"
   ]
  },
  {
   "cell_type": "markdown",
   "metadata": {},
   "source": [
    "# total 전위확률 계산"
   ]
  },
  {
   "cell_type": "code",
   "execution_count": 41,
   "metadata": {},
   "outputs": [
    {
     "name": "stdout",
     "output_type": "stream",
     "text": [
      "High_Up to High_Up :\n",
      " Perf_node01_power_energy_total_    0\n",
      "c                                  0\n",
      "dtype: int64 \n",
      "\n",
      "High_Up to Low_Up :\n",
      " Perf_node01_power_energy_total_    2\n",
      "c                                  2\n",
      "dtype: int64 \n",
      "\n",
      "High_Up to Same2 :\n",
      " Perf_node01_power_energy_total_    0\n",
      "c                                  0\n",
      "dtype: int64 \n",
      "\n",
      "High_Up to Low_Down :\n",
      " Perf_node01_power_energy_total_    1\n",
      "c                                  1\n",
      "dtype: int64 \n",
      "\n",
      "High_Up to High_Down :\n",
      " Perf_node01_power_energy_total_    0\n",
      "c                                  0\n",
      "dtype: int64 \n",
      "\n"
     ]
    }
   ],
   "source": [
    "i = ff.loc[(ff[\"Perf_node01_power_energy_total_\"] == \"High_Up\") & (ff[\"c\"] == \"High_Up\")].count()\n",
    "print(\"High_Up to High_Up :\\n\",i, \"\\n\")\n",
    "\n",
    "i = ff.loc[(ff[\"Perf_node01_power_energy_total_\"] == \"Low_Up\") & (ff[\"c\"] == \"High_Up\")].count()\n",
    "print(\"High_Up to Low_Up :\\n\",i, \"\\n\")\n",
    "\n",
    "i = ff.loc[(ff[\"Perf_node01_power_energy_total_\"] == \"Same2\") & (ff[\"c\"] == \"High_Up\")].count()\n",
    "print(\"High_Up to Same2 :\\n\",i, \"\\n\")\n",
    "\n",
    "i = ff.loc[(ff[\"Perf_node01_power_energy_total_\"] == \"Low_Down\") & (ff[\"c\"] == \"High_Up\")].count()\n",
    "print(\"High_Up to Low_Down :\\n\",i, \"\\n\")\n",
    "\n",
    "i = ff.loc[(ff[\"Perf_node01_power_energy_total_\"] == \"High_Down\") & (ff[\"c\"] == \"High_Up\")].count()\n",
    "print(\"High_Up to High_Down :\\n\",i, \"\\n\")"
   ]
  },
  {
   "cell_type": "code",
   "execution_count": 42,
   "metadata": {},
   "outputs": [
    {
     "name": "stdout",
     "output_type": "stream",
     "text": [
      "Low_Up to High_Up :\n",
      " Perf_node01_power_energy_total_    2\n",
      "c                                  2\n",
      "dtype: int64 \n",
      "\n",
      "Low_Up to Low_Up :\n",
      " Perf_node01_power_energy_total_    369\n",
      "c                                  369\n",
      "dtype: int64 \n",
      "\n",
      "Low_Up to Same2 :\n",
      " Perf_node01_power_energy_total_    2\n",
      "c                                  2\n",
      "dtype: int64 \n",
      "\n",
      "Low_Up to Low_Down :\n",
      " Perf_node01_power_energy_total_    659\n",
      "c                                  659\n",
      "dtype: int64 \n",
      "\n",
      "Low_Up to High_Down :\n",
      " Perf_node01_power_energy_total_    3\n",
      "c                                  3\n",
      "dtype: int64 \n",
      "\n"
     ]
    }
   ],
   "source": [
    "i = ff.loc[(ff[\"Perf_node01_power_energy_total_\"] == \"High_Up\") & (ff[\"c\"] == \"Low_Up\")].count()\n",
    "print(\"Low_Up to High_Up :\\n\",i, \"\\n\")\n",
    "\n",
    "i = ff.loc[(ff[\"Perf_node01_power_energy_total_\"] == \"Low_Up\") & (ff[\"c\"] == \"Low_Up\")].count()\n",
    "print(\"Low_Up to Low_Up :\\n\",i, \"\\n\")\n",
    "\n",
    "i = ff.loc[(ff[\"Perf_node01_power_energy_total_\"] == \"Same2\") & (ff[\"c\"] == \"Low_Up\")].count()\n",
    "print(\"Low_Up to Same2 :\\n\",i, \"\\n\")\n",
    "\n",
    "i = ff.loc[(ff[\"Perf_node01_power_energy_total_\"] == \"Low_Down\") & (ff[\"c\"] == \"Low_Up\")].count()\n",
    "print(\"Low_Up to Low_Down :\\n\",i, \"\\n\")\n",
    "\n",
    "i = ff.loc[(ff[\"Perf_node01_power_energy_total_\"] == \"High_Down\") & (ff[\"c\"] == \"Low_Up\")].count()\n",
    "print(\"Low_Up to High_Down :\\n\",i, \"\\n\")"
   ]
  },
  {
   "cell_type": "code",
   "execution_count": 43,
   "metadata": {},
   "outputs": [
    {
     "name": "stdout",
     "output_type": "stream",
     "text": [
      "Same2 to High_Up :\n",
      " Perf_node01_power_energy_total_    0\n",
      "c                                  0\n",
      "dtype: int64 \n",
      "\n",
      "Same2 to Low_Up :\n",
      " Perf_node01_power_energy_total_    1\n",
      "c                                  1\n",
      "dtype: int64 \n",
      "\n",
      "Same2 to Same2 :\n",
      " Perf_node01_power_energy_total_    0\n",
      "c                                  0\n",
      "dtype: int64 \n",
      "\n",
      "Same2 to Low_Down :\n",
      " Perf_node01_power_energy_total_    1\n",
      "c                                  1\n",
      "dtype: int64 \n",
      "\n",
      "Same2 to High_Down :\n",
      " Perf_node01_power_energy_total_    0\n",
      "c                                  0\n",
      "dtype: int64 \n",
      "\n"
     ]
    }
   ],
   "source": [
    "i = ff.loc[(ff[\"Perf_node01_power_energy_total_\"] == \"High_Up\") & (ff[\"c\"] == \"Same2\")].count()\n",
    "print(\"Same2 to High_Up :\\n\",i, \"\\n\")\n",
    "\n",
    "i = ff.loc[(ff[\"Perf_node01_power_energy_total_\"] == \"Low_Up\") & (ff[\"c\"] == \"Same2\")].count()\n",
    "print(\"Same2 to Low_Up :\\n\",i, \"\\n\")\n",
    "\n",
    "i = ff.loc[(ff[\"Perf_node01_power_energy_total_\"] == \"Same2\") & (ff[\"c\"] == \"Same2\")].count()\n",
    "print(\"Same2 to Same2 :\\n\",i, \"\\n\")\n",
    "\n",
    "i = ff.loc[(ff[\"Perf_node01_power_energy_total_\"] == \"Low_Down\") & (ff[\"c\"] == \"Same2\")].count()\n",
    "print(\"Same2 to Low_Down :\\n\",i, \"\\n\")\n",
    "\n",
    "i = ff.loc[(ff[\"Perf_node01_power_energy_total_\"] == \"High_Down\") & (ff[\"c\"] == \"Same2\")].count()\n",
    "print(\"Same2 to High_Down :\\n\",i, \"\\n\")"
   ]
  },
  {
   "cell_type": "code",
   "execution_count": 44,
   "metadata": {},
   "outputs": [
    {
     "name": "stdout",
     "output_type": "stream",
     "text": [
      "Low_Down to High_Up :\n",
      " Perf_node01_power_energy_total_    1\n",
      "c                                  1\n",
      "dtype: int64 \n",
      "\n",
      "Low_Down to Low_Up :\n",
      " Perf_node01_power_energy_total_    662\n",
      "c                                  662\n",
      "dtype: int64 \n",
      "\n",
      "Low_Down to Same2 :\n",
      " Perf_node01_power_energy_total_    0\n",
      "c                                  0\n",
      "dtype: int64 \n",
      "\n",
      "Low_Down to Low_Down :\n",
      " Perf_node01_power_energy_total_    346\n",
      "c                                  346\n",
      "dtype: int64 \n",
      "\n",
      "Low_Down to High_Down :\n",
      " Perf_node01_power_energy_total_    0\n",
      "c                                  0\n",
      "dtype: int64 \n",
      "\n"
     ]
    }
   ],
   "source": [
    "i = ff.loc[(ff[\"Perf_node01_power_energy_total_\"] == \"High_Up\") & (ff[\"c\"] == \"Low_Down\")].count()\n",
    "print(\"Low_Down to High_Up :\\n\",i, \"\\n\")\n",
    "\n",
    "i = ff.loc[(ff[\"Perf_node01_power_energy_total_\"] == \"Low_Up\") & (ff[\"c\"] == \"Low_Down\")].count()\n",
    "print(\"Low_Down to Low_Up :\\n\",i, \"\\n\")\n",
    "\n",
    "i = ff.loc[(ff[\"Perf_node01_power_energy_total_\"] == \"Same2\") & (ff[\"c\"] == \"Low_Down\")].count()\n",
    "print(\"Low_Down to Same2 :\\n\",i, \"\\n\")\n",
    "\n",
    "i = ff.loc[(ff[\"Perf_node01_power_energy_total_\"] == \"Low_Down\") & (ff[\"c\"] == \"Low_Down\")].count()\n",
    "print(\"Low_Down to Low_Down :\\n\",i, \"\\n\")\n",
    "\n",
    "i = ff.loc[(ff[\"Perf_node01_power_energy_total_\"] == \"High_Down\") & (ff[\"c\"] == \"Low_Down\")].count()\n",
    "print(\"Low_Down to High_Down :\\n\",i, \"\\n\")"
   ]
  },
  {
   "cell_type": "code",
   "execution_count": 45,
   "metadata": {},
   "outputs": [
    {
     "name": "stdout",
     "output_type": "stream",
     "text": [
      "High_Down to High_Up :\n",
      " Perf_node01_power_energy_total_    0\n",
      "c                                  0\n",
      "dtype: int64 \n",
      "\n",
      "High_Down to Low_Up :\n",
      " Perf_node01_power_energy_total_    1\n",
      "c                                  1\n",
      "dtype: int64 \n",
      "\n",
      "High_Down to Same2 :\n",
      " Perf_node01_power_energy_total_    0\n",
      "c                                  0\n",
      "dtype: int64 \n",
      "\n",
      "High_Down to Low_Down :\n",
      " Perf_node01_power_energy_total_    2\n",
      "c                                  2\n",
      "dtype: int64 \n",
      "\n",
      "High_Down to High_Down :\n",
      " Perf_node01_power_energy_total_    0\n",
      "c                                  0\n",
      "dtype: int64 \n",
      "\n"
     ]
    }
   ],
   "source": [
    "i = ff.loc[(ff[\"Perf_node01_power_energy_total_\"] == \"High_Up\") & (ff[\"c\"] == \"High_Down\")].count()\n",
    "print(\"High_Down to High_Up :\\n\",i, \"\\n\")\n",
    "\n",
    "i = ff.loc[(ff[\"Perf_node01_power_energy_total_\"] == \"Low_Up\") & (ff[\"c\"] == \"High_Down\")].count()\n",
    "print(\"High_Down to Low_Up :\\n\",i, \"\\n\")\n",
    "\n",
    "i = ff.loc[(ff[\"Perf_node01_power_energy_total_\"] == \"Same2\") & (ff[\"c\"] == \"High_Down\")].count()\n",
    "print(\"High_Down to Same2 :\\n\",i, \"\\n\")\n",
    "\n",
    "i = ff.loc[(ff[\"Perf_node01_power_energy_total_\"] == \"Low_Down\") & (ff[\"c\"] == \"High_Down\")].count()\n",
    "print(\"High_Down to Low_Down :\\n\",i, \"\\n\")\n",
    "\n",
    "i = ff.loc[(ff[\"Perf_node01_power_energy_total_\"] == \"High_Down\") & (ff[\"c\"] == \"High_Down\")].count()\n",
    "print(\"High_Down to High_Down :\\n\",i, \"\\n\")"
   ]
  },
  {
   "cell_type": "code",
   "execution_count": 48,
   "metadata": {},
   "outputs": [],
   "source": [
    "total_matrix[0] = [0, 2/3, 0, 1/3, 0]\n",
    "total_matrix[1] = [2/1035, 369/1035, 2/1035, 659/1035, 3/1035]\n",
    "total_matrix[2] = [0, 1/2, 0, 1/2, 0]\n",
    "total_matrix[3] = [1/1009, 662/1009, 0, 346/1009, 0]\n",
    "total_matrix[4] = [0, 1/3, 0, 2/3, 0]"
   ]
  },
  {
   "cell_type": "code",
   "execution_count": 49,
   "metadata": {},
   "outputs": [
    {
     "data": {
      "text/plain": [
       "array([[0.        , 0.66666667, 0.        , 0.33333333, 0.        ],\n",
       "       [0.00193237, 0.35652174, 0.00193237, 0.63671498, 0.00289855],\n",
       "       [0.        , 0.5       , 0.        , 0.5       , 0.        ],\n",
       "       [0.00099108, 0.65609514, 0.        , 0.34291378, 0.        ],\n",
       "       [0.        , 0.33333333, 0.        , 0.66666667, 0.        ]])"
      ]
     },
     "execution_count": 49,
     "metadata": {},
     "output_type": "execute_result"
    }
   ],
   "source": [
    "total_matrix"
   ]
  },
  {
   "cell_type": "code",
   "execution_count": 50,
   "metadata": {},
   "outputs": [
    {
     "data": {
      "text/plain": [
       "array([[0.   , 0.667, 0.   , 0.333, 0.   ],\n",
       "       [0.002, 0.357, 0.002, 0.637, 0.003],\n",
       "       [0.   , 0.5  , 0.   , 0.5  , 0.   ],\n",
       "       [0.001, 0.656, 0.   , 0.343, 0.   ],\n",
       "       [0.   , 0.333, 0.   , 0.667, 0.   ]])"
      ]
     },
     "execution_count": 50,
     "metadata": {},
     "output_type": "execute_result"
    }
   ],
   "source": [
    "total_matrix = total_matrix.round(3)\n",
    "total_matrix"
   ]
  },
  {
   "cell_type": "markdown",
   "metadata": {},
   "source": [
    "# 결론"
   ]
  },
  {
   "cell_type": "code",
   "execution_count": 51,
   "metadata": {},
   "outputs": [
    {
     "name": "stdout",
     "output_type": "stream",
     "text": [
      "[[0.    0.5   0.5   0.    0.   ]\n",
      " [0.    0.33  0.003 0.664 0.003]\n",
      " [0.    0.667 0.    0.333 0.   ]\n",
      " [0.002 0.688 0.002 0.308 0.   ]\n",
      " [0.    1.    0.    0.    0.   ]]\n",
      "[[0.062 0.5   0.016 0.398 0.023]\n",
      " [0.01  0.319 0.003 0.619 0.048]\n",
      " [0.    0.375 0.    0.375 0.25 ]\n",
      " [0.031 0.555 0.003 0.348 0.062]\n",
      " [0.745 0.109 0.    0.091 0.055]]\n",
      "[[0.    0.667 0.    0.333 0.   ]\n",
      " [0.002 0.357 0.002 0.637 0.003]\n",
      " [0.    0.5   0.    0.5   0.   ]\n",
      " [0.001 0.656 0.    0.343 0.   ]\n",
      " [0.    0.333 0.    0.667 0.   ]]\n"
     ]
    }
   ],
   "source": [
    "print(pkg_matrix)\n",
    "print(ram_matrix)\n",
    "print(total_matrix)"
   ]
  },
  {
   "cell_type": "code",
   "execution_count": null,
   "metadata": {},
   "outputs": [],
   "source": []
  }
 ],
 "metadata": {
  "kernelspec": {
   "display_name": "Python 3",
   "language": "python",
   "name": "python3"
  },
  "language_info": {
   "codemirror_mode": {
    "name": "ipython",
    "version": 3
   },
   "file_extension": ".py",
   "mimetype": "text/x-python",
   "name": "python",
   "nbconvert_exporter": "python",
   "pygments_lexer": "ipython3",
   "version": "3.7.4"
  }
 },
 "nbformat": 4,
 "nbformat_minor": 2
}
