{
 "cells": [
  {
   "cell_type": "code",
   "execution_count": 1,
   "metadata": {},
   "outputs": [],
   "source": [
    "import numpy as np\n",
    "import pandas as pd\n",
    "import matplotlib.pyplot as plt"
   ]
  },
  {
   "cell_type": "markdown",
   "metadata": {},
   "source": [
    "## pkg, ram, total의 전위 확률 구하기"
   ]
  },
  {
   "cell_type": "code",
   "execution_count": 2,
   "metadata": {},
   "outputs": [],
   "source": [
    "bt = pd.read_csv(\"mg.csv\")"
   ]
  },
  {
   "cell_type": "code",
   "execution_count": 3,
   "metadata": {
    "scrolled": false
   },
   "outputs": [
    {
     "data": {
      "text/html": [
       "<div>\n",
       "<style scoped>\n",
       "    .dataframe tbody tr th:only-of-type {\n",
       "        vertical-align: middle;\n",
       "    }\n",
       "\n",
       "    .dataframe tbody tr th {\n",
       "        vertical-align: top;\n",
       "    }\n",
       "\n",
       "    .dataframe thead th {\n",
       "        text-align: right;\n",
       "    }\n",
       "</style>\n",
       "<table border=\"1\" class=\"dataframe\">\n",
       "  <thead>\n",
       "    <tr style=\"text-align: right;\">\n",
       "      <th></th>\n",
       "      <th>Application</th>\n",
       "      <th>Perf_node01_task_clock</th>\n",
       "      <th>Perf_node01_cpu_bus_cycles_</th>\n",
       "      <th>Perf_node01_cpu_cpu_cycles_</th>\n",
       "      <th>Perf_node01_msr_aperf_</th>\n",
       "      <th>Perf_node01_msr_mperf_</th>\n",
       "      <th>Perf_node01_msr_tsc_</th>\n",
       "      <th>Perf_node01_cpu_ref_cycles_</th>\n",
       "      <th>Perf_node01_power_energy_pkg_</th>\n",
       "      <th>a</th>\n",
       "      <th>Perf_node01_power_energy_ram_</th>\n",
       "      <th>b</th>\n",
       "      <th>Perf_node01_power_energy_total_</th>\n",
       "      <th>c</th>\n",
       "    </tr>\n",
       "  </thead>\n",
       "  <tbody>\n",
       "    <tr>\n",
       "      <td>0</td>\n",
       "      <td>MG</td>\n",
       "      <td>Down</td>\n",
       "      <td>Up</td>\n",
       "      <td>Up</td>\n",
       "      <td>Up</td>\n",
       "      <td>Up</td>\n",
       "      <td>Down</td>\n",
       "      <td>Up</td>\n",
       "      <td>Low_Up</td>\n",
       "      <td>NaN</td>\n",
       "      <td>Low_Up</td>\n",
       "      <td>NaN</td>\n",
       "      <td>Low_Up</td>\n",
       "      <td>NaN</td>\n",
       "    </tr>\n",
       "    <tr>\n",
       "      <td>1</td>\n",
       "      <td>MG</td>\n",
       "      <td>Down</td>\n",
       "      <td>Up</td>\n",
       "      <td>Up</td>\n",
       "      <td>Up</td>\n",
       "      <td>Up</td>\n",
       "      <td>Down</td>\n",
       "      <td>Up</td>\n",
       "      <td>Low_Up</td>\n",
       "      <td>Low_Up</td>\n",
       "      <td>Same2</td>\n",
       "      <td>Low_Up</td>\n",
       "      <td>Low_Up</td>\n",
       "      <td>Low_Up</td>\n",
       "    </tr>\n",
       "    <tr>\n",
       "      <td>2</td>\n",
       "      <td>MG</td>\n",
       "      <td>Up</td>\n",
       "      <td>Up</td>\n",
       "      <td>Up</td>\n",
       "      <td>Up</td>\n",
       "      <td>Up</td>\n",
       "      <td>Up</td>\n",
       "      <td>Up</td>\n",
       "      <td>Low_Up</td>\n",
       "      <td>Low_Up</td>\n",
       "      <td>Low_Down</td>\n",
       "      <td>Same2</td>\n",
       "      <td>Low_Up</td>\n",
       "      <td>Low_Up</td>\n",
       "    </tr>\n",
       "    <tr>\n",
       "      <td>3</td>\n",
       "      <td>MG</td>\n",
       "      <td>Up</td>\n",
       "      <td>Up</td>\n",
       "      <td>Up</td>\n",
       "      <td>Up</td>\n",
       "      <td>Up</td>\n",
       "      <td>Same1</td>\n",
       "      <td>Up</td>\n",
       "      <td>Low_Up</td>\n",
       "      <td>Low_Up</td>\n",
       "      <td>Low_Down</td>\n",
       "      <td>Low_Down</td>\n",
       "      <td>Low_Up</td>\n",
       "      <td>Low_Up</td>\n",
       "    </tr>\n",
       "    <tr>\n",
       "      <td>4</td>\n",
       "      <td>MG</td>\n",
       "      <td>Up</td>\n",
       "      <td>Up</td>\n",
       "      <td>Up</td>\n",
       "      <td>Up</td>\n",
       "      <td>Up</td>\n",
       "      <td>Up</td>\n",
       "      <td>Up</td>\n",
       "      <td>High_Up</td>\n",
       "      <td>Low_Up</td>\n",
       "      <td>High_Up</td>\n",
       "      <td>Low_Down</td>\n",
       "      <td>High_Up</td>\n",
       "      <td>Low_Up</td>\n",
       "    </tr>\n",
       "    <tr>\n",
       "      <td>...</td>\n",
       "      <td>...</td>\n",
       "      <td>...</td>\n",
       "      <td>...</td>\n",
       "      <td>...</td>\n",
       "      <td>...</td>\n",
       "      <td>...</td>\n",
       "      <td>...</td>\n",
       "      <td>...</td>\n",
       "      <td>...</td>\n",
       "      <td>...</td>\n",
       "      <td>...</td>\n",
       "      <td>...</td>\n",
       "      <td>...</td>\n",
       "      <td>...</td>\n",
       "    </tr>\n",
       "    <tr>\n",
       "      <td>174</td>\n",
       "      <td>MG</td>\n",
       "      <td>Up</td>\n",
       "      <td>Down</td>\n",
       "      <td>Same1</td>\n",
       "      <td>Up</td>\n",
       "      <td>Down</td>\n",
       "      <td>Down</td>\n",
       "      <td>Down</td>\n",
       "      <td>Low_Down</td>\n",
       "      <td>Low_Up</td>\n",
       "      <td>Low_Down</td>\n",
       "      <td>Low_Down</td>\n",
       "      <td>Low_Down</td>\n",
       "      <td>Low_Up</td>\n",
       "    </tr>\n",
       "    <tr>\n",
       "      <td>175</td>\n",
       "      <td>MG</td>\n",
       "      <td>Down</td>\n",
       "      <td>Down</td>\n",
       "      <td>Down</td>\n",
       "      <td>Down</td>\n",
       "      <td>Down</td>\n",
       "      <td>Up</td>\n",
       "      <td>Up</td>\n",
       "      <td>Low_Down</td>\n",
       "      <td>Low_Down</td>\n",
       "      <td>Low_Down</td>\n",
       "      <td>Low_Down</td>\n",
       "      <td>Low_Down</td>\n",
       "      <td>Low_Down</td>\n",
       "    </tr>\n",
       "    <tr>\n",
       "      <td>176</td>\n",
       "      <td>MG</td>\n",
       "      <td>Up</td>\n",
       "      <td>Up</td>\n",
       "      <td>Up</td>\n",
       "      <td>Down</td>\n",
       "      <td>Down</td>\n",
       "      <td>Up</td>\n",
       "      <td>Down</td>\n",
       "      <td>Low_Down</td>\n",
       "      <td>Low_Down</td>\n",
       "      <td>High_Down</td>\n",
       "      <td>Low_Down</td>\n",
       "      <td>Low_Down</td>\n",
       "      <td>Low_Down</td>\n",
       "    </tr>\n",
       "    <tr>\n",
       "      <td>177</td>\n",
       "      <td>MG</td>\n",
       "      <td>Down</td>\n",
       "      <td>Down</td>\n",
       "      <td>Down</td>\n",
       "      <td>Down</td>\n",
       "      <td>Down</td>\n",
       "      <td>Down</td>\n",
       "      <td>Down</td>\n",
       "      <td>High_Down</td>\n",
       "      <td>Low_Down</td>\n",
       "      <td>High_Down</td>\n",
       "      <td>High_Down</td>\n",
       "      <td>High_Down</td>\n",
       "      <td>Low_Down</td>\n",
       "    </tr>\n",
       "    <tr>\n",
       "      <td>178</td>\n",
       "      <td>NaN</td>\n",
       "      <td>NaN</td>\n",
       "      <td>NaN</td>\n",
       "      <td>NaN</td>\n",
       "      <td>NaN</td>\n",
       "      <td>NaN</td>\n",
       "      <td>NaN</td>\n",
       "      <td>NaN</td>\n",
       "      <td>NaN</td>\n",
       "      <td>High_Down</td>\n",
       "      <td>NaN</td>\n",
       "      <td>High_Down</td>\n",
       "      <td>NaN</td>\n",
       "      <td>High_Down</td>\n",
       "    </tr>\n",
       "  </tbody>\n",
       "</table>\n",
       "<p>179 rows × 14 columns</p>\n",
       "</div>"
      ],
      "text/plain": [
       "    Application Perf_node01_task_clock Perf_node01_cpu_bus_cycles_  \\\n",
       "0            MG                   Down                          Up   \n",
       "1            MG                   Down                          Up   \n",
       "2            MG                     Up                          Up   \n",
       "3            MG                     Up                          Up   \n",
       "4            MG                     Up                          Up   \n",
       "..          ...                    ...                         ...   \n",
       "174          MG                     Up                        Down   \n",
       "175          MG                   Down                        Down   \n",
       "176          MG                     Up                          Up   \n",
       "177          MG                   Down                        Down   \n",
       "178         NaN                    NaN                         NaN   \n",
       "\n",
       "    Perf_node01_cpu_cpu_cycles_ Perf_node01_msr_aperf_ Perf_node01_msr_mperf_  \\\n",
       "0                            Up                     Up                     Up   \n",
       "1                            Up                     Up                     Up   \n",
       "2                            Up                     Up                     Up   \n",
       "3                            Up                     Up                     Up   \n",
       "4                            Up                     Up                     Up   \n",
       "..                          ...                    ...                    ...   \n",
       "174                       Same1                     Up                   Down   \n",
       "175                        Down                   Down                   Down   \n",
       "176                          Up                   Down                   Down   \n",
       "177                        Down                   Down                   Down   \n",
       "178                         NaN                    NaN                    NaN   \n",
       "\n",
       "    Perf_node01_msr_tsc_ Perf_node01_cpu_ref_cycles_  \\\n",
       "0                   Down                          Up   \n",
       "1                   Down                          Up   \n",
       "2                     Up                          Up   \n",
       "3                  Same1                          Up   \n",
       "4                     Up                          Up   \n",
       "..                   ...                         ...   \n",
       "174                 Down                        Down   \n",
       "175                   Up                          Up   \n",
       "176                   Up                        Down   \n",
       "177                 Down                        Down   \n",
       "178                  NaN                         NaN   \n",
       "\n",
       "    Perf_node01_power_energy_pkg_          a Perf_node01_power_energy_ram_  \\\n",
       "0                          Low_Up        NaN                        Low_Up   \n",
       "1                          Low_Up     Low_Up                         Same2   \n",
       "2                          Low_Up     Low_Up                      Low_Down   \n",
       "3                          Low_Up     Low_Up                      Low_Down   \n",
       "4                         High_Up     Low_Up                       High_Up   \n",
       "..                            ...        ...                           ...   \n",
       "174                      Low_Down     Low_Up                      Low_Down   \n",
       "175                      Low_Down   Low_Down                      Low_Down   \n",
       "176                      Low_Down   Low_Down                     High_Down   \n",
       "177                     High_Down   Low_Down                     High_Down   \n",
       "178                           NaN  High_Down                           NaN   \n",
       "\n",
       "             b Perf_node01_power_energy_total_          c  \n",
       "0          NaN                          Low_Up        NaN  \n",
       "1       Low_Up                          Low_Up     Low_Up  \n",
       "2        Same2                          Low_Up     Low_Up  \n",
       "3     Low_Down                          Low_Up     Low_Up  \n",
       "4     Low_Down                         High_Up     Low_Up  \n",
       "..         ...                             ...        ...  \n",
       "174   Low_Down                        Low_Down     Low_Up  \n",
       "175   Low_Down                        Low_Down   Low_Down  \n",
       "176   Low_Down                        Low_Down   Low_Down  \n",
       "177  High_Down                       High_Down   Low_Down  \n",
       "178  High_Down                             NaN  High_Down  \n",
       "\n",
       "[179 rows x 14 columns]"
      ]
     },
     "execution_count": 3,
     "metadata": {},
     "output_type": "execute_result"
    }
   ],
   "source": [
    "bt"
   ]
  },
  {
   "cell_type": "markdown",
   "metadata": {},
   "source": [
    "편한 비교를 위해 만듬"
   ]
  },
  {
   "cell_type": "code",
   "execution_count": 4,
   "metadata": {
    "scrolled": true
   },
   "outputs": [],
   "source": [
    "df = bt[['Perf_node01_power_energy_pkg_', 'a']]"
   ]
  },
  {
   "cell_type": "code",
   "execution_count": 5,
   "metadata": {},
   "outputs": [],
   "source": [
    "ef = bt[['Perf_node01_power_energy_ram_', 'b']]"
   ]
  },
  {
   "cell_type": "code",
   "execution_count": 6,
   "metadata": {},
   "outputs": [],
   "source": [
    "ff = bt[['Perf_node01_power_energy_total_', 'c']]"
   ]
  },
  {
   "cell_type": "markdown",
   "metadata": {},
   "source": [
    "각 전력에 대한 전위확률 매트릭스 정의"
   ]
  },
  {
   "cell_type": "code",
   "execution_count": 7,
   "metadata": {},
   "outputs": [],
   "source": [
    "pkg_matrix = np.zeros((5,5))\n",
    "ram_matrix = np.zeros((5,5))\n",
    "total_matrix = np.zeros((5,5))"
   ]
  },
  {
   "cell_type": "markdown",
   "metadata": {},
   "source": [
    "# pkg 전위확률 계산"
   ]
  },
  {
   "cell_type": "code",
   "execution_count": 8,
   "metadata": {},
   "outputs": [
    {
     "name": "stdout",
     "output_type": "stream",
     "text": [
      "High_Up to High_Up :\n",
      " Perf_node01_power_energy_pkg_    2\n",
      "a                                2\n",
      "dtype: int64 \n",
      "\n",
      "High_Up to Low_Up :\n",
      " Perf_node01_power_energy_pkg_    1\n",
      "a                                1\n",
      "dtype: int64 \n",
      "\n",
      "High_Up to Same2 :\n",
      " Perf_node01_power_energy_pkg_    0\n",
      "a                                0\n",
      "dtype: int64 \n",
      "\n",
      "High_Up to Low_Down :\n",
      " Perf_node01_power_energy_pkg_    2\n",
      "a                                2\n",
      "dtype: int64 \n",
      "\n",
      "High_Up to High_Down :\n",
      " Perf_node01_power_energy_pkg_    1\n",
      "a                                1\n",
      "dtype: int64 \n",
      "\n"
     ]
    }
   ],
   "source": [
    "i = df.loc[(df[\"Perf_node01_power_energy_pkg_\"] == \"High_Up\") & (df[\"a\"] == \"High_Up\")].count()\n",
    "print(\"High_Up to High_Up :\\n\",i, \"\\n\")\n",
    "\n",
    "i = df.loc[(df[\"Perf_node01_power_energy_pkg_\"] == \"Low_Up\") & (df[\"a\"] == \"High_Up\")].count()\n",
    "print(\"High_Up to Low_Up :\\n\",i, \"\\n\")\n",
    "\n",
    "i = df.loc[(df[\"Perf_node01_power_energy_pkg_\"] == \"Same2\") & (df[\"a\"] == \"High_Up\")].count()\n",
    "print(\"High_Up to Same2 :\\n\",i, \"\\n\")\n",
    "\n",
    "i = df.loc[(df[\"Perf_node01_power_energy_pkg_\"] == \"Low_Down\") & (df[\"a\"] == \"High_Up\")].count()\n",
    "print(\"High_Up to Low_Down :\\n\",i, \"\\n\")\n",
    "\n",
    "i = df.loc[(df[\"Perf_node01_power_energy_pkg_\"] == \"High_Down\") & (df[\"a\"] == \"High_Up\")].count()\n",
    "print(\"High_Up to High_Down :\\n\",i, \"\\n\")"
   ]
  },
  {
   "cell_type": "code",
   "execution_count": 9,
   "metadata": {},
   "outputs": [
    {
     "name": "stdout",
     "output_type": "stream",
     "text": [
      "Low_Up to High_Up :\n",
      " Perf_node01_power_energy_pkg_    1\n",
      "a                                1\n",
      "dtype: int64 \n",
      "\n",
      "Low_Up to Low_Up :\n",
      " Perf_node01_power_energy_pkg_    52\n",
      "a                                52\n",
      "dtype: int64 \n",
      "\n",
      "Low_Up to Same2 :\n",
      " Perf_node01_power_energy_pkg_    0\n",
      "a                                0\n",
      "dtype: int64 \n",
      "\n",
      "Low_Up to Low_Down :\n",
      " Perf_node01_power_energy_pkg_    42\n",
      "a                                42\n",
      "dtype: int64 \n",
      "\n",
      "Low_Up to High_Down :\n",
      " Perf_node01_power_energy_pkg_    2\n",
      "a                                2\n",
      "dtype: int64 \n",
      "\n"
     ]
    }
   ],
   "source": [
    "i = df.loc[(df[\"Perf_node01_power_energy_pkg_\"] == \"High_Up\") & (df[\"a\"] == \"Low_Up\")].count()\n",
    "print(\"Low_Up to High_Up :\\n\",i, \"\\n\")\n",
    "\n",
    "i = df.loc[(df[\"Perf_node01_power_energy_pkg_\"] == \"Low_Up\") & (df[\"a\"] == \"Low_Up\")].count()\n",
    "print(\"Low_Up to Low_Up :\\n\",i, \"\\n\")\n",
    "\n",
    "i = df.loc[(df[\"Perf_node01_power_energy_pkg_\"] == \"Same2\") & (df[\"a\"] == \"Low_Up\")].count()\n",
    "print(\"Low_Up to Same2 :\\n\",i, \"\\n\")\n",
    "\n",
    "i = df.loc[(df[\"Perf_node01_power_energy_pkg_\"] == \"Low_Down\") & (df[\"a\"] == \"Low_Up\")].count()\n",
    "print(\"Low_Up to Low_Down :\\n\",i, \"\\n\")\n",
    "\n",
    "i = df.loc[(df[\"Perf_node01_power_energy_pkg_\"] == \"High_Down\") & (df[\"a\"] == \"Low_Up\")].count()\n",
    "print(\"Low_Up to High_Down :\\n\",i, \"\\n\")"
   ]
  },
  {
   "cell_type": "code",
   "execution_count": 10,
   "metadata": {},
   "outputs": [
    {
     "name": "stdout",
     "output_type": "stream",
     "text": [
      "Same2 to High_Up :\n",
      " Perf_node01_power_energy_pkg_    0\n",
      "a                                0\n",
      "dtype: int64 \n",
      "\n",
      "Same2 to Low_Up :\n",
      " Perf_node01_power_energy_pkg_    0\n",
      "a                                0\n",
      "dtype: int64 \n",
      "\n",
      "Same2 to Same2 :\n",
      " Perf_node01_power_energy_pkg_    0\n",
      "a                                0\n",
      "dtype: int64 \n",
      "\n",
      "Same2 to Low_Down :\n",
      " Perf_node01_power_energy_pkg_    0\n",
      "a                                0\n",
      "dtype: int64 \n",
      "\n",
      "Same2 to High_Down :\n",
      " Perf_node01_power_energy_pkg_    0\n",
      "a                                0\n",
      "dtype: int64 \n",
      "\n"
     ]
    }
   ],
   "source": [
    "i = df.loc[(df[\"Perf_node01_power_energy_pkg_\"] == \"High_Up\") & (df[\"a\"] == \"Same2\")].count()\n",
    "print(\"Same2 to High_Up :\\n\",i, \"\\n\")\n",
    "\n",
    "i = df.loc[(df[\"Perf_node01_power_energy_pkg_\"] == \"Low_Up\") & (df[\"a\"] == \"Same2\")].count()\n",
    "print(\"Same2 to Low_Up :\\n\",i, \"\\n\")\n",
    "\n",
    "i = df.loc[(df[\"Perf_node01_power_energy_pkg_\"] == \"Same2\") & (df[\"a\"] == \"Same2\")].count()\n",
    "print(\"Same2 to Same2 :\\n\",i, \"\\n\")\n",
    "\n",
    "i = df.loc[(df[\"Perf_node01_power_energy_pkg_\"] == \"Low_Down\") & (df[\"a\"] == \"Same2\")].count()\n",
    "print(\"Same2 to Low_Down :\\n\",i, \"\\n\")\n",
    "\n",
    "i = df.loc[(df[\"Perf_node01_power_energy_pkg_\"] == \"High_Down\") & (df[\"a\"] == \"Same2\")].count()\n",
    "print(\"Same2 to High_Down :\\n\",i, \"\\n\")"
   ]
  },
  {
   "cell_type": "code",
   "execution_count": 11,
   "metadata": {},
   "outputs": [
    {
     "name": "stdout",
     "output_type": "stream",
     "text": [
      "Low_Down to High_Up :\n",
      " Perf_node01_power_energy_pkg_    2\n",
      "a                                2\n",
      "dtype: int64 \n",
      "\n",
      "Low_Down to Low_Up :\n",
      " Perf_node01_power_energy_pkg_    41\n",
      "a                                41\n",
      "dtype: int64 \n",
      "\n",
      "Low_Down to Same2 :\n",
      " Perf_node01_power_energy_pkg_    0\n",
      "a                                0\n",
      "dtype: int64 \n",
      "\n",
      "Low_Down to Low_Down :\n",
      " Perf_node01_power_energy_pkg_    25\n",
      "a                                25\n",
      "dtype: int64 \n",
      "\n",
      "Low_Down to High_Down :\n",
      " Perf_node01_power_energy_pkg_    2\n",
      "a                                2\n",
      "dtype: int64 \n",
      "\n"
     ]
    }
   ],
   "source": [
    "i = df.loc[(df[\"Perf_node01_power_energy_pkg_\"] == \"High_Up\") & (df[\"a\"] == \"Low_Down\")].count()\n",
    "print(\"Low_Down to High_Up :\\n\",i, \"\\n\")\n",
    "\n",
    "i = df.loc[(df[\"Perf_node01_power_energy_pkg_\"] == \"Low_Up\") & (df[\"a\"] == \"Low_Down\")].count()\n",
    "print(\"Low_Down to Low_Up :\\n\",i, \"\\n\")\n",
    "\n",
    "i = df.loc[(df[\"Perf_node01_power_energy_pkg_\"] == \"Same2\") & (df[\"a\"] == \"Low_Down\")].count()\n",
    "print(\"Low_Down to Same2 :\\n\",i, \"\\n\")\n",
    "\n",
    "i = df.loc[(df[\"Perf_node01_power_energy_pkg_\"] == \"Low_Down\") & (df[\"a\"] == \"Low_Down\")].count()\n",
    "print(\"Low_Down to Low_Down :\\n\",i, \"\\n\")\n",
    "\n",
    "i = df.loc[(df[\"Perf_node01_power_energy_pkg_\"] == \"High_Down\") & (df[\"a\"] == \"Low_Down\")].count()\n",
    "print(\"Low_Down to High_Down :\\n\",i, \"\\n\")"
   ]
  },
  {
   "cell_type": "code",
   "execution_count": 12,
   "metadata": {
    "scrolled": false
   },
   "outputs": [
    {
     "name": "stdout",
     "output_type": "stream",
     "text": [
      "High_Down to High_Up :\n",
      " Perf_node01_power_energy_pkg_    1\n",
      "a                                1\n",
      "dtype: int64 \n",
      "\n",
      "High_Down to Low_Up :\n",
      " Perf_node01_power_energy_pkg_    2\n",
      "a                                2\n",
      "dtype: int64 \n",
      "\n",
      "High_Down to Same2 :\n",
      " Perf_node01_power_energy_pkg_    0\n",
      "a                                0\n",
      "dtype: int64 \n",
      "\n",
      "High_Down to Low_Down :\n",
      " Perf_node01_power_energy_pkg_    1\n",
      "a                                1\n",
      "dtype: int64 \n",
      "\n",
      "High_Down to High_Down :\n",
      " Perf_node01_power_energy_pkg_    0\n",
      "a                                0\n",
      "dtype: int64 \n",
      "\n"
     ]
    }
   ],
   "source": [
    "i = df.loc[(df[\"Perf_node01_power_energy_pkg_\"] == \"High_Up\") & (df[\"a\"] == \"High_Down\")].count()\n",
    "print(\"High_Down to High_Up :\\n\",i, \"\\n\")\n",
    "\n",
    "i = df.loc[(df[\"Perf_node01_power_energy_pkg_\"] == \"Low_Up\") & (df[\"a\"] == \"High_Down\")].count()\n",
    "print(\"High_Down to Low_Up :\\n\",i, \"\\n\")\n",
    "\n",
    "i = df.loc[(df[\"Perf_node01_power_energy_pkg_\"] == \"Same2\") & (df[\"a\"] == \"High_Down\")].count()\n",
    "print(\"High_Down to Same2 :\\n\",i, \"\\n\")\n",
    "\n",
    "i = df.loc[(df[\"Perf_node01_power_energy_pkg_\"] == \"Low_Down\") & (df[\"a\"] == \"High_Down\")].count()\n",
    "print(\"High_Down to Low_Down :\\n\",i, \"\\n\")\n",
    "\n",
    "i = df.loc[(df[\"Perf_node01_power_energy_pkg_\"] == \"High_Down\") & (df[\"a\"] == \"High_Down\")].count()\n",
    "print(\"High_Down to High_Down :\\n\",i, \"\\n\")"
   ]
  },
  {
   "cell_type": "code",
   "execution_count": 13,
   "metadata": {},
   "outputs": [],
   "source": [
    "pkg_matrix[0] = [2/6, 1/6, 0, 2/6, 1/6]\n",
    "pkg_matrix[1] = [1/97, 52/97, 0, 42/97, 2/97]\n",
    "pkg_matrix[3] = [2/70, 41/70, 0, 25/70, 2/70]\n",
    "pkg_matrix[4] = [1/4, 2/4, 0, 1/4, 0]"
   ]
  },
  {
   "cell_type": "code",
   "execution_count": 14,
   "metadata": {},
   "outputs": [
    {
     "data": {
      "text/plain": [
       "array([[0.33333333, 0.16666667, 0.        , 0.33333333, 0.16666667],\n",
       "       [0.01030928, 0.53608247, 0.        , 0.43298969, 0.02061856],\n",
       "       [0.        , 0.        , 0.        , 0.        , 0.        ],\n",
       "       [0.02857143, 0.58571429, 0.        , 0.35714286, 0.02857143],\n",
       "       [0.25      , 0.5       , 0.        , 0.25      , 0.        ]])"
      ]
     },
     "execution_count": 14,
     "metadata": {},
     "output_type": "execute_result"
    }
   ],
   "source": [
    "pkg_matrix"
   ]
  },
  {
   "cell_type": "code",
   "execution_count": 15,
   "metadata": {},
   "outputs": [
    {
     "data": {
      "text/plain": [
       "array([[0.333, 0.167, 0.   , 0.333, 0.167],\n",
       "       [0.01 , 0.536, 0.   , 0.433, 0.021],\n",
       "       [0.   , 0.   , 0.   , 0.   , 0.   ],\n",
       "       [0.029, 0.586, 0.   , 0.357, 0.029],\n",
       "       [0.25 , 0.5  , 0.   , 0.25 , 0.   ]])"
      ]
     },
     "execution_count": 15,
     "metadata": {},
     "output_type": "execute_result"
    }
   ],
   "source": [
    "pkg_matrix = pkg_matrix.round(3)\n",
    "pkg_matrix"
   ]
  },
  {
   "cell_type": "markdown",
   "metadata": {},
   "source": [
    "# ram 전위확률 계산"
   ]
  },
  {
   "cell_type": "code",
   "execution_count": 16,
   "metadata": {},
   "outputs": [
    {
     "name": "stdout",
     "output_type": "stream",
     "text": [
      "High_Up to High_Up :\n",
      " Perf_node01_power_energy_ram_    4\n",
      "b                                4\n",
      "dtype: int64 \n",
      "\n",
      "High_Up to Low_Up :\n",
      " Perf_node01_power_energy_ram_    4\n",
      "b                                4\n",
      "dtype: int64 \n",
      "\n",
      "High_Up to Same2 :\n",
      " Perf_node01_power_energy_ram_    0\n",
      "b                                0\n",
      "dtype: int64 \n",
      "\n",
      "High_Up to Low_Down :\n",
      " Perf_node01_power_energy_ram_    6\n",
      "b                                6\n",
      "dtype: int64 \n",
      "\n",
      "High_Up to High_Down :\n",
      " Perf_node01_power_energy_ram_    1\n",
      "b                                1\n",
      "dtype: int64 \n",
      "\n"
     ]
    }
   ],
   "source": [
    "i = ef.loc[(ef[\"Perf_node01_power_energy_ram_\"] == \"High_Up\") & (ef[\"b\"] == \"High_Up\")].count()\n",
    "print(\"High_Up to High_Up :\\n\",i, \"\\n\")\n",
    "\n",
    "i = ef.loc[(ef[\"Perf_node01_power_energy_ram_\"] == \"Low_Up\") & (ef[\"b\"] == \"High_Up\")].count()\n",
    "print(\"High_Up to Low_Up :\\n\",i, \"\\n\")\n",
    "\n",
    "i = ef.loc[(ef[\"Perf_node01_power_energy_ram_\"] == \"Same2\") & (ef[\"b\"] == \"High_Up\")].count()\n",
    "print(\"High_Up to Same2 :\\n\",i, \"\\n\")\n",
    "\n",
    "i = ef.loc[(ef[\"Perf_node01_power_energy_ram_\"] == \"Low_Down\") & (ef[\"b\"] == \"High_Up\")].count()\n",
    "print(\"High_Up to Low_Down :\\n\",i, \"\\n\")\n",
    "\n",
    "i = ef.loc[(ef[\"Perf_node01_power_energy_ram_\"] == \"High_Down\") & (ef[\"b\"] == \"High_Up\")].count()\n",
    "print(\"High_Up to High_Down :\\n\",i, \"\\n\")"
   ]
  },
  {
   "cell_type": "code",
   "execution_count": 17,
   "metadata": {},
   "outputs": [
    {
     "name": "stdout",
     "output_type": "stream",
     "text": [
      "Low_Up to High_Up :\n",
      " Perf_node01_power_energy_ram_    3\n",
      "b                                3\n",
      "dtype: int64 \n",
      "\n",
      "Low_Up to Low_Up :\n",
      " Perf_node01_power_energy_ram_    27\n",
      "b                                27\n",
      "dtype: int64 \n",
      "\n",
      "Low_Up to Same2 :\n",
      " Perf_node01_power_energy_ram_    1\n",
      "b                                1\n",
      "dtype: int64 \n",
      "\n",
      "Low_Up to Low_Down :\n",
      " Perf_node01_power_energy_ram_    38\n",
      "b                                38\n",
      "dtype: int64 \n",
      "\n",
      "Low_Up to High_Down :\n",
      " Perf_node01_power_energy_ram_    3\n",
      "b                                3\n",
      "dtype: int64 \n",
      "\n"
     ]
    }
   ],
   "source": [
    "i = ef.loc[(ef[\"Perf_node01_power_energy_ram_\"] == \"High_Up\") & (ef[\"b\"] == \"Low_Up\")].count()\n",
    "print(\"Low_Up to High_Up :\\n\",i, \"\\n\")\n",
    "\n",
    "i = ef.loc[(ef[\"Perf_node01_power_energy_ram_\"] == \"Low_Up\") & (ef[\"b\"] == \"Low_Up\")].count()\n",
    "print(\"Low_Up to Low_Up :\\n\",i, \"\\n\")\n",
    "\n",
    "i = ef.loc[(ef[\"Perf_node01_power_energy_ram_\"] == \"Same2\") & (ef[\"b\"] == \"Low_Up\")].count()\n",
    "print(\"Low_Up to Same2 :\\n\",i, \"\\n\")\n",
    "\n",
    "i = ef.loc[(ef[\"Perf_node01_power_energy_ram_\"] == \"Low_Down\") & (ef[\"b\"] == \"Low_Up\")].count()\n",
    "print(\"Low_Up to Low_Down :\\n\",i, \"\\n\")\n",
    "\n",
    "i = ef.loc[(ef[\"Perf_node01_power_energy_ram_\"] == \"High_Down\") & (ef[\"b\"] == \"Low_Up\")].count()\n",
    "print(\"Low_Up to High_Down :\\n\",i, \"\\n\")"
   ]
  },
  {
   "cell_type": "code",
   "execution_count": 18,
   "metadata": {},
   "outputs": [
    {
     "name": "stdout",
     "output_type": "stream",
     "text": [
      "Same2 to High_Up :\n",
      " Perf_node01_power_energy_ram_    0\n",
      "b                                0\n",
      "dtype: int64 \n",
      "\n",
      "Same2 to Low_Up :\n",
      " Perf_node01_power_energy_ram_    0\n",
      "b                                0\n",
      "dtype: int64 \n",
      "\n",
      "Same2 to Same2 :\n",
      " Perf_node01_power_energy_ram_    0\n",
      "b                                0\n",
      "dtype: int64 \n",
      "\n",
      "Same2 to Low_Down :\n",
      " Perf_node01_power_energy_ram_    1\n",
      "b                                1\n",
      "dtype: int64 \n",
      "\n",
      "Same2 to High_Down :\n",
      " Perf_node01_power_energy_ram_    0\n",
      "b                                0\n",
      "dtype: int64 \n",
      "\n"
     ]
    }
   ],
   "source": [
    "i = ef.loc[(ef[\"Perf_node01_power_energy_ram_\"] == \"High_Up\") & (ef[\"b\"] == \"Same2\")].count()\n",
    "print(\"Same2 to High_Up :\\n\",i, \"\\n\")\n",
    "\n",
    "i = ef.loc[(ef[\"Perf_node01_power_energy_ram_\"] == \"Low_Up\") & (ef[\"b\"] == \"Same2\")].count()\n",
    "print(\"Same2 to Low_Up :\\n\",i, \"\\n\")\n",
    "\n",
    "i = ef.loc[(ef[\"Perf_node01_power_energy_ram_\"] == \"Same2\") & (ef[\"b\"] == \"Same2\")].count()\n",
    "print(\"Same2 to Same2 :\\n\",i, \"\\n\")\n",
    "\n",
    "i = ef.loc[(ef[\"Perf_node01_power_energy_ram_\"] == \"Low_Down\") & (ef[\"b\"] == \"Same2\")].count()\n",
    "print(\"Same2 to Low_Down :\\n\",i, \"\\n\")\n",
    "\n",
    "i = ef.loc[(ef[\"Perf_node01_power_energy_ram_\"] == \"High_Down\") & (ef[\"b\"] == \"Same2\")].count()\n",
    "print(\"Same2 to High_Down :\\n\",i, \"\\n\")"
   ]
  },
  {
   "cell_type": "code",
   "execution_count": 19,
   "metadata": {},
   "outputs": [
    {
     "name": "stdout",
     "output_type": "stream",
     "text": [
      "Low_Down to High_Up :\n",
      " Perf_node01_power_energy_ram_    6\n",
      "b                                6\n",
      "dtype: int64 \n",
      "\n",
      "Low_Down to Low_Up :\n",
      " Perf_node01_power_energy_ram_    37\n",
      "b                                37\n",
      "dtype: int64 \n",
      "\n",
      "Low_Down to Same2 :\n",
      " Perf_node01_power_energy_ram_    0\n",
      "b                                0\n",
      "dtype: int64 \n",
      "\n",
      "Low_Down to Low_Down :\n",
      " Perf_node01_power_energy_ram_    35\n",
      "b                                35\n",
      "dtype: int64 \n",
      "\n",
      "Low_Down to High_Down :\n",
      " Perf_node01_power_energy_ram_    3\n",
      "b                                3\n",
      "dtype: int64 \n",
      "\n"
     ]
    }
   ],
   "source": [
    "i = ef.loc[(ef[\"Perf_node01_power_energy_ram_\"] == \"High_Up\") & (ef[\"b\"] == \"Low_Down\")].count()\n",
    "print(\"Low_Down to High_Up :\\n\",i, \"\\n\")\n",
    "\n",
    "i = ef.loc[(ef[\"Perf_node01_power_energy_ram_\"] == \"Low_Up\") & (ef[\"b\"] == \"Low_Down\")].count()\n",
    "print(\"Low_Down to Low_Up :\\n\",i, \"\\n\")\n",
    "\n",
    "i = ef.loc[(ef[\"Perf_node01_power_energy_ram_\"] == \"Same2\") & (ef[\"b\"] == \"Low_Down\")].count()\n",
    "print(\"Low_Down to Same2 :\\n\",i, \"\\n\")\n",
    "\n",
    "i = ef.loc[(ef[\"Perf_node01_power_energy_ram_\"] == \"Low_Down\") & (ef[\"b\"] == \"Low_Down\")].count()\n",
    "print(\"Low_Down to Low_Down :\\n\",i, \"\\n\")\n",
    "\n",
    "i = ef.loc[(ef[\"Perf_node01_power_energy_ram_\"] == \"High_Down\") & (ef[\"b\"] == \"Low_Down\")].count()\n",
    "print(\"Low_Down to High_Down :\\n\",i, \"\\n\")"
   ]
  },
  {
   "cell_type": "code",
   "execution_count": 20,
   "metadata": {},
   "outputs": [
    {
     "name": "stdout",
     "output_type": "stream",
     "text": [
      "High_Down to High_Up :\n",
      " Perf_node01_power_energy_ram_    2\n",
      "b                                2\n",
      "dtype: int64 \n",
      "\n",
      "High_Down to Low_Up :\n",
      " Perf_node01_power_energy_ram_    3\n",
      "b                                3\n",
      "dtype: int64 \n",
      "\n",
      "High_Down to Same2 :\n",
      " Perf_node01_power_energy_ram_    0\n",
      "b                                0\n",
      "dtype: int64 \n",
      "\n",
      "High_Down to Low_Down :\n",
      " Perf_node01_power_energy_ram_    1\n",
      "b                                1\n",
      "dtype: int64 \n",
      "\n",
      "High_Down to High_Down :\n",
      " Perf_node01_power_energy_ram_    2\n",
      "b                                2\n",
      "dtype: int64 \n",
      "\n"
     ]
    }
   ],
   "source": [
    "i = ef.loc[(ef[\"Perf_node01_power_energy_ram_\"] == \"High_Up\") & (ef[\"b\"] == \"High_Down\")].count()\n",
    "print(\"High_Down to High_Up :\\n\",i, \"\\n\")\n",
    "\n",
    "i = ef.loc[(ef[\"Perf_node01_power_energy_ram_\"] == \"Low_Up\") & (ef[\"b\"] == \"High_Down\")].count()\n",
    "print(\"High_Down to Low_Up :\\n\",i, \"\\n\")\n",
    "\n",
    "i = ef.loc[(ef[\"Perf_node01_power_energy_ram_\"] == \"Same2\") & (ef[\"b\"] == \"High_Down\")].count()\n",
    "print(\"High_Down to Same2 :\\n\",i, \"\\n\")\n",
    "\n",
    "i = ef.loc[(ef[\"Perf_node01_power_energy_ram_\"] == \"Low_Down\") & (ef[\"b\"] == \"High_Down\")].count()\n",
    "print(\"High_Down to Low_Down :\\n\",i, \"\\n\")\n",
    "\n",
    "i = ef.loc[(ef[\"Perf_node01_power_energy_ram_\"] == \"High_Down\") & (ef[\"b\"] == \"High_Down\")].count()\n",
    "print(\"High_Down to High_Down :\\n\",i, \"\\n\")"
   ]
  },
  {
   "cell_type": "code",
   "execution_count": 21,
   "metadata": {},
   "outputs": [],
   "source": [
    "ram_matrix[0] = [4/15, 4/15, 0, 6/15, 1/15]\n",
    "ram_matrix[1] = [3/72, 27/72, 1/72, 38/72, 3/72]\n",
    "ram_matrix[2] = [0,0,0,1,0]\n",
    "ram_matrix[3] = [6/81, 37/81, 0, 35/81, 3/81]\n",
    "ram_matrix[4] = [2/8, 3/8, 0, 1/8, 2/8]"
   ]
  },
  {
   "cell_type": "code",
   "execution_count": 22,
   "metadata": {},
   "outputs": [
    {
     "data": {
      "text/plain": [
       "array([[0.26666667, 0.26666667, 0.        , 0.4       , 0.06666667],\n",
       "       [0.04166667, 0.375     , 0.01388889, 0.52777778, 0.04166667],\n",
       "       [0.        , 0.        , 0.        , 1.        , 0.        ],\n",
       "       [0.07407407, 0.45679012, 0.        , 0.43209877, 0.03703704],\n",
       "       [0.25      , 0.375     , 0.        , 0.125     , 0.25      ]])"
      ]
     },
     "execution_count": 22,
     "metadata": {},
     "output_type": "execute_result"
    }
   ],
   "source": [
    "ram_matrix"
   ]
  },
  {
   "cell_type": "code",
   "execution_count": 23,
   "metadata": {},
   "outputs": [
    {
     "data": {
      "text/plain": [
       "array([[0.267, 0.267, 0.   , 0.4  , 0.067],\n",
       "       [0.042, 0.375, 0.014, 0.528, 0.042],\n",
       "       [0.   , 0.   , 0.   , 1.   , 0.   ],\n",
       "       [0.074, 0.457, 0.   , 0.432, 0.037],\n",
       "       [0.25 , 0.375, 0.   , 0.125, 0.25 ]])"
      ]
     },
     "execution_count": 23,
     "metadata": {},
     "output_type": "execute_result"
    }
   ],
   "source": [
    "ram_matrix = ram_matrix.round(3)\n",
    "ram_matrix"
   ]
  },
  {
   "cell_type": "markdown",
   "metadata": {},
   "source": [
    "# total 전위확률 계산"
   ]
  },
  {
   "cell_type": "code",
   "execution_count": 24,
   "metadata": {},
   "outputs": [
    {
     "name": "stdout",
     "output_type": "stream",
     "text": [
      "High_Up to High_Up :\n",
      " Perf_node01_power_energy_total_    2\n",
      "c                                  2\n",
      "dtype: int64 \n",
      "\n",
      "High_Up to Low_Up :\n",
      " Perf_node01_power_energy_total_    2\n",
      "c                                  2\n",
      "dtype: int64 \n",
      "\n",
      "High_Up to Same2 :\n",
      " Perf_node01_power_energy_total_    0\n",
      "c                                  0\n",
      "dtype: int64 \n",
      "\n",
      "High_Up to Low_Down :\n",
      " Perf_node01_power_energy_total_    1\n",
      "c                                  1\n",
      "dtype: int64 \n",
      "\n",
      "High_Up to High_Down :\n",
      " Perf_node01_power_energy_total_    1\n",
      "c                                  1\n",
      "dtype: int64 \n",
      "\n"
     ]
    }
   ],
   "source": [
    "i = ff.loc[(ff[\"Perf_node01_power_energy_total_\"] == \"High_Up\") & (ff[\"c\"] == \"High_Up\")].count()\n",
    "print(\"High_Up to High_Up :\\n\",i, \"\\n\")\n",
    "\n",
    "i = ff.loc[(ff[\"Perf_node01_power_energy_total_\"] == \"Low_Up\") & (ff[\"c\"] == \"High_Up\")].count()\n",
    "print(\"High_Up to Low_Up :\\n\",i, \"\\n\")\n",
    "\n",
    "i = ff.loc[(ff[\"Perf_node01_power_energy_total_\"] == \"Same2\") & (ff[\"c\"] == \"High_Up\")].count()\n",
    "print(\"High_Up to Same2 :\\n\",i, \"\\n\")\n",
    "\n",
    "i = ff.loc[(ff[\"Perf_node01_power_energy_total_\"] == \"Low_Down\") & (ff[\"c\"] == \"High_Up\")].count()\n",
    "print(\"High_Up to Low_Down :\\n\",i, \"\\n\")\n",
    "\n",
    "i = ff.loc[(ff[\"Perf_node01_power_energy_total_\"] == \"High_Down\") & (ff[\"c\"] == \"High_Up\")].count()\n",
    "print(\"High_Up to High_Down :\\n\",i, \"\\n\")"
   ]
  },
  {
   "cell_type": "code",
   "execution_count": 25,
   "metadata": {},
   "outputs": [
    {
     "name": "stdout",
     "output_type": "stream",
     "text": [
      "Low_Up to High_Up :\n",
      " Perf_node01_power_energy_total_    2\n",
      "c                                  2\n",
      "dtype: int64 \n",
      "\n",
      "Low_Up to Low_Up :\n",
      " Perf_node01_power_energy_total_    51\n",
      "c                                  51\n",
      "dtype: int64 \n",
      "\n",
      "Low_Up to Same2 :\n",
      " Perf_node01_power_energy_total_    0\n",
      "c                                  0\n",
      "dtype: int64 \n",
      "\n",
      "Low_Up to Low_Down :\n",
      " Perf_node01_power_energy_total_    42\n",
      "c                                  42\n",
      "dtype: int64 \n",
      "\n",
      "Low_Up to High_Down :\n",
      " Perf_node01_power_energy_total_    1\n",
      "c                                  1\n",
      "dtype: int64 \n",
      "\n"
     ]
    }
   ],
   "source": [
    "i = ff.loc[(ff[\"Perf_node01_power_energy_total_\"] == \"High_Up\") & (ff[\"c\"] == \"Low_Up\")].count()\n",
    "print(\"Low_Up to High_Up :\\n\",i, \"\\n\")\n",
    "\n",
    "i = ff.loc[(ff[\"Perf_node01_power_energy_total_\"] == \"Low_Up\") & (ff[\"c\"] == \"Low_Up\")].count()\n",
    "print(\"Low_Up to Low_Up :\\n\",i, \"\\n\")\n",
    "\n",
    "i = ff.loc[(ff[\"Perf_node01_power_energy_total_\"] == \"Same2\") & (ff[\"c\"] == \"Low_Up\")].count()\n",
    "print(\"Low_Up to Same2 :\\n\",i, \"\\n\")\n",
    "\n",
    "i = ff.loc[(ff[\"Perf_node01_power_energy_total_\"] == \"Low_Down\") & (ff[\"c\"] == \"Low_Up\")].count()\n",
    "print(\"Low_Up to Low_Down :\\n\",i, \"\\n\")\n",
    "\n",
    "i = ff.loc[(ff[\"Perf_node01_power_energy_total_\"] == \"High_Down\") & (ff[\"c\"] == \"Low_Up\")].count()\n",
    "print(\"Low_Up to High_Down :\\n\",i, \"\\n\")"
   ]
  },
  {
   "cell_type": "code",
   "execution_count": 26,
   "metadata": {},
   "outputs": [
    {
     "name": "stdout",
     "output_type": "stream",
     "text": [
      "Same2 to High_Up :\n",
      " Perf_node01_power_energy_total_    0\n",
      "c                                  0\n",
      "dtype: int64 \n",
      "\n",
      "Same2 to Low_Up :\n",
      " Perf_node01_power_energy_total_    0\n",
      "c                                  0\n",
      "dtype: int64 \n",
      "\n",
      "Same2 to Same2 :\n",
      " Perf_node01_power_energy_total_    0\n",
      "c                                  0\n",
      "dtype: int64 \n",
      "\n",
      "Same2 to Low_Down :\n",
      " Perf_node01_power_energy_total_    0\n",
      "c                                  0\n",
      "dtype: int64 \n",
      "\n",
      "Same2 to High_Down :\n",
      " Perf_node01_power_energy_total_    0\n",
      "c                                  0\n",
      "dtype: int64 \n",
      "\n"
     ]
    }
   ],
   "source": [
    "i = ff.loc[(ff[\"Perf_node01_power_energy_total_\"] == \"High_Up\") & (ff[\"c\"] == \"Same2\")].count()\n",
    "print(\"Same2 to High_Up :\\n\",i, \"\\n\")\n",
    "\n",
    "i = ff.loc[(ff[\"Perf_node01_power_energy_total_\"] == \"Low_Up\") & (ff[\"c\"] == \"Same2\")].count()\n",
    "print(\"Same2 to Low_Up :\\n\",i, \"\\n\")\n",
    "\n",
    "i = ff.loc[(ff[\"Perf_node01_power_energy_total_\"] == \"Same2\") & (ff[\"c\"] == \"Same2\")].count()\n",
    "print(\"Same2 to Same2 :\\n\",i, \"\\n\")\n",
    "\n",
    "i = ff.loc[(ff[\"Perf_node01_power_energy_total_\"] == \"Low_Down\") & (ff[\"c\"] == \"Same2\")].count()\n",
    "print(\"Same2 to Low_Down :\\n\",i, \"\\n\")\n",
    "\n",
    "i = ff.loc[(ff[\"Perf_node01_power_energy_total_\"] == \"High_Down\") & (ff[\"c\"] == \"Same2\")].count()\n",
    "print(\"Same2 to High_Down :\\n\",i, \"\\n\")"
   ]
  },
  {
   "cell_type": "code",
   "execution_count": 27,
   "metadata": {},
   "outputs": [
    {
     "name": "stdout",
     "output_type": "stream",
     "text": [
      "Low_Down to High_Up :\n",
      " Perf_node01_power_energy_total_    1\n",
      "c                                  1\n",
      "dtype: int64 \n",
      "\n",
      "Low_Down to Low_Up :\n",
      " Perf_node01_power_energy_total_    41\n",
      "c                                  41\n",
      "dtype: int64 \n",
      "\n",
      "Low_Down to Same2 :\n",
      " Perf_node01_power_energy_total_    0\n",
      "c                                  0\n",
      "dtype: int64 \n",
      "\n",
      "Low_Down to Low_Down :\n",
      " Perf_node01_power_energy_total_    28\n",
      "c                                  28\n",
      "dtype: int64 \n",
      "\n",
      "Low_Down to High_Down :\n",
      " Perf_node01_power_energy_total_    2\n",
      "c                                  2\n",
      "dtype: int64 \n",
      "\n"
     ]
    }
   ],
   "source": [
    "i = ff.loc[(ff[\"Perf_node01_power_energy_total_\"] == \"High_Up\") & (ff[\"c\"] == \"Low_Down\")].count()\n",
    "print(\"Low_Down to High_Up :\\n\",i, \"\\n\")\n",
    "\n",
    "i = ff.loc[(ff[\"Perf_node01_power_energy_total_\"] == \"Low_Up\") & (ff[\"c\"] == \"Low_Down\")].count()\n",
    "print(\"Low_Down to Low_Up :\\n\",i, \"\\n\")\n",
    "\n",
    "i = ff.loc[(ff[\"Perf_node01_power_energy_total_\"] == \"Same2\") & (ff[\"c\"] == \"Low_Down\")].count()\n",
    "print(\"Low_Down to Same2 :\\n\",i, \"\\n\")\n",
    "\n",
    "i = ff.loc[(ff[\"Perf_node01_power_energy_total_\"] == \"Low_Down\") & (ff[\"c\"] == \"Low_Down\")].count()\n",
    "print(\"Low_Down to Low_Down :\\n\",i, \"\\n\")\n",
    "\n",
    "i = ff.loc[(ff[\"Perf_node01_power_energy_total_\"] == \"High_Down\") & (ff[\"c\"] == \"Low_Down\")].count()\n",
    "print(\"Low_Down to High_Down :\\n\",i, \"\\n\")"
   ]
  },
  {
   "cell_type": "code",
   "execution_count": 28,
   "metadata": {},
   "outputs": [
    {
     "name": "stdout",
     "output_type": "stream",
     "text": [
      "High_Down to High_Up :\n",
      " Perf_node01_power_energy_total_    1\n",
      "c                                  1\n",
      "dtype: int64 \n",
      "\n",
      "High_Down to Low_Up :\n",
      " Perf_node01_power_energy_total_    1\n",
      "c                                  1\n",
      "dtype: int64 \n",
      "\n",
      "High_Down to Same2 :\n",
      " Perf_node01_power_energy_total_    0\n",
      "c                                  0\n",
      "dtype: int64 \n",
      "\n",
      "High_Down to Low_Down :\n",
      " Perf_node01_power_energy_total_    1\n",
      "c                                  1\n",
      "dtype: int64 \n",
      "\n",
      "High_Down to High_Down :\n",
      " Perf_node01_power_energy_total_    0\n",
      "c                                  0\n",
      "dtype: int64 \n",
      "\n"
     ]
    }
   ],
   "source": [
    "i = ff.loc[(ff[\"Perf_node01_power_energy_total_\"] == \"High_Up\") & (ff[\"c\"] == \"High_Down\")].count()\n",
    "print(\"High_Down to High_Up :\\n\",i, \"\\n\")\n",
    "\n",
    "i = ff.loc[(ff[\"Perf_node01_power_energy_total_\"] == \"Low_Up\") & (ff[\"c\"] == \"High_Down\")].count()\n",
    "print(\"High_Down to Low_Up :\\n\",i, \"\\n\")\n",
    "\n",
    "i = ff.loc[(ff[\"Perf_node01_power_energy_total_\"] == \"Same2\") & (ff[\"c\"] == \"High_Down\")].count()\n",
    "print(\"High_Down to Same2 :\\n\",i, \"\\n\")\n",
    "\n",
    "i = ff.loc[(ff[\"Perf_node01_power_energy_total_\"] == \"Low_Down\") & (ff[\"c\"] == \"High_Down\")].count()\n",
    "print(\"High_Down to Low_Down :\\n\",i, \"\\n\")\n",
    "\n",
    "i = ff.loc[(ff[\"Perf_node01_power_energy_total_\"] == \"High_Down\") & (ff[\"c\"] == \"High_Down\")].count()\n",
    "print(\"High_Down to High_Down :\\n\",i, \"\\n\")"
   ]
  },
  {
   "cell_type": "code",
   "execution_count": 29,
   "metadata": {},
   "outputs": [],
   "source": [
    "total_matrix[0] = [2/6, 2/6, 0, 1/6, 1/6]\n",
    "total_matrix[1] = [2/96, 51/96, 0, 42/96, 1/96]\n",
    "total_matrix[3] = [1/72, 41/72, 0, 28/72, 2/72]\n",
    "total_matrix[4] = [1/3, 1/3, 0, 1/3, 0]"
   ]
  },
  {
   "cell_type": "code",
   "execution_count": 30,
   "metadata": {},
   "outputs": [
    {
     "data": {
      "text/plain": [
       "array([[0.33333333, 0.33333333, 0.        , 0.16666667, 0.16666667],\n",
       "       [0.02083333, 0.53125   , 0.        , 0.4375    , 0.01041667],\n",
       "       [0.        , 0.        , 0.        , 0.        , 0.        ],\n",
       "       [0.01388889, 0.56944444, 0.        , 0.38888889, 0.02777778],\n",
       "       [0.33333333, 0.33333333, 0.        , 0.33333333, 0.        ]])"
      ]
     },
     "execution_count": 30,
     "metadata": {},
     "output_type": "execute_result"
    }
   ],
   "source": [
    "total_matrix"
   ]
  },
  {
   "cell_type": "code",
   "execution_count": 31,
   "metadata": {},
   "outputs": [
    {
     "data": {
      "text/plain": [
       "array([[0.333, 0.333, 0.   , 0.167, 0.167],\n",
       "       [0.021, 0.531, 0.   , 0.438, 0.01 ],\n",
       "       [0.   , 0.   , 0.   , 0.   , 0.   ],\n",
       "       [0.014, 0.569, 0.   , 0.389, 0.028],\n",
       "       [0.333, 0.333, 0.   , 0.333, 0.   ]])"
      ]
     },
     "execution_count": 31,
     "metadata": {},
     "output_type": "execute_result"
    }
   ],
   "source": [
    "total_matrix = total_matrix.round(3)\n",
    "total_matrix"
   ]
  },
  {
   "cell_type": "markdown",
   "metadata": {},
   "source": [
    "# 결론"
   ]
  },
  {
   "cell_type": "code",
   "execution_count": 32,
   "metadata": {},
   "outputs": [
    {
     "name": "stdout",
     "output_type": "stream",
     "text": [
      "[[0.333 0.167 0.    0.333 0.167]\n",
      " [0.01  0.536 0.    0.433 0.021]\n",
      " [0.    0.    0.    0.    0.   ]\n",
      " [0.029 0.586 0.    0.357 0.029]\n",
      " [0.25  0.5   0.    0.25  0.   ]]\n",
      "[[0.267 0.267 0.    0.4   0.067]\n",
      " [0.042 0.375 0.014 0.528 0.042]\n",
      " [0.    0.    0.    1.    0.   ]\n",
      " [0.074 0.457 0.    0.432 0.037]\n",
      " [0.25  0.375 0.    0.125 0.25 ]]\n",
      "[[0.333 0.333 0.    0.167 0.167]\n",
      " [0.021 0.531 0.    0.438 0.01 ]\n",
      " [0.    0.    0.    0.    0.   ]\n",
      " [0.014 0.569 0.    0.389 0.028]\n",
      " [0.333 0.333 0.    0.333 0.   ]]\n"
     ]
    }
   ],
   "source": [
    "print(pkg_matrix)\n",
    "print(ram_matrix)\n",
    "print(total_matrix)"
   ]
  },
  {
   "cell_type": "code",
   "execution_count": null,
   "metadata": {},
   "outputs": [],
   "source": []
  }
 ],
 "metadata": {
  "kernelspec": {
   "display_name": "Python 3",
   "language": "python",
   "name": "python3"
  },
  "language_info": {
   "codemirror_mode": {
    "name": "ipython",
    "version": 3
   },
   "file_extension": ".py",
   "mimetype": "text/x-python",
   "name": "python",
   "nbconvert_exporter": "python",
   "pygments_lexer": "ipython3",
   "version": "3.7.4"
  }
 },
 "nbformat": 4,
 "nbformat_minor": 2
}
