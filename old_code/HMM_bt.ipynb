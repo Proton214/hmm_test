{
 "cells": [
  {
   "cell_type": "code",
   "execution_count": 1,
   "metadata": {},
   "outputs": [],
   "source": [
    "import numpy as np\n",
    "import pandas as pd\n",
    "import matplotlib.pyplot as plt"
   ]
  },
  {
   "cell_type": "markdown",
   "metadata": {},
   "source": [
    "## pkg, ram, total의 전위 확률 구하기"
   ]
  },
  {
   "cell_type": "code",
   "execution_count": 2,
   "metadata": {},
   "outputs": [],
   "source": [
    "bt = pd.read_csv(\"bt.csv\")"
   ]
  },
  {
   "cell_type": "code",
   "execution_count": 3,
   "metadata": {
    "scrolled": true
   },
   "outputs": [
    {
     "data": {
      "text/html": [
       "<div>\n",
       "<style scoped>\n",
       "    .dataframe tbody tr th:only-of-type {\n",
       "        vertical-align: middle;\n",
       "    }\n",
       "\n",
       "    .dataframe tbody tr th {\n",
       "        vertical-align: top;\n",
       "    }\n",
       "\n",
       "    .dataframe thead th {\n",
       "        text-align: right;\n",
       "    }\n",
       "</style>\n",
       "<table border=\"1\" class=\"dataframe\">\n",
       "  <thead>\n",
       "    <tr style=\"text-align: right;\">\n",
       "      <th></th>\n",
       "      <th>Application</th>\n",
       "      <th>Perf_node01_task_clock</th>\n",
       "      <th>Perf_node01_cpu_bus_cycles_</th>\n",
       "      <th>Perf_node01_cpu_cpu_cycles_</th>\n",
       "      <th>Perf_node01_msr_aperf_</th>\n",
       "      <th>Perf_node01_msr_mperf_</th>\n",
       "      <th>Perf_node01_msr_tsc_</th>\n",
       "      <th>Perf_node01_cpu_ref_cycles_</th>\n",
       "      <th>Perf_node01_power_energy_pkg_</th>\n",
       "      <th>a</th>\n",
       "      <th>Perf_node01_power_energy_ram_</th>\n",
       "      <th>b</th>\n",
       "      <th>Perf_node01_power_energy_total_</th>\n",
       "      <th>c</th>\n",
       "    </tr>\n",
       "  </thead>\n",
       "  <tbody>\n",
       "    <tr>\n",
       "      <td>0</td>\n",
       "      <td>BT</td>\n",
       "      <td>Down</td>\n",
       "      <td>Up</td>\n",
       "      <td>Up</td>\n",
       "      <td>Up</td>\n",
       "      <td>Up</td>\n",
       "      <td>Down</td>\n",
       "      <td>Up</td>\n",
       "      <td>Low_Up</td>\n",
       "      <td>NaN</td>\n",
       "      <td>High_Up</td>\n",
       "      <td>NaN</td>\n",
       "      <td>Low_Up</td>\n",
       "      <td>NaN</td>\n",
       "    </tr>\n",
       "    <tr>\n",
       "      <td>1</td>\n",
       "      <td>BT</td>\n",
       "      <td>Up</td>\n",
       "      <td>Up</td>\n",
       "      <td>Up</td>\n",
       "      <td>Up</td>\n",
       "      <td>Up</td>\n",
       "      <td>Up</td>\n",
       "      <td>Up</td>\n",
       "      <td>Low_Up</td>\n",
       "      <td>Low_Up</td>\n",
       "      <td>Low_Down</td>\n",
       "      <td>High_Up</td>\n",
       "      <td>Low_Up</td>\n",
       "      <td>Low_Up</td>\n",
       "    </tr>\n",
       "    <tr>\n",
       "      <td>2</td>\n",
       "      <td>BT</td>\n",
       "      <td>Up</td>\n",
       "      <td>Up</td>\n",
       "      <td>Up</td>\n",
       "      <td>Up</td>\n",
       "      <td>Up</td>\n",
       "      <td>Down</td>\n",
       "      <td>Up</td>\n",
       "      <td>Low_Up</td>\n",
       "      <td>Low_Up</td>\n",
       "      <td>Low_Down</td>\n",
       "      <td>Low_Down</td>\n",
       "      <td>Low_Up</td>\n",
       "      <td>Low_Up</td>\n",
       "    </tr>\n",
       "    <tr>\n",
       "      <td>3</td>\n",
       "      <td>BT</td>\n",
       "      <td>Up</td>\n",
       "      <td>Down</td>\n",
       "      <td>Down</td>\n",
       "      <td>Up</td>\n",
       "      <td>Up</td>\n",
       "      <td>Up</td>\n",
       "      <td>Up</td>\n",
       "      <td>Low_Up</td>\n",
       "      <td>Low_Up</td>\n",
       "      <td>High_Up</td>\n",
       "      <td>Low_Down</td>\n",
       "      <td>Low_Up</td>\n",
       "      <td>Low_Up</td>\n",
       "    </tr>\n",
       "    <tr>\n",
       "      <td>4</td>\n",
       "      <td>BT</td>\n",
       "      <td>Up</td>\n",
       "      <td>Up</td>\n",
       "      <td>Up</td>\n",
       "      <td>Up</td>\n",
       "      <td>Up</td>\n",
       "      <td>Up</td>\n",
       "      <td>Up</td>\n",
       "      <td>High_Up</td>\n",
       "      <td>Low_Up</td>\n",
       "      <td>High_Up</td>\n",
       "      <td>High_Up</td>\n",
       "      <td>High_Up</td>\n",
       "      <td>Low_Up</td>\n",
       "    </tr>\n",
       "    <tr>\n",
       "      <td>...</td>\n",
       "      <td>...</td>\n",
       "      <td>...</td>\n",
       "      <td>...</td>\n",
       "      <td>...</td>\n",
       "      <td>...</td>\n",
       "      <td>...</td>\n",
       "      <td>...</td>\n",
       "      <td>...</td>\n",
       "      <td>...</td>\n",
       "      <td>...</td>\n",
       "      <td>...</td>\n",
       "      <td>...</td>\n",
       "      <td>...</td>\n",
       "      <td>...</td>\n",
       "    </tr>\n",
       "    <tr>\n",
       "      <td>1534</td>\n",
       "      <td>BT</td>\n",
       "      <td>Down</td>\n",
       "      <td>Same1</td>\n",
       "      <td>Same1</td>\n",
       "      <td>Up</td>\n",
       "      <td>Up</td>\n",
       "      <td>Up</td>\n",
       "      <td>Up</td>\n",
       "      <td>Low_Up</td>\n",
       "      <td>Low_Up</td>\n",
       "      <td>Low_Down</td>\n",
       "      <td>High_Down</td>\n",
       "      <td>Low_Up</td>\n",
       "      <td>Low_Down</td>\n",
       "    </tr>\n",
       "    <tr>\n",
       "      <td>1535</td>\n",
       "      <td>BT</td>\n",
       "      <td>Up</td>\n",
       "      <td>Up</td>\n",
       "      <td>Up</td>\n",
       "      <td>Up</td>\n",
       "      <td>Up</td>\n",
       "      <td>Up</td>\n",
       "      <td>Up</td>\n",
       "      <td>High_Up</td>\n",
       "      <td>Low_Up</td>\n",
       "      <td>High_Up</td>\n",
       "      <td>Low_Down</td>\n",
       "      <td>High_Up</td>\n",
       "      <td>Low_Up</td>\n",
       "    </tr>\n",
       "    <tr>\n",
       "      <td>1536</td>\n",
       "      <td>BT</td>\n",
       "      <td>Up</td>\n",
       "      <td>Down</td>\n",
       "      <td>Down</td>\n",
       "      <td>Down</td>\n",
       "      <td>Down</td>\n",
       "      <td>Down</td>\n",
       "      <td>Down</td>\n",
       "      <td>High_Down</td>\n",
       "      <td>High_Up</td>\n",
       "      <td>High_Down</td>\n",
       "      <td>High_Up</td>\n",
       "      <td>High_Down</td>\n",
       "      <td>High_Up</td>\n",
       "    </tr>\n",
       "    <tr>\n",
       "      <td>1537</td>\n",
       "      <td>BT</td>\n",
       "      <td>Down</td>\n",
       "      <td>Down</td>\n",
       "      <td>Down</td>\n",
       "      <td>Down</td>\n",
       "      <td>Down</td>\n",
       "      <td>Down</td>\n",
       "      <td>Down</td>\n",
       "      <td>High_Down</td>\n",
       "      <td>High_Down</td>\n",
       "      <td>High_Down</td>\n",
       "      <td>High_Down</td>\n",
       "      <td>High_Down</td>\n",
       "      <td>High_Down</td>\n",
       "    </tr>\n",
       "    <tr>\n",
       "      <td>1538</td>\n",
       "      <td>NaN</td>\n",
       "      <td>NaN</td>\n",
       "      <td>NaN</td>\n",
       "      <td>NaN</td>\n",
       "      <td>NaN</td>\n",
       "      <td>NaN</td>\n",
       "      <td>NaN</td>\n",
       "      <td>NaN</td>\n",
       "      <td>NaN</td>\n",
       "      <td>High_Down</td>\n",
       "      <td>NaN</td>\n",
       "      <td>High_Down</td>\n",
       "      <td>NaN</td>\n",
       "      <td>High_Down</td>\n",
       "    </tr>\n",
       "  </tbody>\n",
       "</table>\n",
       "<p>1539 rows × 14 columns</p>\n",
       "</div>"
      ],
      "text/plain": [
       "     Application Perf_node01_task_clock Perf_node01_cpu_bus_cycles_  \\\n",
       "0             BT                   Down                          Up   \n",
       "1             BT                     Up                          Up   \n",
       "2             BT                     Up                          Up   \n",
       "3             BT                     Up                        Down   \n",
       "4             BT                     Up                          Up   \n",
       "...          ...                    ...                         ...   \n",
       "1534          BT                   Down                       Same1   \n",
       "1535          BT                     Up                          Up   \n",
       "1536          BT                     Up                        Down   \n",
       "1537          BT                   Down                        Down   \n",
       "1538         NaN                    NaN                         NaN   \n",
       "\n",
       "     Perf_node01_cpu_cpu_cycles_ Perf_node01_msr_aperf_  \\\n",
       "0                             Up                     Up   \n",
       "1                             Up                     Up   \n",
       "2                             Up                     Up   \n",
       "3                           Down                     Up   \n",
       "4                             Up                     Up   \n",
       "...                          ...                    ...   \n",
       "1534                       Same1                     Up   \n",
       "1535                          Up                     Up   \n",
       "1536                        Down                   Down   \n",
       "1537                        Down                   Down   \n",
       "1538                         NaN                    NaN   \n",
       "\n",
       "     Perf_node01_msr_mperf_ Perf_node01_msr_tsc_ Perf_node01_cpu_ref_cycles_  \\\n",
       "0                        Up                 Down                          Up   \n",
       "1                        Up                   Up                          Up   \n",
       "2                        Up                 Down                          Up   \n",
       "3                        Up                   Up                          Up   \n",
       "4                        Up                   Up                          Up   \n",
       "...                     ...                  ...                         ...   \n",
       "1534                     Up                   Up                          Up   \n",
       "1535                     Up                   Up                          Up   \n",
       "1536                   Down                 Down                        Down   \n",
       "1537                   Down                 Down                        Down   \n",
       "1538                    NaN                  NaN                         NaN   \n",
       "\n",
       "     Perf_node01_power_energy_pkg_          a Perf_node01_power_energy_ram_  \\\n",
       "0                           Low_Up        NaN                       High_Up   \n",
       "1                           Low_Up     Low_Up                      Low_Down   \n",
       "2                           Low_Up     Low_Up                      Low_Down   \n",
       "3                           Low_Up     Low_Up                       High_Up   \n",
       "4                          High_Up     Low_Up                       High_Up   \n",
       "...                            ...        ...                           ...   \n",
       "1534                        Low_Up     Low_Up                      Low_Down   \n",
       "1535                       High_Up     Low_Up                       High_Up   \n",
       "1536                     High_Down    High_Up                     High_Down   \n",
       "1537                     High_Down  High_Down                     High_Down   \n",
       "1538                           NaN  High_Down                           NaN   \n",
       "\n",
       "              b Perf_node01_power_energy_total_          c  \n",
       "0           NaN                          Low_Up        NaN  \n",
       "1       High_Up                          Low_Up     Low_Up  \n",
       "2      Low_Down                          Low_Up     Low_Up  \n",
       "3      Low_Down                          Low_Up     Low_Up  \n",
       "4       High_Up                         High_Up     Low_Up  \n",
       "...         ...                             ...        ...  \n",
       "1534  High_Down                          Low_Up   Low_Down  \n",
       "1535   Low_Down                         High_Up     Low_Up  \n",
       "1536    High_Up                       High_Down    High_Up  \n",
       "1537  High_Down                       High_Down  High_Down  \n",
       "1538  High_Down                             NaN  High_Down  \n",
       "\n",
       "[1539 rows x 14 columns]"
      ]
     },
     "execution_count": 3,
     "metadata": {},
     "output_type": "execute_result"
    }
   ],
   "source": [
    "bt"
   ]
  },
  {
   "cell_type": "markdown",
   "metadata": {},
   "source": [
    "편한 비교를 위해 만듬"
   ]
  },
  {
   "cell_type": "code",
   "execution_count": 4,
   "metadata": {
    "scrolled": true
   },
   "outputs": [],
   "source": [
    "df = bt[['Perf_node01_power_energy_pkg_', 'a']]"
   ]
  },
  {
   "cell_type": "code",
   "execution_count": 5,
   "metadata": {},
   "outputs": [],
   "source": [
    "ef = bt[['Perf_node01_power_energy_ram_', 'b']]"
   ]
  },
  {
   "cell_type": "code",
   "execution_count": 6,
   "metadata": {},
   "outputs": [],
   "source": [
    "ff = bt[['Perf_node01_power_energy_total_', 'c']]"
   ]
  },
  {
   "cell_type": "markdown",
   "metadata": {},
   "source": [
    "각 전력에 대한 전위확률 매트릭스 정의"
   ]
  },
  {
   "cell_type": "code",
   "execution_count": 7,
   "metadata": {},
   "outputs": [],
   "source": [
    "pkg_matrix = np.zeros((5,5))\n",
    "ram_matrix = np.zeros((5,5))\n",
    "total_matrix = np.zeros((5,5))"
   ]
  },
  {
   "cell_type": "markdown",
   "metadata": {},
   "source": [
    "# pkg 전위확률 계산"
   ]
  },
  {
   "cell_type": "code",
   "execution_count": 8,
   "metadata": {},
   "outputs": [
    {
     "name": "stdout",
     "output_type": "stream",
     "text": [
      "High_Up to High_Up :\n",
      " Perf_node01_power_energy_pkg_    0\n",
      "a                                0\n",
      "dtype: int64 \n",
      "\n",
      "High_Up to Low_Up :\n",
      " Perf_node01_power_energy_pkg_    1\n",
      "a                                1\n",
      "dtype: int64 \n",
      "\n",
      "High_Up to Same2 :\n",
      " Perf_node01_power_energy_pkg_    0\n",
      "a                                0\n",
      "dtype: int64 \n",
      "\n",
      "High_Up to Low_Down :\n",
      " Perf_node01_power_energy_pkg_    15\n",
      "a                                15\n",
      "dtype: int64 \n",
      "\n",
      "High_Up to High_Down :\n",
      " Perf_node01_power_energy_pkg_    431\n",
      "a                                431\n",
      "dtype: int64 \n",
      "\n"
     ]
    }
   ],
   "source": [
    "i = df.loc[(df[\"Perf_node01_power_energy_pkg_\"] == \"High_Up\") & (df[\"a\"] == \"High_Up\")].count()\n",
    "print(\"High_Up to High_Up :\\n\",i, \"\\n\")\n",
    "\n",
    "i = df.loc[(df[\"Perf_node01_power_energy_pkg_\"] == \"Low_Up\") & (df[\"a\"] == \"High_Up\")].count()\n",
    "print(\"High_Up to Low_Up :\\n\",i, \"\\n\")\n",
    "\n",
    "i = df.loc[(df[\"Perf_node01_power_energy_pkg_\"] == \"Same2\") & (df[\"a\"] == \"High_Up\")].count()\n",
    "print(\"High_Up to Same2 :\\n\",i, \"\\n\")\n",
    "\n",
    "i = df.loc[(df[\"Perf_node01_power_energy_pkg_\"] == \"Low_Down\") & (df[\"a\"] == \"High_Up\")].count()\n",
    "print(\"High_Up to Low_Down :\\n\",i, \"\\n\")\n",
    "\n",
    "i = df.loc[(df[\"Perf_node01_power_energy_pkg_\"] == \"High_Down\") & (df[\"a\"] == \"High_Up\")].count()\n",
    "print(\"High_Up to High_Down :\\n\",i, \"\\n\")"
   ]
  },
  {
   "cell_type": "code",
   "execution_count": 9,
   "metadata": {},
   "outputs": [
    {
     "name": "stdout",
     "output_type": "stream",
     "text": [
      "Low_Up to High_Up :\n",
      " Perf_node01_power_energy_pkg_    286\n",
      "a                                286\n",
      "dtype: int64 \n",
      "\n",
      "Low_Up to Low_Up :\n",
      " Perf_node01_power_energy_pkg_    67\n",
      "a                                67\n",
      "dtype: int64 \n",
      "\n",
      "Low_Up to Same2 :\n",
      " Perf_node01_power_energy_pkg_    0\n",
      "a                                0\n",
      "dtype: int64 \n",
      "\n",
      "Low_Up to Low_Down :\n",
      " Perf_node01_power_energy_pkg_    39\n",
      "a                                39\n",
      "dtype: int64 \n",
      "\n",
      "Low_Up to High_Down :\n",
      " Perf_node01_power_energy_pkg_    24\n",
      "a                                24\n",
      "dtype: int64 \n",
      "\n"
     ]
    }
   ],
   "source": [
    "i = df.loc[(df[\"Perf_node01_power_energy_pkg_\"] == \"High_Up\") & (df[\"a\"] == \"Low_Up\")].count()\n",
    "print(\"Low_Up to High_Up :\\n\",i, \"\\n\")\n",
    "\n",
    "i = df.loc[(df[\"Perf_node01_power_energy_pkg_\"] == \"Low_Up\") & (df[\"a\"] == \"Low_Up\")].count()\n",
    "print(\"Low_Up to Low_Up :\\n\",i, \"\\n\")\n",
    "\n",
    "i = df.loc[(df[\"Perf_node01_power_energy_pkg_\"] == \"Same2\") & (df[\"a\"] == \"Low_Up\")].count()\n",
    "print(\"Low_Up to Same2 :\\n\",i, \"\\n\")\n",
    "\n",
    "i = df.loc[(df[\"Perf_node01_power_energy_pkg_\"] == \"Low_Down\") & (df[\"a\"] == \"Low_Up\")].count()\n",
    "print(\"Low_Up to Low_Down :\\n\",i, \"\\n\")\n",
    "\n",
    "i = df.loc[(df[\"Perf_node01_power_energy_pkg_\"] == \"High_Down\") & (df[\"a\"] == \"Low_Up\")].count()\n",
    "print(\"Low_Up to High_Down :\\n\",i, \"\\n\")"
   ]
  },
  {
   "cell_type": "code",
   "execution_count": 10,
   "metadata": {},
   "outputs": [
    {
     "name": "stdout",
     "output_type": "stream",
     "text": [
      "Same2 to High_Up :\n",
      " Perf_node01_power_energy_pkg_    0\n",
      "a                                0\n",
      "dtype: int64 \n",
      "\n",
      "Same2 to Low_Up :\n",
      " Perf_node01_power_energy_pkg_    0\n",
      "a                                0\n",
      "dtype: int64 \n",
      "\n",
      "Same2 to Same2 :\n",
      " Perf_node01_power_energy_pkg_    0\n",
      "a                                0\n",
      "dtype: int64 \n",
      "\n",
      "Same2 to Low_Down :\n",
      " Perf_node01_power_energy_pkg_    0\n",
      "a                                0\n",
      "dtype: int64 \n",
      "\n",
      "Same2 to High_Down :\n",
      " Perf_node01_power_energy_pkg_    0\n",
      "a                                0\n",
      "dtype: int64 \n",
      "\n"
     ]
    }
   ],
   "source": [
    "i = df.loc[(df[\"Perf_node01_power_energy_pkg_\"] == \"High_Up\") & (df[\"a\"] == \"Same2\")].count()\n",
    "print(\"Same2 to High_Up :\\n\",i, \"\\n\")\n",
    "\n",
    "i = df.loc[(df[\"Perf_node01_power_energy_pkg_\"] == \"Low_Up\") & (df[\"a\"] == \"Same2\")].count()\n",
    "print(\"Same2 to Low_Up :\\n\",i, \"\\n\")\n",
    "\n",
    "i = df.loc[(df[\"Perf_node01_power_energy_pkg_\"] == \"Same2\") & (df[\"a\"] == \"Same2\")].count()\n",
    "print(\"Same2 to Same2 :\\n\",i, \"\\n\")\n",
    "\n",
    "i = df.loc[(df[\"Perf_node01_power_energy_pkg_\"] == \"Low_Down\") & (df[\"a\"] == \"Same2\")].count()\n",
    "print(\"Same2 to Low_Down :\\n\",i, \"\\n\")\n",
    "\n",
    "i = df.loc[(df[\"Perf_node01_power_energy_pkg_\"] == \"High_Down\") & (df[\"a\"] == \"Same2\")].count()\n",
    "print(\"Same2 to High_Down :\\n\",i, \"\\n\")"
   ]
  },
  {
   "cell_type": "code",
   "execution_count": 11,
   "metadata": {},
   "outputs": [
    {
     "name": "stdout",
     "output_type": "stream",
     "text": [
      "Low_Down to High_Up :\n",
      " Perf_node01_power_energy_pkg_    161\n",
      "a                                161\n",
      "dtype: int64 \n",
      "\n",
      "Low_Down to Low_Up :\n",
      " Perf_node01_power_energy_pkg_    34\n",
      "a                                34\n",
      "dtype: int64 \n",
      "\n",
      "Low_Down to Same2 :\n",
      " Perf_node01_power_energy_pkg_    0\n",
      "a                                0\n",
      "dtype: int64 \n",
      "\n",
      "Low_Down to Low_Down :\n",
      " Perf_node01_power_energy_pkg_    23\n",
      "a                                23\n",
      "dtype: int64 \n",
      "\n",
      "Low_Down to High_Down :\n",
      " Perf_node01_power_energy_pkg_    0\n",
      "a                                0\n",
      "dtype: int64 \n",
      "\n"
     ]
    }
   ],
   "source": [
    "i = df.loc[(df[\"Perf_node01_power_energy_pkg_\"] == \"High_Up\") & (df[\"a\"] == \"Low_Down\")].count()\n",
    "print(\"Low_Down to High_Up :\\n\",i, \"\\n\")\n",
    "\n",
    "i = df.loc[(df[\"Perf_node01_power_energy_pkg_\"] == \"Low_Up\") & (df[\"a\"] == \"Low_Down\")].count()\n",
    "print(\"Low_Down to Low_Up :\\n\",i, \"\\n\")\n",
    "\n",
    "i = df.loc[(df[\"Perf_node01_power_energy_pkg_\"] == \"Same2\") & (df[\"a\"] == \"Low_Down\")].count()\n",
    "print(\"Low_Down to Same2 :\\n\",i, \"\\n\")\n",
    "\n",
    "i = df.loc[(df[\"Perf_node01_power_energy_pkg_\"] == \"Low_Down\") & (df[\"a\"] == \"Low_Down\")].count()\n",
    "print(\"Low_Down to Low_Down :\\n\",i, \"\\n\")\n",
    "\n",
    "i = df.loc[(df[\"Perf_node01_power_energy_pkg_\"] == \"High_Down\") & (df[\"a\"] == \"Low_Down\")].count()\n",
    "print(\"Low_Down to High_Down :\\n\",i, \"\\n\")"
   ]
  },
  {
   "cell_type": "code",
   "execution_count": 12,
   "metadata": {
    "scrolled": true
   },
   "outputs": [
    {
     "name": "stdout",
     "output_type": "stream",
     "text": [
      "High_Down to High_Up :\n",
      " Perf_node01_power_energy_pkg_    0\n",
      "a                                0\n",
      "dtype: int64 \n",
      "\n",
      "High_Down to Low_Up :\n",
      " Perf_node01_power_energy_pkg_    313\n",
      "a                                313\n",
      "dtype: int64 \n",
      "\n",
      "High_Down to Same2 :\n",
      " Perf_node01_power_energy_pkg_    0\n",
      "a                                0\n",
      "dtype: int64 \n",
      "\n",
      "High_Down to Low_Down :\n",
      " Perf_node01_power_energy_pkg_    141\n",
      "a                                141\n",
      "dtype: int64 \n",
      "\n",
      "High_Down to High_Down :\n",
      " Perf_node01_power_energy_pkg_    2\n",
      "a                                2\n",
      "dtype: int64 \n",
      "\n"
     ]
    }
   ],
   "source": [
    "i = df.loc[(df[\"Perf_node01_power_energy_pkg_\"] == \"High_Up\") & (df[\"a\"] == \"High_Down\")].count()\n",
    "print(\"High_Down to High_Up :\\n\",i, \"\\n\")\n",
    "\n",
    "i = df.loc[(df[\"Perf_node01_power_energy_pkg_\"] == \"Low_Up\") & (df[\"a\"] == \"High_Down\")].count()\n",
    "print(\"High_Down to Low_Up :\\n\",i, \"\\n\")\n",
    "\n",
    "i = df.loc[(df[\"Perf_node01_power_energy_pkg_\"] == \"Same2\") & (df[\"a\"] == \"High_Down\")].count()\n",
    "print(\"High_Down to Same2 :\\n\",i, \"\\n\")\n",
    "\n",
    "i = df.loc[(df[\"Perf_node01_power_energy_pkg_\"] == \"Low_Down\") & (df[\"a\"] == \"High_Down\")].count()\n",
    "print(\"High_Down to Low_Down :\\n\",i, \"\\n\")\n",
    "\n",
    "i = df.loc[(df[\"Perf_node01_power_energy_pkg_\"] == \"High_Down\") & (df[\"a\"] == \"High_Down\")].count()\n",
    "print(\"High_Down to High_Down :\\n\",i, \"\\n\")"
   ]
  },
  {
   "cell_type": "code",
   "execution_count": 13,
   "metadata": {},
   "outputs": [],
   "source": [
    "pkg_matrix[0][1] = 1/447\n",
    "pkg_matrix[0][3] = 15/447\n",
    "pkg_matrix[0][4] = 431/447"
   ]
  },
  {
   "cell_type": "code",
   "execution_count": 14,
   "metadata": {},
   "outputs": [],
   "source": [
    "pkg_matrix[1][0] = 286/416\n",
    "pkg_matrix[1][1] = 67/416\n",
    "pkg_matrix[1][3] = 39/416\n",
    "pkg_matrix[1][4] = 24/416"
   ]
  },
  {
   "cell_type": "code",
   "execution_count": 15,
   "metadata": {},
   "outputs": [],
   "source": [
    "pkg_matrix[3][0] = 161/218\n",
    "pkg_matrix[3][1] = 34/218\n",
    "pkg_matrix[3][3] = 23/218"
   ]
  },
  {
   "cell_type": "code",
   "execution_count": 16,
   "metadata": {},
   "outputs": [],
   "source": [
    "pkg_matrix[4][1] = 313/456\n",
    "pkg_matrix[4][3] = 141/456\n",
    "pkg_matrix[4][4] = 2/456"
   ]
  },
  {
   "cell_type": "code",
   "execution_count": 17,
   "metadata": {},
   "outputs": [
    {
     "data": {
      "text/plain": [
       "array([[0.        , 0.00223714, 0.        , 0.03355705, 0.96420582],\n",
       "       [0.6875    , 0.16105769, 0.        , 0.09375   , 0.05769231],\n",
       "       [0.        , 0.        , 0.        , 0.        , 0.        ],\n",
       "       [0.73853211, 0.1559633 , 0.        , 0.10550459, 0.        ],\n",
       "       [0.        , 0.68640351, 0.        , 0.30921053, 0.00438596]])"
      ]
     },
     "execution_count": 17,
     "metadata": {},
     "output_type": "execute_result"
    }
   ],
   "source": [
    "pkg_matrix"
   ]
  },
  {
   "cell_type": "code",
   "execution_count": 18,
   "metadata": {},
   "outputs": [
    {
     "data": {
      "text/plain": [
       "array([[0.   , 0.002, 0.   , 0.034, 0.964],\n",
       "       [0.688, 0.161, 0.   , 0.094, 0.058],\n",
       "       [0.   , 0.   , 0.   , 0.   , 0.   ],\n",
       "       [0.739, 0.156, 0.   , 0.106, 0.   ],\n",
       "       [0.   , 0.686, 0.   , 0.309, 0.004]])"
      ]
     },
     "execution_count": 18,
     "metadata": {},
     "output_type": "execute_result"
    }
   ],
   "source": [
    "pkg_matrix = pkg_matrix.round(3)\n",
    "pkg_matrix"
   ]
  },
  {
   "cell_type": "markdown",
   "metadata": {},
   "source": [
    "# ram 전위확률 계산"
   ]
  },
  {
   "cell_type": "code",
   "execution_count": 19,
   "metadata": {},
   "outputs": [
    {
     "name": "stdout",
     "output_type": "stream",
     "text": [
      "High_Up to High_Up :\n",
      " Perf_node01_power_energy_ram_    14\n",
      "b                                14\n",
      "dtype: int64 \n",
      "\n",
      "High_Up to Low_Up :\n",
      " Perf_node01_power_energy_ram_    15\n",
      "b                                15\n",
      "dtype: int64 \n",
      "\n",
      "High_Up to Same2 :\n",
      " Perf_node01_power_energy_ram_    1\n",
      "b                                1\n",
      "dtype: int64 \n",
      "\n",
      "High_Up to Low_Down :\n",
      " Perf_node01_power_energy_ram_    111\n",
      "b                                111\n",
      "dtype: int64 \n",
      "\n",
      "High_Up to High_Down :\n",
      " Perf_node01_power_energy_ram_    342\n",
      "b                                342\n",
      "dtype: int64 \n",
      "\n"
     ]
    }
   ],
   "source": [
    "i = ef.loc[(ef[\"Perf_node01_power_energy_ram_\"] == \"High_Up\") & (ef[\"b\"] == \"High_Up\")].count()\n",
    "print(\"High_Up to High_Up :\\n\",i, \"\\n\")\n",
    "\n",
    "i = ef.loc[(ef[\"Perf_node01_power_energy_ram_\"] == \"Low_Up\") & (ef[\"b\"] == \"High_Up\")].count()\n",
    "print(\"High_Up to Low_Up :\\n\",i, \"\\n\")\n",
    "\n",
    "i = ef.loc[(ef[\"Perf_node01_power_energy_ram_\"] == \"Same2\") & (ef[\"b\"] == \"High_Up\")].count()\n",
    "print(\"High_Up to Same2 :\\n\",i, \"\\n\")\n",
    "\n",
    "i = ef.loc[(ef[\"Perf_node01_power_energy_ram_\"] == \"Low_Down\") & (ef[\"b\"] == \"High_Up\")].count()\n",
    "print(\"High_Up to Low_Down :\\n\",i, \"\\n\")\n",
    "\n",
    "i = ef.loc[(ef[\"Perf_node01_power_energy_ram_\"] == \"High_Down\") & (ef[\"b\"] == \"High_Up\")].count()\n",
    "print(\"High_Up to High_Down :\\n\",i, \"\\n\")"
   ]
  },
  {
   "cell_type": "code",
   "execution_count": 20,
   "metadata": {},
   "outputs": [
    {
     "name": "stdout",
     "output_type": "stream",
     "text": [
      "Low_Up to High_Up :\n",
      " Perf_node01_power_energy_ram_    60\n",
      "b                                60\n",
      "dtype: int64 \n",
      "\n",
      "Low_Up to Low_Up :\n",
      " Perf_node01_power_energy_ram_    18\n",
      "b                                18\n",
      "dtype: int64 \n",
      "\n",
      "Low_Up to Same2 :\n",
      " Perf_node01_power_energy_ram_    1\n",
      "b                                1\n",
      "dtype: int64 \n",
      "\n",
      "Low_Up to Low_Down :\n",
      " Perf_node01_power_energy_ram_    24\n",
      "b                                24\n",
      "dtype: int64 \n",
      "\n",
      "Low_Up to High_Down :\n",
      " Perf_node01_power_energy_ram_    22\n",
      "b                                22\n",
      "dtype: int64 \n",
      "\n"
     ]
    }
   ],
   "source": [
    "i = ef.loc[(ef[\"Perf_node01_power_energy_ram_\"] == \"High_Up\") & (ef[\"b\"] == \"Low_Up\")].count()\n",
    "print(\"Low_Up to High_Up :\\n\",i, \"\\n\")\n",
    "\n",
    "i = ef.loc[(ef[\"Perf_node01_power_energy_ram_\"] == \"Low_Up\") & (ef[\"b\"] == \"Low_Up\")].count()\n",
    "print(\"Low_Up to Low_Up :\\n\",i, \"\\n\")\n",
    "\n",
    "i = ef.loc[(ef[\"Perf_node01_power_energy_ram_\"] == \"Same2\") & (ef[\"b\"] == \"Low_Up\")].count()\n",
    "print(\"Low_Up to Same2 :\\n\",i, \"\\n\")\n",
    "\n",
    "i = ef.loc[(ef[\"Perf_node01_power_energy_ram_\"] == \"Low_Down\") & (ef[\"b\"] == \"Low_Up\")].count()\n",
    "print(\"Low_Up to Low_Down :\\n\",i, \"\\n\")\n",
    "\n",
    "i = ef.loc[(ef[\"Perf_node01_power_energy_ram_\"] == \"High_Down\") & (ef[\"b\"] == \"Low_Up\")].count()\n",
    "print(\"Low_Up to High_Down :\\n\",i, \"\\n\")"
   ]
  },
  {
   "cell_type": "code",
   "execution_count": 21,
   "metadata": {},
   "outputs": [
    {
     "name": "stdout",
     "output_type": "stream",
     "text": [
      "Same2 to High_Up :\n",
      " Perf_node01_power_energy_ram_    1\n",
      "b                                1\n",
      "dtype: int64 \n",
      "\n",
      "Same2 to Low_Up :\n",
      " Perf_node01_power_energy_ram_    0\n",
      "b                                0\n",
      "dtype: int64 \n",
      "\n",
      "Same2 to Same2 :\n",
      " Perf_node01_power_energy_ram_    0\n",
      "b                                0\n",
      "dtype: int64 \n",
      "\n",
      "Same2 to Low_Down :\n",
      " Perf_node01_power_energy_ram_    0\n",
      "b                                0\n",
      "dtype: int64 \n",
      "\n",
      "Same2 to High_Down :\n",
      " Perf_node01_power_energy_ram_    2\n",
      "b                                2\n",
      "dtype: int64 \n",
      "\n"
     ]
    }
   ],
   "source": [
    "i = ef.loc[(ef[\"Perf_node01_power_energy_ram_\"] == \"High_Up\") & (ef[\"b\"] == \"Same2\")].count()\n",
    "print(\"Same2 to High_Up :\\n\",i, \"\\n\")\n",
    "\n",
    "i = ef.loc[(ef[\"Perf_node01_power_energy_ram_\"] == \"Low_Up\") & (ef[\"b\"] == \"Same2\")].count()\n",
    "print(\"Same2 to Low_Up :\\n\",i, \"\\n\")\n",
    "\n",
    "i = ef.loc[(ef[\"Perf_node01_power_energy_ram_\"] == \"Same2\") & (ef[\"b\"] == \"Same2\")].count()\n",
    "print(\"Same2 to Same2 :\\n\",i, \"\\n\")\n",
    "\n",
    "i = ef.loc[(ef[\"Perf_node01_power_energy_ram_\"] == \"Low_Down\") & (ef[\"b\"] == \"Same2\")].count()\n",
    "print(\"Same2 to Low_Down :\\n\",i, \"\\n\")\n",
    "\n",
    "i = ef.loc[(ef[\"Perf_node01_power_energy_ram_\"] == \"High_Down\") & (ef[\"b\"] == \"Same2\")].count()\n",
    "print(\"Same2 to High_Down :\\n\",i, \"\\n\")"
   ]
  },
  {
   "cell_type": "code",
   "execution_count": 22,
   "metadata": {},
   "outputs": [
    {
     "name": "stdout",
     "output_type": "stream",
     "text": [
      "Low_Down to High_Up :\n",
      " Perf_node01_power_energy_ram_    235\n",
      "b                                235\n",
      "dtype: int64 \n",
      "\n",
      "Low_Down to Low_Up :\n",
      " Perf_node01_power_energy_ram_    28\n",
      "b                                28\n",
      "dtype: int64 \n",
      "\n",
      "Low_Down to Same2 :\n",
      " Perf_node01_power_energy_ram_    1\n",
      "b                                1\n",
      "dtype: int64 \n",
      "\n",
      "Low_Down to Low_Down :\n",
      " Perf_node01_power_energy_ram_    69\n",
      "b                                69\n",
      "dtype: int64 \n",
      "\n",
      "Low_Down to High_Down :\n",
      " Perf_node01_power_energy_ram_    59\n",
      "b                                59\n",
      "dtype: int64 \n",
      "\n"
     ]
    }
   ],
   "source": [
    "i = ef.loc[(ef[\"Perf_node01_power_energy_ram_\"] == \"High_Up\") & (ef[\"b\"] == \"Low_Down\")].count()\n",
    "print(\"Low_Down to High_Up :\\n\",i, \"\\n\")\n",
    "\n",
    "i = ef.loc[(ef[\"Perf_node01_power_energy_ram_\"] == \"Low_Up\") & (ef[\"b\"] == \"Low_Down\")].count()\n",
    "print(\"Low_Down to Low_Up :\\n\",i, \"\\n\")\n",
    "\n",
    "i = ef.loc[(ef[\"Perf_node01_power_energy_ram_\"] == \"Same2\") & (ef[\"b\"] == \"Low_Down\")].count()\n",
    "print(\"Low_Down to Same2 :\\n\",i, \"\\n\")\n",
    "\n",
    "i = ef.loc[(ef[\"Perf_node01_power_energy_ram_\"] == \"Low_Down\") & (ef[\"b\"] == \"Low_Down\")].count()\n",
    "print(\"Low_Down to Low_Down :\\n\",i, \"\\n\")\n",
    "\n",
    "i = ef.loc[(ef[\"Perf_node01_power_energy_ram_\"] == \"High_Down\") & (ef[\"b\"] == \"Low_Down\")].count()\n",
    "print(\"Low_Down to High_Down :\\n\",i, \"\\n\")"
   ]
  },
  {
   "cell_type": "code",
   "execution_count": 23,
   "metadata": {},
   "outputs": [
    {
     "name": "stdout",
     "output_type": "stream",
     "text": [
      "High_Down to High_Up :\n",
      " Perf_node01_power_energy_ram_    172\n",
      "b                                172\n",
      "dtype: int64 \n",
      "\n",
      "High_Down to Low_Up :\n",
      " Perf_node01_power_energy_ram_    64\n",
      "b                                64\n",
      "dtype: int64 \n",
      "\n",
      "High_Down to Same2 :\n",
      " Perf_node01_power_energy_ram_    0\n",
      "b                                0\n",
      "dtype: int64 \n",
      "\n",
      "High_Down to Low_Down :\n",
      " Perf_node01_power_energy_ram_    188\n",
      "b                                188\n",
      "dtype: int64 \n",
      "\n",
      "High_Down to High_Down :\n",
      " Perf_node01_power_energy_ram_    110\n",
      "b                                110\n",
      "dtype: int64 \n",
      "\n"
     ]
    }
   ],
   "source": [
    "i = ef.loc[(ef[\"Perf_node01_power_energy_ram_\"] == \"High_Up\") & (ef[\"b\"] == \"High_Down\")].count()\n",
    "print(\"High_Down to High_Up :\\n\",i, \"\\n\")\n",
    "\n",
    "i = ef.loc[(ef[\"Perf_node01_power_energy_ram_\"] == \"Low_Up\") & (ef[\"b\"] == \"High_Down\")].count()\n",
    "print(\"High_Down to Low_Up :\\n\",i, \"\\n\")\n",
    "\n",
    "i = ef.loc[(ef[\"Perf_node01_power_energy_ram_\"] == \"Same2\") & (ef[\"b\"] == \"High_Down\")].count()\n",
    "print(\"High_Down to Same2 :\\n\",i, \"\\n\")\n",
    "\n",
    "i = ef.loc[(ef[\"Perf_node01_power_energy_ram_\"] == \"Low_Down\") & (ef[\"b\"] == \"High_Down\")].count()\n",
    "print(\"High_Down to Low_Down :\\n\",i, \"\\n\")\n",
    "\n",
    "i = ef.loc[(ef[\"Perf_node01_power_energy_ram_\"] == \"High_Down\") & (ef[\"b\"] == \"High_Down\")].count()\n",
    "print(\"High_Down to High_Down :\\n\",i, \"\\n\")"
   ]
  },
  {
   "cell_type": "code",
   "execution_count": 24,
   "metadata": {},
   "outputs": [],
   "source": [
    "ram_matrix[0] = [14/483, 15/483, 1/483, 111/483, 342/483]\n",
    "ram_matrix[1] = [60/125, 18/125, 1/125, 24/125, 22/125]\n",
    "ram_matrix[2] = [1/3, 0, 0, 0, 2/3]\n",
    "ram_matrix[3] = [235/392, 28/392, 1/392, 69/392, 59/392]\n",
    "ram_matrix[4] = [172/534, 64/534, 0, 188/534, 110/534]"
   ]
  },
  {
   "cell_type": "code",
   "execution_count": 25,
   "metadata": {},
   "outputs": [
    {
     "data": {
      "text/plain": [
       "array([[0.02898551, 0.0310559 , 0.00207039, 0.22981366, 0.70807453],\n",
       "       [0.48      , 0.144     , 0.008     , 0.192     , 0.176     ],\n",
       "       [0.33333333, 0.        , 0.        , 0.        , 0.66666667],\n",
       "       [0.5994898 , 0.07142857, 0.00255102, 0.17602041, 0.1505102 ],\n",
       "       [0.32209738, 0.11985019, 0.        , 0.35205993, 0.20599251]])"
      ]
     },
     "execution_count": 25,
     "metadata": {},
     "output_type": "execute_result"
    }
   ],
   "source": [
    "ram_matrix"
   ]
  },
  {
   "cell_type": "code",
   "execution_count": 26,
   "metadata": {},
   "outputs": [
    {
     "data": {
      "text/plain": [
       "array([[0.029, 0.031, 0.002, 0.23 , 0.708],\n",
       "       [0.48 , 0.144, 0.008, 0.192, 0.176],\n",
       "       [0.333, 0.   , 0.   , 0.   , 0.667],\n",
       "       [0.599, 0.071, 0.003, 0.176, 0.151],\n",
       "       [0.322, 0.12 , 0.   , 0.352, 0.206]])"
      ]
     },
     "execution_count": 26,
     "metadata": {},
     "output_type": "execute_result"
    }
   ],
   "source": [
    "ram_matrix = ram_matrix.round(3)\n",
    "ram_matrix"
   ]
  },
  {
   "cell_type": "markdown",
   "metadata": {},
   "source": [
    "# total 전위확률 계산"
   ]
  },
  {
   "cell_type": "code",
   "execution_count": 27,
   "metadata": {},
   "outputs": [
    {
     "name": "stdout",
     "output_type": "stream",
     "text": [
      "High_Up to High_Up :\n",
      " Perf_node01_power_energy_total_    0\n",
      "c                                  0\n",
      "dtype: int64 \n",
      "\n",
      "High_Up to Low_Up :\n",
      " Perf_node01_power_energy_total_    1\n",
      "c                                  1\n",
      "dtype: int64 \n",
      "\n",
      "High_Up to Same2 :\n",
      " Perf_node01_power_energy_total_    0\n",
      "c                                  0\n",
      "dtype: int64 \n",
      "\n",
      "High_Up to Low_Down :\n",
      " Perf_node01_power_energy_total_    16\n",
      "c                                  16\n",
      "dtype: int64 \n",
      "\n",
      "High_Up to High_Down :\n",
      " Perf_node01_power_energy_total_    439\n",
      "c                                  439\n",
      "dtype: int64 \n",
      "\n"
     ]
    }
   ],
   "source": [
    "i = ff.loc[(ff[\"Perf_node01_power_energy_total_\"] == \"High_Up\") & (ff[\"c\"] == \"High_Up\")].count()\n",
    "print(\"High_Up to High_Up :\\n\",i, \"\\n\")\n",
    "\n",
    "i = ff.loc[(ff[\"Perf_node01_power_energy_total_\"] == \"Low_Up\") & (ff[\"c\"] == \"High_Up\")].count()\n",
    "print(\"High_Up to Low_Up :\\n\",i, \"\\n\")\n",
    "\n",
    "i = ff.loc[(ff[\"Perf_node01_power_energy_total_\"] == \"Same2\") & (ff[\"c\"] == \"High_Up\")].count()\n",
    "print(\"High_Up to Same2 :\\n\",i, \"\\n\")\n",
    "\n",
    "i = ff.loc[(ff[\"Perf_node01_power_energy_total_\"] == \"Low_Down\") & (ff[\"c\"] == \"High_Up\")].count()\n",
    "print(\"High_Up to Low_Down :\\n\",i, \"\\n\")\n",
    "\n",
    "i = ff.loc[(ff[\"Perf_node01_power_energy_total_\"] == \"High_Down\") & (ff[\"c\"] == \"High_Up\")].count()\n",
    "print(\"High_Up to High_Down :\\n\",i, \"\\n\")"
   ]
  },
  {
   "cell_type": "code",
   "execution_count": 28,
   "metadata": {},
   "outputs": [
    {
     "name": "stdout",
     "output_type": "stream",
     "text": [
      "Low_Up to High_Up :\n",
      " Perf_node01_power_energy_total_    249\n",
      "c                                  249\n",
      "dtype: int64 \n",
      "\n",
      "Low_Up to Low_Up :\n",
      " Perf_node01_power_energy_total_    45\n",
      "c                                  45\n",
      "dtype: int64 \n",
      "\n",
      "Low_Up to Same2 :\n",
      " Perf_node01_power_energy_total_    0\n",
      "c                                  0\n",
      "dtype: int64 \n",
      "\n",
      "Low_Up to Low_Down :\n",
      " Perf_node01_power_energy_total_    45\n",
      "c                                  45\n",
      "dtype: int64 \n",
      "\n",
      "Low_Up to High_Down :\n",
      " Perf_node01_power_energy_total_    13\n",
      "c                                  13\n",
      "dtype: int64 \n",
      "\n"
     ]
    }
   ],
   "source": [
    "i = ff.loc[(ff[\"Perf_node01_power_energy_total_\"] == \"High_Up\") & (ff[\"c\"] == \"Low_Up\")].count()\n",
    "print(\"Low_Up to High_Up :\\n\",i, \"\\n\")\n",
    "\n",
    "i = ff.loc[(ff[\"Perf_node01_power_energy_total_\"] == \"Low_Up\") & (ff[\"c\"] == \"Low_Up\")].count()\n",
    "print(\"Low_Up to Low_Up :\\n\",i, \"\\n\")\n",
    "\n",
    "i = ff.loc[(ff[\"Perf_node01_power_energy_total_\"] == \"Same2\") & (ff[\"c\"] == \"Low_Up\")].count()\n",
    "print(\"Low_Up to Same2 :\\n\",i, \"\\n\")\n",
    "\n",
    "i = ff.loc[(ff[\"Perf_node01_power_energy_total_\"] == \"Low_Down\") & (ff[\"c\"] == \"Low_Up\")].count()\n",
    "print(\"Low_Up to Low_Down :\\n\",i, \"\\n\")\n",
    "\n",
    "i = ff.loc[(ff[\"Perf_node01_power_energy_total_\"] == \"High_Down\") & (ff[\"c\"] == \"Low_Up\")].count()\n",
    "print(\"Low_Up to High_Down :\\n\",i, \"\\n\")"
   ]
  },
  {
   "cell_type": "code",
   "execution_count": 29,
   "metadata": {},
   "outputs": [
    {
     "name": "stdout",
     "output_type": "stream",
     "text": [
      "Same2 to High_Up :\n",
      " Perf_node01_power_energy_total_    0\n",
      "c                                  0\n",
      "dtype: int64 \n",
      "\n",
      "Same2 to Low_Up :\n",
      " Perf_node01_power_energy_total_    0\n",
      "c                                  0\n",
      "dtype: int64 \n",
      "\n",
      "Same2 to Same2 :\n",
      " Perf_node01_power_energy_total_    0\n",
      "c                                  0\n",
      "dtype: int64 \n",
      "\n",
      "Same2 to Low_Down :\n",
      " Perf_node01_power_energy_total_    0\n",
      "c                                  0\n",
      "dtype: int64 \n",
      "\n",
      "Same2 to High_Down :\n",
      " Perf_node01_power_energy_total_    0\n",
      "c                                  0\n",
      "dtype: int64 \n",
      "\n"
     ]
    }
   ],
   "source": [
    "i = ff.loc[(ff[\"Perf_node01_power_energy_total_\"] == \"High_Up\") & (ff[\"c\"] == \"Same2\")].count()\n",
    "print(\"Same2 to High_Up :\\n\",i, \"\\n\")\n",
    "\n",
    "i = ff.loc[(ff[\"Perf_node01_power_energy_total_\"] == \"Low_Up\") & (ff[\"c\"] == \"Same2\")].count()\n",
    "print(\"Same2 to Low_Up :\\n\",i, \"\\n\")\n",
    "\n",
    "i = ff.loc[(ff[\"Perf_node01_power_energy_total_\"] == \"Same2\") & (ff[\"c\"] == \"Same2\")].count()\n",
    "print(\"Same2 to Same2 :\\n\",i, \"\\n\")\n",
    "\n",
    "i = ff.loc[(ff[\"Perf_node01_power_energy_total_\"] == \"Low_Down\") & (ff[\"c\"] == \"Same2\")].count()\n",
    "print(\"Same2 to Low_Down :\\n\",i, \"\\n\")\n",
    "\n",
    "i = ff.loc[(ff[\"Perf_node01_power_energy_total_\"] == \"High_Down\") & (ff[\"c\"] == \"Same2\")].count()\n",
    "print(\"Same2 to High_Down :\\n\",i, \"\\n\")"
   ]
  },
  {
   "cell_type": "code",
   "execution_count": 30,
   "metadata": {},
   "outputs": [
    {
     "name": "stdout",
     "output_type": "stream",
     "text": [
      "Low_Down to High_Up :\n",
      " Perf_node01_power_energy_total_    207\n",
      "c                                  207\n",
      "dtype: int64 \n",
      "\n",
      "Low_Down to Low_Up :\n",
      " Perf_node01_power_energy_total_    41\n",
      "c                                  41\n",
      "dtype: int64 \n",
      "\n",
      "Low_Down to Same2 :\n",
      " Perf_node01_power_energy_total_    0\n",
      "c                                  0\n",
      "dtype: int64 \n",
      "\n",
      "Low_Down to Low_Down :\n",
      " Perf_node01_power_energy_total_    28\n",
      "c                                  28\n",
      "dtype: int64 \n",
      "\n",
      "Low_Down to High_Down :\n",
      " Perf_node01_power_energy_total_    0\n",
      "c                                  0\n",
      "dtype: int64 \n",
      "\n"
     ]
    }
   ],
   "source": [
    "i = ff.loc[(ff[\"Perf_node01_power_energy_total_\"] == \"High_Up\") & (ff[\"c\"] == \"Low_Down\")].count()\n",
    "print(\"Low_Down to High_Up :\\n\",i, \"\\n\")\n",
    "\n",
    "i = ff.loc[(ff[\"Perf_node01_power_energy_total_\"] == \"Low_Up\") & (ff[\"c\"] == \"Low_Down\")].count()\n",
    "print(\"Low_Down to Low_Up :\\n\",i, \"\\n\")\n",
    "\n",
    "i = ff.loc[(ff[\"Perf_node01_power_energy_total_\"] == \"Same2\") & (ff[\"c\"] == \"Low_Down\")].count()\n",
    "print(\"Low_Down to Same2 :\\n\",i, \"\\n\")\n",
    "\n",
    "i = ff.loc[(ff[\"Perf_node01_power_energy_total_\"] == \"Low_Down\") & (ff[\"c\"] == \"Low_Down\")].count()\n",
    "print(\"Low_Down to Low_Down :\\n\",i, \"\\n\")\n",
    "\n",
    "i = ff.loc[(ff[\"Perf_node01_power_energy_total_\"] == \"High_Down\") & (ff[\"c\"] == \"Low_Down\")].count()\n",
    "print(\"Low_Down to High_Down :\\n\",i, \"\\n\")"
   ]
  },
  {
   "cell_type": "code",
   "execution_count": 31,
   "metadata": {},
   "outputs": [
    {
     "name": "stdout",
     "output_type": "stream",
     "text": [
      "High_Down to High_Up :\n",
      " Perf_node01_power_energy_total_    0\n",
      "c                                  0\n",
      "dtype: int64 \n",
      "\n",
      "High_Down to Low_Up :\n",
      " Perf_node01_power_energy_total_    264\n",
      "c                                  264\n",
      "dtype: int64 \n",
      "\n",
      "High_Down to Same2 :\n",
      " Perf_node01_power_energy_total_    0\n",
      "c                                  0\n",
      "dtype: int64 \n",
      "\n",
      "High_Down to Low_Down :\n",
      " Perf_node01_power_energy_total_    187\n",
      "c                                  187\n",
      "dtype: int64 \n",
      "\n",
      "High_Down to High_Down :\n",
      " Perf_node01_power_energy_total_    2\n",
      "c                                  2\n",
      "dtype: int64 \n",
      "\n"
     ]
    }
   ],
   "source": [
    "i = ff.loc[(ff[\"Perf_node01_power_energy_total_\"] == \"High_Up\") & (ff[\"c\"] == \"High_Down\")].count()\n",
    "print(\"High_Down to High_Up :\\n\",i, \"\\n\")\n",
    "\n",
    "i = ff.loc[(ff[\"Perf_node01_power_energy_total_\"] == \"Low_Up\") & (ff[\"c\"] == \"High_Down\")].count()\n",
    "print(\"High_Down to Low_Up :\\n\",i, \"\\n\")\n",
    "\n",
    "i = ff.loc[(ff[\"Perf_node01_power_energy_total_\"] == \"Same2\") & (ff[\"c\"] == \"High_Down\")].count()\n",
    "print(\"High_Down to Same2 :\\n\",i, \"\\n\")\n",
    "\n",
    "i = ff.loc[(ff[\"Perf_node01_power_energy_total_\"] == \"Low_Down\") & (ff[\"c\"] == \"High_Down\")].count()\n",
    "print(\"High_Down to Low_Down :\\n\",i, \"\\n\")\n",
    "\n",
    "i = ff.loc[(ff[\"Perf_node01_power_energy_total_\"] == \"High_Down\") & (ff[\"c\"] == \"High_Down\")].count()\n",
    "print(\"High_Down to High_Down :\\n\",i, \"\\n\")"
   ]
  },
  {
   "cell_type": "code",
   "execution_count": 32,
   "metadata": {},
   "outputs": [],
   "source": [
    "total_matrix[0] = [0, 1/456, 0, 16/456, 439/456]\n",
    "total_matrix[1] = [249/352, 45/352, 0, 45/352, 13/352]\n",
    "total_matrix[3] = [207/276, 41/276, 0, 28/276, 0]\n",
    "total_matrix[4] = [0, 264/453, 0, 187/453, 2/453]"
   ]
  },
  {
   "cell_type": "code",
   "execution_count": 33,
   "metadata": {},
   "outputs": [
    {
     "data": {
      "text/plain": [
       "array([[0.        , 0.00219298, 0.        , 0.03508772, 0.9627193 ],\n",
       "       [0.70738636, 0.12784091, 0.        , 0.12784091, 0.03693182],\n",
       "       [0.        , 0.        , 0.        , 0.        , 0.        ],\n",
       "       [0.75      , 0.14855072, 0.        , 0.10144928, 0.        ],\n",
       "       [0.        , 0.58278146, 0.        , 0.41280353, 0.00441501]])"
      ]
     },
     "execution_count": 33,
     "metadata": {},
     "output_type": "execute_result"
    }
   ],
   "source": [
    "total_matrix"
   ]
  },
  {
   "cell_type": "code",
   "execution_count": 34,
   "metadata": {},
   "outputs": [
    {
     "data": {
      "text/plain": [
       "array([[0.   , 0.002, 0.   , 0.035, 0.963],\n",
       "       [0.707, 0.128, 0.   , 0.128, 0.037],\n",
       "       [0.   , 0.   , 0.   , 0.   , 0.   ],\n",
       "       [0.75 , 0.149, 0.   , 0.101, 0.   ],\n",
       "       [0.   , 0.583, 0.   , 0.413, 0.004]])"
      ]
     },
     "execution_count": 34,
     "metadata": {},
     "output_type": "execute_result"
    }
   ],
   "source": [
    "total_matrix = total_matrix.round(3)\n",
    "total_matrix"
   ]
  },
  {
   "cell_type": "markdown",
   "metadata": {},
   "source": [
    "# 결론"
   ]
  },
  {
   "cell_type": "code",
   "execution_count": 35,
   "metadata": {},
   "outputs": [
    {
     "name": "stdout",
     "output_type": "stream",
     "text": [
      "[[0.    0.002 0.    0.034 0.964]\n",
      " [0.688 0.161 0.    0.094 0.058]\n",
      " [0.    0.    0.    0.    0.   ]\n",
      " [0.739 0.156 0.    0.106 0.   ]\n",
      " [0.    0.686 0.    0.309 0.004]]\n",
      "[[0.029 0.031 0.002 0.23  0.708]\n",
      " [0.48  0.144 0.008 0.192 0.176]\n",
      " [0.333 0.    0.    0.    0.667]\n",
      " [0.599 0.071 0.003 0.176 0.151]\n",
      " [0.322 0.12  0.    0.352 0.206]]\n",
      "[[0.    0.002 0.    0.035 0.963]\n",
      " [0.707 0.128 0.    0.128 0.037]\n",
      " [0.    0.    0.    0.    0.   ]\n",
      " [0.75  0.149 0.    0.101 0.   ]\n",
      " [0.    0.583 0.    0.413 0.004]]\n"
     ]
    }
   ],
   "source": [
    "print(pkg_matrix)\n",
    "print(ram_matrix)\n",
    "print(total_matrix)"
   ]
  },
  {
   "cell_type": "code",
   "execution_count": null,
   "metadata": {},
   "outputs": [],
   "source": []
  }
 ],
 "metadata": {
  "kernelspec": {
   "display_name": "Python 3",
   "language": "python",
   "name": "python3"
  },
  "language_info": {
   "codemirror_mode": {
    "name": "ipython",
    "version": 3
   },
   "file_extension": ".py",
   "mimetype": "text/x-python",
   "name": "python",
   "nbconvert_exporter": "python",
   "pygments_lexer": "ipython3",
   "version": "3.7.4"
  }
 },
 "nbformat": 4,
 "nbformat_minor": 2
}
