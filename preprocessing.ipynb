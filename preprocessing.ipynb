{
 "cells": [
  {
   "cell_type": "code",
   "execution_count": 1,
   "metadata": {},
   "outputs": [],
   "source": [
    "import pandas as pd"
   ]
  },
  {
   "cell_type": "code",
   "execution_count": 2,
   "metadata": {},
   "outputs": [],
   "source": [
    "data_set = pd.read_csv(\"perf_original_data.csv\")"
   ]
  },
  {
   "cell_type": "code",
   "execution_count": 3,
   "metadata": {},
   "outputs": [],
   "source": [
    "SP_data = data_set[data_set['Application'] == 'SP']\n",
    "CG_data = data_set[data_set['Application'] == 'CG']\n",
    "FT_data = data_set[data_set['Application'] == 'FT']\n",
    "BT_data = data_set[data_set['Application'] == 'BT']\n",
    "LU_data = data_set[data_set['Application'] == 'LU']\n",
    "EP_data = data_set[data_set['Application'] == 'EP']\n",
    "MG_data = data_set[data_set['Application'] == 'MG']\n",
    "IS_data = data_set[data_set['Application'] == 'IS']"
   ]
  },
  {
   "cell_type": "code",
   "execution_count": 4,
   "metadata": {
    "scrolled": true
   },
   "outputs": [
    {
     "data": {
      "text/plain": [
       "Index(['Application', 'Perf_node01_branch_misses', 'Perf_node01_cache_misses',\n",
       "       'Perf_node01_cache_references', 'Perf_node01_instructions',\n",
       "       'Perf_node01_cpu_clock', 'Perf_node01_minor_faults',\n",
       "       'Perf_node01_page_faults', 'Perf_node01_task_clock',\n",
       "       'Perf_node01_L1_icache_loads', 'Perf_node01_LLC_loads',\n",
       "       'Perf_node01_branch_load_misses', 'Perf_node01_iTLB_load_misses',\n",
       "       'Perf_node01_iTLB_loads', 'Perf_node01_cpu_branch_misses_',\n",
       "       'Perf_node01_cpu_bus_cycles_', 'Perf_node01_cpu_cache_misses_',\n",
       "       'Perf_node01_cpu_cache_references_', 'Perf_node01_cpu_cpu_cycles_',\n",
       "       'Perf_node01_cpu_instructions_', 'Perf_node01_msr_aperf_',\n",
       "       'Perf_node01_msr_mperf_', 'Perf_node01_msr_tsc_',\n",
       "       'Perf_node01_power_energy_ram_', 'Perf_node01_cpu_ref_cycles_',\n",
       "       'Perf_node01_power_energy_pkg_'],\n",
       "      dtype='object')"
      ]
     },
     "execution_count": 4,
     "metadata": {},
     "output_type": "execute_result"
    }
   ],
   "source": [
    "SP_data = SP_data.drop(columns=['Perf_node01_power_energy_ram_.1'])\n",
    "SP_data.columns"
   ]
  },
  {
   "cell_type": "code",
   "execution_count": 6,
   "metadata": {},
   "outputs": [],
   "source": [
    "def cal_variable(name):\n",
    "    pre = 'pre_' + name\n",
    "    change = name + '_change'\n",
    "    SP_data[pre] = SP_data[name].shift(1).fillna(0)\n",
    "    SP_data[change] = (SP_data[name] - SP_data[pre]) / SP_data[pre]"
   ]
  },
  {
   "cell_type": "code",
   "execution_count": 7,
   "metadata": {},
   "outputs": [],
   "source": [
    "SP_data['total'] = SP_data['Perf_node01_power_energy_pkg_'] + SP_data['Perf_node01_power_energy_ram_']"
   ]
  },
  {
   "cell_type": "code",
   "execution_count": 33,
   "metadata": {},
   "outputs": [],
   "source": [
    "SP_data['pre_total'] = SP_data.total.shift(1).fillna(0)\n",
    "SP_data['power_change'] = (SP_data.total - SP_data.pre_total) / SP_data.pre_total"
   ]
  },
  {
   "cell_type": "code",
   "execution_count": 38,
   "metadata": {
    "scrolled": true
   },
   "outputs": [],
   "source": [
    "def cal_variable(name):\n",
    "    pre = 'pre_' + name\n",
    "    change = name + '_change'\n",
    "    SP_data[pre] = SP_data[name].shift(1).fillna(0)\n",
    "    SP_data[change] = (SP_data[name] - SP_data[pre]) / SP_data[pre]"
   ]
  },
  {
   "cell_type": "code",
   "execution_count": 8,
   "metadata": {},
   "outputs": [],
   "source": [
    "cal_variable('total')"
   ]
  },
  {
   "cell_type": "code",
   "execution_count": 11,
   "metadata": {},
   "outputs": [
    {
     "data": {
      "text/plain": [
       "Index(['Application', 'Perf_node01_branch_misses', 'Perf_node01_cache_misses',\n",
       "       'Perf_node01_cache_references', 'Perf_node01_instructions',\n",
       "       'Perf_node01_cpu_clock', 'Perf_node01_minor_faults',\n",
       "       'Perf_node01_page_faults', 'Perf_node01_task_clock',\n",
       "       'Perf_node01_L1_icache_loads', 'Perf_node01_LLC_loads',\n",
       "       'Perf_node01_branch_load_misses', 'Perf_node01_iTLB_load_misses',\n",
       "       'Perf_node01_iTLB_loads', 'Perf_node01_cpu_branch_misses_',\n",
       "       'Perf_node01_cpu_bus_cycles_', 'Perf_node01_cpu_cache_misses_',\n",
       "       'Perf_node01_cpu_cache_references_', 'Perf_node01_cpu_cpu_cycles_',\n",
       "       'Perf_node01_cpu_instructions_', 'Perf_node01_msr_aperf_',\n",
       "       'Perf_node01_msr_mperf_', 'Perf_node01_msr_tsc_',\n",
       "       'Perf_node01_power_energy_ram_', 'Perf_node01_cpu_ref_cycles_',\n",
       "       'Perf_node01_power_energy_pkg_', 'total', 'pre_total', 'total_change'],\n",
       "      dtype='object')"
      ]
     },
     "execution_count": 11,
     "metadata": {},
     "output_type": "execute_result"
    }
   ],
   "source": [
    "SP_data.columns"
   ]
  },
  {
   "cell_type": "code",
   "execution_count": 12,
   "metadata": {},
   "outputs": [],
   "source": [
    "cal_variable('Perf_node01_cpu_clock')"
   ]
  },
  {
   "cell_type": "code",
   "execution_count": 13,
   "metadata": {},
   "outputs": [],
   "source": [
    "cal_variable('Perf_node01_msr_tsc_')"
   ]
  },
  {
   "cell_type": "code",
   "execution_count": 14,
   "metadata": {},
   "outputs": [],
   "source": [
    "SP_data.to_csv('perf_SP.csv')"
   ]
  },
  {
   "cell_type": "code",
   "execution_count": null,
   "metadata": {},
   "outputs": [],
   "source": []
  }
 ],
 "metadata": {
  "kernelspec": {
   "display_name": "Python 3",
   "language": "python",
   "name": "python3"
  },
  "language_info": {
   "codemirror_mode": {
    "name": "ipython",
    "version": 3
   },
   "file_extension": ".py",
   "mimetype": "text/x-python",
   "name": "python",
   "nbconvert_exporter": "python",
   "pygments_lexer": "ipython3",
   "version": "3.7.4"
  }
 },
 "nbformat": 4,
 "nbformat_minor": 2
}
